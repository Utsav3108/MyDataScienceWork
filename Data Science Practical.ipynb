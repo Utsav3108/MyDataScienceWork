{
 "cells": [
  {
   "cell_type": "code",
   "execution_count": 290,
   "id": "c9d36fdb",
   "metadata": {},
   "outputs": [],
   "source": [
    "import pandas as pd\n",
    "import numpy as np\n",
    "import matplotlib.pyplot as plt\n",
    "import seaborn as sns"
   ]
  },
  {
   "cell_type": "code",
   "execution_count": 291,
   "id": "26df7c82",
   "metadata": {},
   "outputs": [],
   "source": [
    "std_data = pd.read_csv(\"Student Dataset (Responses) - Form Responses 1 (1).csv\")"
   ]
  },
  {
   "cell_type": "code",
   "execution_count": 292,
   "id": "03e4ba8c",
   "metadata": {},
   "outputs": [
    {
     "data": {
      "text/html": [
       "<div>\n",
       "<style scoped>\n",
       "    .dataframe tbody tr th:only-of-type {\n",
       "        vertical-align: middle;\n",
       "    }\n",
       "\n",
       "    .dataframe tbody tr th {\n",
       "        vertical-align: top;\n",
       "    }\n",
       "\n",
       "    .dataframe thead th {\n",
       "        text-align: right;\n",
       "    }\n",
       "</style>\n",
       "<table border=\"1\" class=\"dataframe\">\n",
       "  <thead>\n",
       "    <tr style=\"text-align: right;\">\n",
       "      <th></th>\n",
       "      <th>Timestamp</th>\n",
       "      <th>Your Name</th>\n",
       "      <th>Gender</th>\n",
       "      <th>Enrollment</th>\n",
       "      <th>Semester 1 Marks</th>\n",
       "      <th>Semester 2 Marks</th>\n",
       "      <th>Semester 3 Marks</th>\n",
       "      <th>Semester 4 Marks</th>\n",
       "      <th>Phone no.</th>\n",
       "      <th>City</th>\n",
       "    </tr>\n",
       "  </thead>\n",
       "  <tbody>\n",
       "    <tr>\n",
       "      <th>0</th>\n",
       "      <td>11/20/2022 16:07:44</td>\n",
       "      <td>Aditya Sharad Shinde</td>\n",
       "      <td>Male</td>\n",
       "      <td>2.000000e+11</td>\n",
       "      <td>8.68</td>\n",
       "      <td>7.70</td>\n",
       "      <td>7.87</td>\n",
       "      <td>7.91</td>\n",
       "      <td>7016363893</td>\n",
       "      <td>Ahmedabad</td>\n",
       "    </tr>\n",
       "    <tr>\n",
       "      <th>1</th>\n",
       "      <td>11/20/2022 18:59:29</td>\n",
       "      <td>Patel Shreyaben</td>\n",
       "      <td>Female</td>\n",
       "      <td>2.000000e+11</td>\n",
       "      <td>9.74</td>\n",
       "      <td>10.00</td>\n",
       "      <td>8.34</td>\n",
       "      <td>8.39</td>\n",
       "      <td>7016802144</td>\n",
       "      <td>Bharuch</td>\n",
       "    </tr>\n",
       "    <tr>\n",
       "      <th>2</th>\n",
       "      <td>11/20/2022 19:03:53</td>\n",
       "      <td>Kajal Tiwari</td>\n",
       "      <td>Female</td>\n",
       "      <td>2.000000e+11</td>\n",
       "      <td>8.90</td>\n",
       "      <td>9.30</td>\n",
       "      <td>8.60</td>\n",
       "      <td>8.43</td>\n",
       "      <td>8881261359</td>\n",
       "      <td>Modasa</td>\n",
       "    </tr>\n",
       "    <tr>\n",
       "      <th>3</th>\n",
       "      <td>11/20/2022 19:05:11</td>\n",
       "      <td>Patel Vidhiben Pravinbhai</td>\n",
       "      <td>Female</td>\n",
       "      <td>2.000000e+11</td>\n",
       "      <td>8.16</td>\n",
       "      <td>9.45</td>\n",
       "      <td>7.65</td>\n",
       "      <td>7.65</td>\n",
       "      <td>9638467587</td>\n",
       "      <td>Unjha</td>\n",
       "    </tr>\n",
       "    <tr>\n",
       "      <th>4</th>\n",
       "      <td>11/20/2022 19:07:04</td>\n",
       "      <td>Kesha Bodalwala</td>\n",
       "      <td>Female</td>\n",
       "      <td>2.000000e+11</td>\n",
       "      <td>8.16</td>\n",
       "      <td>9.05</td>\n",
       "      <td>8.15</td>\n",
       "      <td>7.00</td>\n",
       "      <td>9426279416</td>\n",
       "      <td>Bharuch</td>\n",
       "    </tr>\n",
       "    <tr>\n",
       "      <th>5</th>\n",
       "      <td>11/20/2022 20:52:53</td>\n",
       "      <td>Gor Het Mukesh</td>\n",
       "      <td>Female</td>\n",
       "      <td>2.000000e+11</td>\n",
       "      <td>9.15</td>\n",
       "      <td>9.25</td>\n",
       "      <td>7.96</td>\n",
       "      <td>6.70</td>\n",
       "      <td>9429819298</td>\n",
       "      <td>Bhuj</td>\n",
       "    </tr>\n",
       "    <tr>\n",
       "      <th>6</th>\n",
       "      <td>11/20/2022 21:56:26</td>\n",
       "      <td>Jigar Mistry</td>\n",
       "      <td>Male</td>\n",
       "      <td>2.000000e+11</td>\n",
       "      <td>7.00</td>\n",
       "      <td>7.00</td>\n",
       "      <td>7.00</td>\n",
       "      <td>7.00</td>\n",
       "      <td>9429520833</td>\n",
       "      <td>AHMEDABAD</td>\n",
       "    </tr>\n",
       "    <tr>\n",
       "      <th>7</th>\n",
       "      <td>11/20/2022 22:02:12</td>\n",
       "      <td>Aaseri Umesh Kishorbhai</td>\n",
       "      <td>Male</td>\n",
       "      <td>2.000000e+11</td>\n",
       "      <td>7.94</td>\n",
       "      <td>7.73</td>\n",
       "      <td>8.22</td>\n",
       "      <td>7.30</td>\n",
       "      <td>7405228635</td>\n",
       "      <td>Ahmedabad</td>\n",
       "    </tr>\n",
       "    <tr>\n",
       "      <th>8</th>\n",
       "      <td>11/20/2022 22:03:41</td>\n",
       "      <td>Singh Akash</td>\n",
       "      <td>Male</td>\n",
       "      <td>2.000000e+11</td>\n",
       "      <td>7.77</td>\n",
       "      <td>7.80</td>\n",
       "      <td>7.70</td>\n",
       "      <td>5.10</td>\n",
       "      <td>9104710227</td>\n",
       "      <td>Ahmedabad</td>\n",
       "    </tr>\n",
       "    <tr>\n",
       "      <th>9</th>\n",
       "      <td>11/21/2022 3:16:16</td>\n",
       "      <td>Sonali Gupta</td>\n",
       "      <td>Female</td>\n",
       "      <td>2.000000e+11</td>\n",
       "      <td>7.80</td>\n",
       "      <td>7.40</td>\n",
       "      <td>7.43</td>\n",
       "      <td>7.02</td>\n",
       "      <td>9622752373</td>\n",
       "      <td>Jammu</td>\n",
       "    </tr>\n",
       "    <tr>\n",
       "      <th>10</th>\n",
       "      <td>11/21/2022 9:14:42</td>\n",
       "      <td>Prutha Desai</td>\n",
       "      <td>Female</td>\n",
       "      <td>2.000000e+11</td>\n",
       "      <td>8.86</td>\n",
       "      <td>8.45</td>\n",
       "      <td>7.13</td>\n",
       "      <td>7.43</td>\n",
       "      <td>9727838527</td>\n",
       "      <td>Surat District</td>\n",
       "    </tr>\n",
       "    <tr>\n",
       "      <th>11</th>\n",
       "      <td>11/21/2022 11:57:58</td>\n",
       "      <td>Ved Panchal</td>\n",
       "      <td>Male</td>\n",
       "      <td>2.000000e+11</td>\n",
       "      <td>8.59</td>\n",
       "      <td>9.05</td>\n",
       "      <td>8.39</td>\n",
       "      <td>7.90</td>\n",
       "      <td>9104904657</td>\n",
       "      <td>Ahmedabad</td>\n",
       "    </tr>\n",
       "    <tr>\n",
       "      <th>12</th>\n",
       "      <td>11/21/2022 11:58:02</td>\n",
       "      <td>Patel Smit Shaileshbhai</td>\n",
       "      <td>Male</td>\n",
       "      <td>2.000000e+11</td>\n",
       "      <td>8.16</td>\n",
       "      <td>8.35</td>\n",
       "      <td>7.09</td>\n",
       "      <td>6.35</td>\n",
       "      <td>9157596767</td>\n",
       "      <td>Ahmedabad</td>\n",
       "    </tr>\n",
       "    <tr>\n",
       "      <th>13</th>\n",
       "      <td>11/21/2022 12:02:33</td>\n",
       "      <td>Utsav Hitendrabhai Pandya</td>\n",
       "      <td>Male</td>\n",
       "      <td>2.000000e+11</td>\n",
       "      <td>8.05</td>\n",
       "      <td>8.65</td>\n",
       "      <td>7.90</td>\n",
       "      <td>7.09</td>\n",
       "      <td>7574028087</td>\n",
       "      <td>Ahmedabad</td>\n",
       "    </tr>\n",
       "    <tr>\n",
       "      <th>14</th>\n",
       "      <td>11/21/2022 12:02:34</td>\n",
       "      <td>Panchal Maitri</td>\n",
       "      <td>NaN</td>\n",
       "      <td>2.000000e+11</td>\n",
       "      <td>7.90</td>\n",
       "      <td>8.05</td>\n",
       "      <td>8.00</td>\n",
       "      <td>NaN</td>\n",
       "      <td>9909456256</td>\n",
       "      <td>Bhuj</td>\n",
       "    </tr>\n",
       "    <tr>\n",
       "      <th>15</th>\n",
       "      <td>11/21/2022 12:02:35</td>\n",
       "      <td>Patel Rutul</td>\n",
       "      <td>Male</td>\n",
       "      <td>2.000000e+11</td>\n",
       "      <td>8.00</td>\n",
       "      <td>7.50</td>\n",
       "      <td>7.80</td>\n",
       "      <td>8.30</td>\n",
       "      <td>9789562562</td>\n",
       "      <td>Bhuj</td>\n",
       "    </tr>\n",
       "    <tr>\n",
       "      <th>16</th>\n",
       "      <td>11/21/2022 12:02:36</td>\n",
       "      <td>Makwana Priya</td>\n",
       "      <td>Female</td>\n",
       "      <td>2.000000e+11</td>\n",
       "      <td>8.50</td>\n",
       "      <td>8.70</td>\n",
       "      <td>7.90</td>\n",
       "      <td>7.50</td>\n",
       "      <td>9652745589</td>\n",
       "      <td>Unjha</td>\n",
       "    </tr>\n",
       "  </tbody>\n",
       "</table>\n",
       "</div>"
      ],
      "text/plain": [
       "              Timestamp                  Your Name  Gender    Enrollment  \\\n",
       "0   11/20/2022 16:07:44      Aditya Sharad Shinde     Male  2.000000e+11   \n",
       "1   11/20/2022 18:59:29           Patel Shreyaben   Female  2.000000e+11   \n",
       "2   11/20/2022 19:03:53              Kajal Tiwari   Female  2.000000e+11   \n",
       "3   11/20/2022 19:05:11  Patel Vidhiben Pravinbhai  Female  2.000000e+11   \n",
       "4   11/20/2022 19:07:04           Kesha Bodalwala   Female  2.000000e+11   \n",
       "5   11/20/2022 20:52:53            Gor Het Mukesh   Female  2.000000e+11   \n",
       "6   11/20/2022 21:56:26               Jigar Mistry    Male  2.000000e+11   \n",
       "7   11/20/2022 22:02:12   Aaseri Umesh Kishorbhai     Male  2.000000e+11   \n",
       "8   11/20/2022 22:03:41                Singh Akash    Male  2.000000e+11   \n",
       "9    11/21/2022 3:16:16              Sonali Gupta   Female  2.000000e+11   \n",
       "10   11/21/2022 9:14:42               Prutha Desai  Female  2.000000e+11   \n",
       "11  11/21/2022 11:57:58                Ved Panchal    Male  2.000000e+11   \n",
       "12  11/21/2022 11:58:02   Patel Smit Shaileshbhai     Male  2.000000e+11   \n",
       "13  11/21/2022 12:02:33  Utsav Hitendrabhai Pandya    Male  2.000000e+11   \n",
       "14  11/21/2022 12:02:34             Panchal Maitri     NaN  2.000000e+11   \n",
       "15  11/21/2022 12:02:35                Patel Rutul    Male  2.000000e+11   \n",
       "16  11/21/2022 12:02:36              Makwana Priya  Female  2.000000e+11   \n",
       "\n",
       "    Semester 1 Marks  Semester 2 Marks  Semester 3 Marks  Semester 4 Marks  \\\n",
       "0               8.68              7.70              7.87              7.91   \n",
       "1               9.74             10.00              8.34              8.39   \n",
       "2               8.90              9.30              8.60              8.43   \n",
       "3               8.16              9.45              7.65              7.65   \n",
       "4               8.16              9.05              8.15              7.00   \n",
       "5               9.15              9.25              7.96              6.70   \n",
       "6               7.00              7.00              7.00              7.00   \n",
       "7               7.94              7.73              8.22              7.30   \n",
       "8               7.77              7.80              7.70              5.10   \n",
       "9               7.80              7.40              7.43              7.02   \n",
       "10              8.86              8.45              7.13              7.43   \n",
       "11              8.59              9.05              8.39              7.90   \n",
       "12              8.16              8.35              7.09              6.35   \n",
       "13              8.05              8.65              7.90              7.09   \n",
       "14              7.90              8.05              8.00               NaN   \n",
       "15              8.00              7.50              7.80              8.30   \n",
       "16              8.50              8.70              7.90              7.50   \n",
       "\n",
       "     Phone no.            City  \n",
       "0   7016363893      Ahmedabad   \n",
       "1   7016802144         Bharuch  \n",
       "2   8881261359          Modasa  \n",
       "3   9638467587           Unjha  \n",
       "4   9426279416        Bharuch   \n",
       "5   9429819298            Bhuj  \n",
       "6   9429520833       AHMEDABAD  \n",
       "7   7405228635      Ahmedabad   \n",
       "8   9104710227       Ahmedabad  \n",
       "9   9622752373          Jammu   \n",
       "10  9727838527  Surat District  \n",
       "11  9104904657       Ahmedabad  \n",
       "12  9157596767      Ahmedabad   \n",
       "13  7574028087       Ahmedabad  \n",
       "14  9909456256            Bhuj  \n",
       "15  9789562562            Bhuj  \n",
       "16  9652745589           Unjha  "
      ]
     },
     "execution_count": 292,
     "metadata": {},
     "output_type": "execute_result"
    }
   ],
   "source": [
    "std_data"
   ]
  },
  {
   "cell_type": "markdown",
   "id": "3ae21cf6",
   "metadata": {},
   "source": [
    "."
   ]
  },
  {
   "cell_type": "markdown",
   "id": "06c020de",
   "metadata": {},
   "source": [
    "<h3>Here I will get the Mean, Standard deviation and Median(row = 50%)</h3>"
   ]
  },
  {
   "cell_type": "code",
   "execution_count": 293,
   "id": "043bbd46",
   "metadata": {},
   "outputs": [
    {
     "data": {
      "text/html": [
       "<div>\n",
       "<style scoped>\n",
       "    .dataframe tbody tr th:only-of-type {\n",
       "        vertical-align: middle;\n",
       "    }\n",
       "\n",
       "    .dataframe tbody tr th {\n",
       "        vertical-align: top;\n",
       "    }\n",
       "\n",
       "    .dataframe thead th {\n",
       "        text-align: right;\n",
       "    }\n",
       "</style>\n",
       "<table border=\"1\" class=\"dataframe\">\n",
       "  <thead>\n",
       "    <tr style=\"text-align: right;\">\n",
       "      <th></th>\n",
       "      <th>Enrollment</th>\n",
       "      <th>Semester 1 Marks</th>\n",
       "      <th>Semester 2 Marks</th>\n",
       "      <th>Semester 3 Marks</th>\n",
       "      <th>Semester 4 Marks</th>\n",
       "      <th>Phone no.</th>\n",
       "    </tr>\n",
       "  </thead>\n",
       "  <tbody>\n",
       "    <tr>\n",
       "      <th>count</th>\n",
       "      <td>1.700000e+01</td>\n",
       "      <td>17.000000</td>\n",
       "      <td>17.000000</td>\n",
       "      <td>17.000000</td>\n",
       "      <td>16.000000</td>\n",
       "      <td>1.700000e+01</td>\n",
       "    </tr>\n",
       "    <tr>\n",
       "      <th>mean</th>\n",
       "      <td>2.000000e+11</td>\n",
       "      <td>8.315294</td>\n",
       "      <td>8.437059</td>\n",
       "      <td>7.831176</td>\n",
       "      <td>7.316875</td>\n",
       "      <td>8.934549e+09</td>\n",
       "    </tr>\n",
       "    <tr>\n",
       "      <th>std</th>\n",
       "      <td>0.000000e+00</td>\n",
       "      <td>0.635218</td>\n",
       "      <td>0.842821</td>\n",
       "      <td>0.461991</td>\n",
       "      <td>0.847622</td>\n",
       "      <td>1.005777e+09</td>\n",
       "    </tr>\n",
       "    <tr>\n",
       "      <th>min</th>\n",
       "      <td>2.000000e+11</td>\n",
       "      <td>7.000000</td>\n",
       "      <td>7.000000</td>\n",
       "      <td>7.000000</td>\n",
       "      <td>5.100000</td>\n",
       "      <td>7.016364e+09</td>\n",
       "    </tr>\n",
       "    <tr>\n",
       "      <th>25%</th>\n",
       "      <td>2.000000e+11</td>\n",
       "      <td>7.940000</td>\n",
       "      <td>7.730000</td>\n",
       "      <td>7.650000</td>\n",
       "      <td>7.000000</td>\n",
       "      <td>8.881261e+09</td>\n",
       "    </tr>\n",
       "    <tr>\n",
       "      <th>50%</th>\n",
       "      <td>2.000000e+11</td>\n",
       "      <td>8.160000</td>\n",
       "      <td>8.450000</td>\n",
       "      <td>7.900000</td>\n",
       "      <td>7.365000</td>\n",
       "      <td>9.426279e+09</td>\n",
       "    </tr>\n",
       "    <tr>\n",
       "      <th>75%</th>\n",
       "      <td>2.000000e+11</td>\n",
       "      <td>8.680000</td>\n",
       "      <td>9.050000</td>\n",
       "      <td>8.150000</td>\n",
       "      <td>7.902500</td>\n",
       "      <td>9.638468e+09</td>\n",
       "    </tr>\n",
       "    <tr>\n",
       "      <th>max</th>\n",
       "      <td>2.000000e+11</td>\n",
       "      <td>9.740000</td>\n",
       "      <td>10.000000</td>\n",
       "      <td>8.600000</td>\n",
       "      <td>8.430000</td>\n",
       "      <td>9.909456e+09</td>\n",
       "    </tr>\n",
       "  </tbody>\n",
       "</table>\n",
       "</div>"
      ],
      "text/plain": [
       "         Enrollment  Semester 1 Marks  Semester 2 Marks  Semester 3 Marks  \\\n",
       "count  1.700000e+01         17.000000         17.000000         17.000000   \n",
       "mean   2.000000e+11          8.315294          8.437059          7.831176   \n",
       "std    0.000000e+00          0.635218          0.842821          0.461991   \n",
       "min    2.000000e+11          7.000000          7.000000          7.000000   \n",
       "25%    2.000000e+11          7.940000          7.730000          7.650000   \n",
       "50%    2.000000e+11          8.160000          8.450000          7.900000   \n",
       "75%    2.000000e+11          8.680000          9.050000          8.150000   \n",
       "max    2.000000e+11          9.740000         10.000000          8.600000   \n",
       "\n",
       "       Semester 4 Marks     Phone no.  \n",
       "count         16.000000  1.700000e+01  \n",
       "mean           7.316875  8.934549e+09  \n",
       "std            0.847622  1.005777e+09  \n",
       "min            5.100000  7.016364e+09  \n",
       "25%            7.000000  8.881261e+09  \n",
       "50%            7.365000  9.426279e+09  \n",
       "75%            7.902500  9.638468e+09  \n",
       "max            8.430000  9.909456e+09  "
      ]
     },
     "execution_count": 293,
     "metadata": {},
     "output_type": "execute_result"
    }
   ],
   "source": [
    "std_data.describe()"
   ]
  },
  {
   "cell_type": "markdown",
   "id": "f063e42c",
   "metadata": {},
   "source": [
    "<h3>Skewness, Kurotsis and Mode</h3>"
   ]
  },
  {
   "cell_type": "markdown",
   "id": "ad33daee",
   "metadata": {},
   "source": [
    "<p><b>Skewness</b></p>"
   ]
  },
  {
   "cell_type": "code",
   "execution_count": 294,
   "id": "58eb454b",
   "metadata": {},
   "outputs": [],
   "source": [
    "import scipy.stats as sc"
   ]
  },
  {
   "cell_type": "code",
   "execution_count": 295,
   "id": "38ddca47",
   "metadata": {},
   "outputs": [
    {
     "data": {
      "text/html": [
       "<div>\n",
       "<style scoped>\n",
       "    .dataframe tbody tr th:only-of-type {\n",
       "        vertical-align: middle;\n",
       "    }\n",
       "\n",
       "    .dataframe tbody tr th {\n",
       "        vertical-align: top;\n",
       "    }\n",
       "\n",
       "    .dataframe thead th {\n",
       "        text-align: right;\n",
       "    }\n",
       "</style>\n",
       "<table border=\"1\" class=\"dataframe\">\n",
       "  <thead>\n",
       "    <tr style=\"text-align: right;\">\n",
       "      <th></th>\n",
       "      <th>Columns</th>\n",
       "      <th>Skew</th>\n",
       "    </tr>\n",
       "  </thead>\n",
       "  <tbody>\n",
       "    <tr>\n",
       "      <th>0</th>\n",
       "      <td>Semester 1 Marks</td>\n",
       "      <td>0.289131</td>\n",
       "    </tr>\n",
       "    <tr>\n",
       "      <th>1</th>\n",
       "      <td>Semester 2 Marks</td>\n",
       "      <td>0.059026</td>\n",
       "    </tr>\n",
       "    <tr>\n",
       "      <th>2</th>\n",
       "      <td>Semester 3 Marks</td>\n",
       "      <td>-0.352397</td>\n",
       "    </tr>\n",
       "    <tr>\n",
       "      <th>3</th>\n",
       "      <td>Semester 4 Marks</td>\n",
       "      <td>NaN</td>\n",
       "    </tr>\n",
       "  </tbody>\n",
       "</table>\n",
       "</div>"
      ],
      "text/plain": [
       "            Columns      Skew\n",
       "0  Semester 1 Marks  0.289131\n",
       "1  Semester 2 Marks  0.059026\n",
       "2  Semester 3 Marks -0.352397\n",
       "3  Semester 4 Marks       NaN"
      ]
     },
     "execution_count": 295,
     "metadata": {},
     "output_type": "execute_result"
    }
   ],
   "source": [
    "columns = ['Semester 1 Marks','Semester 2 Marks','Semester 3 Marks','Semester 4 Marks']\n",
    "sk_array = []\n",
    "for col in columns:\n",
    "    sk_array.append(sc.skew(std_data[col]))\n",
    "table_sk = {'Columns':columns,'Skew':sk_array}\n",
    "pd.DataFrame(table_sk)"
   ]
  },
  {
   "cell_type": "markdown",
   "id": "2dc341ff",
   "metadata": {},
   "source": [
    "<p><b>Kurtosis</b></p>"
   ]
  },
  {
   "cell_type": "code",
   "execution_count": 296,
   "id": "be3fa1dc",
   "metadata": {},
   "outputs": [],
   "source": [
    "k_array = []\n",
    "for col in columns:\n",
    "    k_array.append(sc.kurtosis(std_data[col]))\n",
    "table_k = {'Columns':columns,'Kurtosis':k_array}\n"
   ]
  },
  {
   "cell_type": "code",
   "execution_count": 297,
   "id": "b38f01b1",
   "metadata": {},
   "outputs": [
    {
     "data": {
      "text/html": [
       "<div>\n",
       "<style scoped>\n",
       "    .dataframe tbody tr th:only-of-type {\n",
       "        vertical-align: middle;\n",
       "    }\n",
       "\n",
       "    .dataframe tbody tr th {\n",
       "        vertical-align: top;\n",
       "    }\n",
       "\n",
       "    .dataframe thead th {\n",
       "        text-align: right;\n",
       "    }\n",
       "</style>\n",
       "<table border=\"1\" class=\"dataframe\">\n",
       "  <thead>\n",
       "    <tr style=\"text-align: right;\">\n",
       "      <th></th>\n",
       "      <th>Columns</th>\n",
       "      <th>Kurtosis</th>\n",
       "    </tr>\n",
       "  </thead>\n",
       "  <tbody>\n",
       "    <tr>\n",
       "      <th>0</th>\n",
       "      <td>Semester 1 Marks</td>\n",
       "      <td>0.284521</td>\n",
       "    </tr>\n",
       "    <tr>\n",
       "      <th>1</th>\n",
       "      <td>Semester 2 Marks</td>\n",
       "      <td>-0.996314</td>\n",
       "    </tr>\n",
       "    <tr>\n",
       "      <th>2</th>\n",
       "      <td>Semester 3 Marks</td>\n",
       "      <td>-0.673025</td>\n",
       "    </tr>\n",
       "    <tr>\n",
       "      <th>3</th>\n",
       "      <td>Semester 4 Marks</td>\n",
       "      <td>NaN</td>\n",
       "    </tr>\n",
       "  </tbody>\n",
       "</table>\n",
       "</div>"
      ],
      "text/plain": [
       "            Columns  Kurtosis\n",
       "0  Semester 1 Marks  0.284521\n",
       "1  Semester 2 Marks -0.996314\n",
       "2  Semester 3 Marks -0.673025\n",
       "3  Semester 4 Marks       NaN"
      ]
     },
     "execution_count": 297,
     "metadata": {},
     "output_type": "execute_result"
    }
   ],
   "source": [
    "pd.DataFrame(table_k)"
   ]
  },
  {
   "cell_type": "markdown",
   "id": "6204981d",
   "metadata": {},
   "source": [
    "<p><b>Mode</b></p>"
   ]
  },
  {
   "cell_type": "code",
   "execution_count": 298,
   "id": "a5beed5c",
   "metadata": {},
   "outputs": [],
   "source": [
    "import statistics"
   ]
  },
  {
   "cell_type": "code",
   "execution_count": 299,
   "id": "b0379a47",
   "metadata": {},
   "outputs": [],
   "source": [
    "md_array = []\n",
    "for q in columns:\n",
    "    md_array.append(statistics.mode(std_data[q]))\n",
    "    \n",
    "table_md = {'Columns':columns,'Mode':md_array}"
   ]
  },
  {
   "cell_type": "code",
   "execution_count": 300,
   "id": "469b2dd0",
   "metadata": {},
   "outputs": [
    {
     "data": {
      "text/html": [
       "<div>\n",
       "<style scoped>\n",
       "    .dataframe tbody tr th:only-of-type {\n",
       "        vertical-align: middle;\n",
       "    }\n",
       "\n",
       "    .dataframe tbody tr th {\n",
       "        vertical-align: top;\n",
       "    }\n",
       "\n",
       "    .dataframe thead th {\n",
       "        text-align: right;\n",
       "    }\n",
       "</style>\n",
       "<table border=\"1\" class=\"dataframe\">\n",
       "  <thead>\n",
       "    <tr style=\"text-align: right;\">\n",
       "      <th></th>\n",
       "      <th>Columns</th>\n",
       "      <th>Mode</th>\n",
       "    </tr>\n",
       "  </thead>\n",
       "  <tbody>\n",
       "    <tr>\n",
       "      <th>0</th>\n",
       "      <td>Semester 1 Marks</td>\n",
       "      <td>8.16</td>\n",
       "    </tr>\n",
       "    <tr>\n",
       "      <th>1</th>\n",
       "      <td>Semester 2 Marks</td>\n",
       "      <td>9.05</td>\n",
       "    </tr>\n",
       "    <tr>\n",
       "      <th>2</th>\n",
       "      <td>Semester 3 Marks</td>\n",
       "      <td>7.90</td>\n",
       "    </tr>\n",
       "    <tr>\n",
       "      <th>3</th>\n",
       "      <td>Semester 4 Marks</td>\n",
       "      <td>7.00</td>\n",
       "    </tr>\n",
       "  </tbody>\n",
       "</table>\n",
       "</div>"
      ],
      "text/plain": [
       "            Columns  Mode\n",
       "0  Semester 1 Marks  8.16\n",
       "1  Semester 2 Marks  9.05\n",
       "2  Semester 3 Marks  7.90\n",
       "3  Semester 4 Marks  7.00"
      ]
     },
     "execution_count": 300,
     "metadata": {},
     "output_type": "execute_result"
    }
   ],
   "source": [
    "pd.DataFrame(table_md)"
   ]
  },
  {
   "cell_type": "markdown",
   "id": "08383092",
   "metadata": {},
   "source": [
    "."
   ]
  },
  {
   "cell_type": "markdown",
   "id": "d75491b1",
   "metadata": {},
   "source": [
    "."
   ]
  },
  {
   "cell_type": "markdown",
   "id": "45d25e72",
   "metadata": {},
   "source": [
    "."
   ]
  },
  {
   "cell_type": "markdown",
   "id": "91769883",
   "metadata": {},
   "source": [
    "<h1>The graph of Geographical locations of Students</h1>"
   ]
  },
  {
   "cell_type": "code",
   "execution_count": 301,
   "id": "db3ebdbc",
   "metadata": {},
   "outputs": [],
   "source": [
    "def lowerText(data):\n",
    "    data = data.split(' ')[0]\n",
    "    return data.lower()"
   ]
  },
  {
   "cell_type": "code",
   "execution_count": 302,
   "id": "b941d2a1",
   "metadata": {},
   "outputs": [],
   "source": [
    "std_data['City'] = std_data['City'].apply(lowerText)\n",
    "city_cnt = std_data.City.value_counts().to_dict()"
   ]
  },
  {
   "cell_type": "code",
   "execution_count": 303,
   "id": "d0c5ace5",
   "metadata": {},
   "outputs": [
    {
     "data": {
      "text/plain": [
       "Text(0.5, 1.0, 'Geopolitical locations of students')"
      ]
     },
     "execution_count": 303,
     "metadata": {},
     "output_type": "execute_result"
    },
    {
     "data": {
      "image/png": "[encoded data removed]",
      "text/plain": [
       "<Figure size 720x360 with 1 Axes>"
      ]
     },
     "metadata": {
      "needs_background": "light"
     },
     "output_type": "display_data"
    }
   ],
   "source": [
    "plt.subplots(figsize = (10,5))\n",
    "plt.bar(city_cnt.keys(),city_cnt.values())\n",
    "plt.title(\"Geopolitical locations of students\")"
   ]
  },
  {
   "cell_type": "markdown",
   "id": "363fa017",
   "metadata": {},
   "source": [
    "<h3>Graph showing no. of males and females</h3>"
   ]
  },
  {
   "cell_type": "code",
   "execution_count": 304,
   "id": "7219c8c4",
   "metadata": {},
   "outputs": [],
   "source": [
    "gender_cnt = std_data.Gender.value_counts().to_dict()"
   ]
  },
  {
   "cell_type": "code",
   "execution_count": 305,
   "id": "65561f02",
   "metadata": {},
   "outputs": [
    {
     "data": {
      "text/plain": [
       "Text(0.5, 1.0, 'No. of Male and Female students')"
      ]
     },
     "execution_count": 305,
     "metadata": {},
     "output_type": "execute_result"
    },
    {
     "data": {
      "image/png": "[encoded data removed]",
      "text/plain": [
       "<Figure size 720x360 with 1 Axes>"
      ]
     },
     "metadata": {},
     "output_type": "display_data"
    }
   ],
   "source": [
    "plt.subplots(figsize = (10,5))\n",
    "plt.pie(gender_cnt.values(),labels=gender_cnt.keys())\n",
    "plt.title(\"No. of Male and Female students\")"
   ]
  },
  {
   "cell_type": "markdown",
   "id": "d714037d",
   "metadata": {},
   "source": [
    "<h3>Graph of Marks of each Student for each Semester</h3>"
   ]
  },
  {
   "cell_type": "code",
   "execution_count": 306,
   "id": "1cd91904",
   "metadata": {},
   "outputs": [
    {
     "data": {
      "image/png": "[encoded data removed]",
      "text/plain": [
       "<Figure size 1440x2880 with 14 Axes>"
      ]
     },
     "metadata": {
      "needs_background": "light"
     },
     "output_type": "display_data"
    }
   ],
   "source": [
    "df_melt = std_data.melt(value_vars=['Semester 1 Marks','Semester 2 Marks','Semester 3 Marks','Semester 4 Marks'],\n",
    "                        id_vars=['Your Name'],\n",
    "                        var_name='Semester')\n",
    "\n",
    "rows = 7\n",
    "cols = 2\n",
    "f,a = plt.subplots(rows,cols,figsize=((20,40)))\n",
    "i = 0\n",
    "name_idx = 0    \n",
    "while (name_idx < len(std_data['Your Name'])):\n",
    "    for col in range(cols):\n",
    "        name = std_data['Your Name'][name_idx]\n",
    "        mini_df = df_melt.loc[df_melt['Your Name'] == name]\n",
    "        sns.barplot(x='Semester',y='value',data=mini_df, ax=a[i,col])\n",
    "        a[i,col].set_title(name)\n",
    "        name_idx = name_idx + 1    \n",
    "    i = i + 1\n",
    "    if i == rows:\n",
    "        break           "
   ]
  },
  {
   "cell_type": "markdown",
   "id": "06fc5c76",
   "metadata": {},
   "source": [
    "."
   ]
  },
  {
   "cell_type": "markdown",
   "id": "49570e0d",
   "metadata": {},
   "source": [
    "."
   ]
  },
  {
   "cell_type": "markdown",
   "id": "6b40301c",
   "metadata": {},
   "source": [
    "."
   ]
  },
  {
   "cell_type": "markdown",
   "id": "d67c2493",
   "metadata": {},
   "source": [
    "."
   ]
  },
  {
   "cell_type": "markdown",
   "id": "4ce490cf",
   "metadata": {},
   "source": [
    "."
   ]
  },
  {
   "cell_type": "markdown",
   "id": "d076ee4d",
   "metadata": {},
   "source": [
    "."
   ]
  },
  {
   "cell_type": "markdown",
   "id": "38acc2e0",
   "metadata": {},
   "source": [
    "."
   ]
  },
  {
   "cell_type": "markdown",
   "id": "370db18a",
   "metadata": {},
   "source": [
    "<h1>Treating the Missing values</h1>"
   ]
  },
  {
   "cell_type": "code",
   "execution_count": 307,
   "id": "ce33af0b",
   "metadata": {},
   "outputs": [
    {
     "data": {
      "text/html": [
       "<div>\n",
       "<style scoped>\n",
       "    .dataframe tbody tr th:only-of-type {\n",
       "        vertical-align: middle;\n",
       "    }\n",
       "\n",
       "    .dataframe tbody tr th {\n",
       "        vertical-align: top;\n",
       "    }\n",
       "\n",
       "    .dataframe thead th {\n",
       "        text-align: right;\n",
       "    }\n",
       "</style>\n",
       "<table border=\"1\" class=\"dataframe\">\n",
       "  <thead>\n",
       "    <tr style=\"text-align: right;\">\n",
       "      <th></th>\n",
       "      <th>Timestamp</th>\n",
       "      <th>Your Name</th>\n",
       "      <th>Gender</th>\n",
       "      <th>Enrollment</th>\n",
       "      <th>Semester 1 Marks</th>\n",
       "      <th>Semester 2 Marks</th>\n",
       "      <th>Semester 3 Marks</th>\n",
       "      <th>Semester 4 Marks</th>\n",
       "      <th>Phone no.</th>\n",
       "      <th>City</th>\n",
       "    </tr>\n",
       "  </thead>\n",
       "  <tbody>\n",
       "    <tr>\n",
       "      <th>14</th>\n",
       "      <td>11/21/2022 12:02:34</td>\n",
       "      <td>Panchal Maitri</td>\n",
       "      <td>NaN</td>\n",
       "      <td>2.000000e+11</td>\n",
       "      <td>7.9</td>\n",
       "      <td>8.05</td>\n",
       "      <td>8.0</td>\n",
       "      <td>NaN</td>\n",
       "      <td>9909456256</td>\n",
       "      <td>bhuj</td>\n",
       "    </tr>\n",
       "  </tbody>\n",
       "</table>\n",
       "</div>"
      ],
      "text/plain": [
       "              Timestamp       Your Name Gender    Enrollment  \\\n",
       "14  11/21/2022 12:02:34  Panchal Maitri    NaN  2.000000e+11   \n",
       "\n",
       "    Semester 1 Marks  Semester 2 Marks  Semester 3 Marks  Semester 4 Marks  \\\n",
       "14               7.9              8.05               8.0               NaN   \n",
       "\n",
       "     Phone no.  City  \n",
       "14  9909456256  bhuj  "
      ]
     },
     "execution_count": 307,
     "metadata": {},
     "output_type": "execute_result"
    }
   ],
   "source": [
    "std_data.loc[std_data.Gender.isnull()]"
   ]
  },
  {
   "cell_type": "markdown",
   "id": "c17a2ff7",
   "metadata": {},
   "source": [
    "<h3>For Missing value in Gender</h3>"
   ]
  },
  {
   "cell_type": "code",
   "execution_count": 308,
   "id": "a743b0dd",
   "metadata": {},
   "outputs": [
    {
     "data": {
      "text/plain": [
       "Male      8\n",
       "Female    8\n",
       "Name: Gender, dtype: int64"
      ]
     },
     "execution_count": 308,
     "metadata": {},
     "output_type": "execute_result"
    }
   ],
   "source": [
    "std_data.Gender.value_counts()"
   ]
  },
  {
   "cell_type": "markdown",
   "id": "95f9d1c2",
   "metadata": {},
   "source": [
    "<p>As No. of Males and females are equal we can go with either of them</p>"
   ]
  },
  {
   "cell_type": "code",
   "execution_count": 309,
   "id": "35689071",
   "metadata": {},
   "outputs": [],
   "source": [
    "std_data.Gender = std_data.Gender.fillna('Female')"
   ]
  },
  {
   "cell_type": "code",
   "execution_count": 310,
   "id": "27dcf398",
   "metadata": {},
   "outputs": [
    {
     "data": {
      "text/plain": [
       "Timestamp           11/21/2022 12:02:34\n",
       "Your Name                Panchal Maitri\n",
       "Gender                           Female\n",
       "Enrollment               200000000000.0\n",
       "Semester 1 Marks                    7.9\n",
       "Semester 2 Marks                   8.05\n",
       "Semester 3 Marks                    8.0\n",
       "Semester 4 Marks                    NaN\n",
       "Phone no.                    9909456256\n",
       "City                               bhuj\n",
       "Name: 14, dtype: object"
      ]
     },
     "execution_count": 310,
     "metadata": {},
     "output_type": "execute_result"
    }
   ],
   "source": [
    "std_data.loc[14]"
   ]
  },
  {
   "cell_type": "markdown",
   "id": "5cae2ec1",
   "metadata": {},
   "source": [
    "<p>Gender has been updated to Female</p>"
   ]
  },
  {
   "cell_type": "markdown",
   "id": "d79d3620",
   "metadata": {},
   "source": [
    "<h3>For missing value in Marks</h3>"
   ]
  },
  {
   "cell_type": "markdown",
   "id": "6289ff9c",
   "metadata": {},
   "source": [
    "<p>Semester 4 Marks of 14th entry is Missing! Let's updated it with mean value of past data</p>"
   ]
  },
  {
   "cell_type": "code",
   "execution_count": 311,
   "id": "ac781632",
   "metadata": {},
   "outputs": [],
   "source": [
    "mean_value = df_melt.loc[df_melt['Your Name'] == 'Panchal Maitri'].value.mean()"
   ]
  },
  {
   "cell_type": "code",
   "execution_count": 312,
   "id": "4d83c44e",
   "metadata": {},
   "outputs": [],
   "source": [
    "std_data['Semester 4 Marks'] = std_data['Semester 4 Marks'].fillna(mean_value)"
   ]
  },
  {
   "cell_type": "code",
   "execution_count": 313,
   "id": "0856142b",
   "metadata": {},
   "outputs": [
    {
     "data": {
      "text/plain": [
       "Timestamp           11/21/2022 12:02:34\n",
       "Your Name                Panchal Maitri\n",
       "Gender                           Female\n",
       "Enrollment               200000000000.0\n",
       "Semester 1 Marks                    7.9\n",
       "Semester 2 Marks                   8.05\n",
       "Semester 3 Marks                    8.0\n",
       "Semester 4 Marks               7.983333\n",
       "Phone no.                    9909456256\n",
       "City                               bhuj\n",
       "Name: 14, dtype: object"
      ]
     },
     "execution_count": 313,
     "metadata": {},
     "output_type": "execute_result"
    }
   ],
   "source": [
    "std_data.loc[14]"
   ]
  },
  {
   "cell_type": "markdown",
   "id": "ba5ba3b6",
   "metadata": {},
   "source": [
    "<p>Semester 4 Marks has been updated</p>"
   ]
  },
  {
   "cell_type": "markdown",
   "id": "6ca8d359",
   "metadata": {},
   "source": [
    "."
   ]
  },
  {
   "cell_type": "markdown",
   "id": "9fc7d788",
   "metadata": {},
   "source": [
    "."
   ]
  },
  {
   "cell_type": "markdown",
   "id": "502ceb3b",
   "metadata": {},
   "source": [
    "."
   ]
  },
  {
   "cell_type": "markdown",
   "id": "563dff49",
   "metadata": {},
   "source": [
    "."
   ]
  },
  {
   "cell_type": "markdown",
   "id": "cc7066d9",
   "metadata": {},
   "source": [
    "."
   ]
  },
  {
   "cell_type": "markdown",
   "id": "362614c3",
   "metadata": {},
   "source": [
    "."
   ]
  },
  {
   "cell_type": "markdown",
   "id": "376f286a",
   "metadata": {},
   "source": [
    "."
   ]
  },
  {
   "cell_type": "markdown",
   "id": "6e7a1f00",
   "metadata": {},
   "source": [
    "."
   ]
  },
  {
   "cell_type": "markdown",
   "id": "49c4d0cd",
   "metadata": {},
   "source": [
    "."
   ]
  },
  {
   "cell_type": "markdown",
   "id": "c8c0d70b",
   "metadata": {},
   "source": [
    "."
   ]
  },
  {
   "cell_type": "markdown",
   "id": "4027504d",
   "metadata": {},
   "source": [
    "."
   ]
  },
  {
   "cell_type": "markdown",
   "id": "83cb0429",
   "metadata": {},
   "source": [
    "<h1>Implementing Linear Regression</h1>"
   ]
  },
  {
   "cell_type": "code",
   "execution_count": 314,
   "id": "8e341c82",
   "metadata": {},
   "outputs": [],
   "source": [
    "df_melt1 = std_data.melt(value_vars=['Semester 1 Marks','Semester 2 Marks','Semester 3 Marks','Semester 4 Marks'],\n",
    "                        id_vars=['Your Name'],\n",
    "                        var_name='Semester')"
   ]
  },
  {
   "cell_type": "code",
   "execution_count": 315,
   "id": "267ee8c6",
   "metadata": {},
   "outputs": [],
   "source": [
    "def SemesterMarks(data):\n",
    "    if data == 'Semester 1 Marks':\n",
    "        return 1\n",
    "    elif data == 'Semester 2 Marks':\n",
    "        return 2\n",
    "    elif data == 'Semester 3 Marks':\n",
    "        return 3\n",
    "    elif data == 'Semester 4 Marks':\n",
    "        return 4\n",
    "    \n",
    "df_melt1.Semester = df_melt.Semester.apply(SemesterMarks)"
   ]
  },
  {
   "cell_type": "code",
   "execution_count": 316,
   "id": "487c6311",
   "metadata": {},
   "outputs": [
    {
     "data": {
      "text/html": [
       "<div>\n",
       "<style scoped>\n",
       "    .dataframe tbody tr th:only-of-type {\n",
       "        vertical-align: middle;\n",
       "    }\n",
       "\n",
       "    .dataframe tbody tr th {\n",
       "        vertical-align: top;\n",
       "    }\n",
       "\n",
       "    .dataframe thead th {\n",
       "        text-align: right;\n",
       "    }\n",
       "</style>\n",
       "<table border=\"1\" class=\"dataframe\">\n",
       "  <thead>\n",
       "    <tr style=\"text-align: right;\">\n",
       "      <th></th>\n",
       "      <th>Your Name</th>\n",
       "      <th>Semester</th>\n",
       "      <th>value</th>\n",
       "    </tr>\n",
       "  </thead>\n",
       "  <tbody>\n",
       "    <tr>\n",
       "      <th>0</th>\n",
       "      <td>Aditya Sharad Shinde</td>\n",
       "      <td>1</td>\n",
       "      <td>8.680000</td>\n",
       "    </tr>\n",
       "    <tr>\n",
       "      <th>1</th>\n",
       "      <td>Patel Shreyaben</td>\n",
       "      <td>1</td>\n",
       "      <td>9.740000</td>\n",
       "    </tr>\n",
       "    <tr>\n",
       "      <th>2</th>\n",
       "      <td>Kajal Tiwari</td>\n",
       "      <td>1</td>\n",
       "      <td>8.900000</td>\n",
       "    </tr>\n",
       "    <tr>\n",
       "      <th>3</th>\n",
       "      <td>Patel Vidhiben Pravinbhai</td>\n",
       "      <td>1</td>\n",
       "      <td>8.160000</td>\n",
       "    </tr>\n",
       "    <tr>\n",
       "      <th>4</th>\n",
       "      <td>Kesha Bodalwala</td>\n",
       "      <td>1</td>\n",
       "      <td>8.160000</td>\n",
       "    </tr>\n",
       "    <tr>\n",
       "      <th>...</th>\n",
       "      <td>...</td>\n",
       "      <td>...</td>\n",
       "      <td>...</td>\n",
       "    </tr>\n",
       "    <tr>\n",
       "      <th>63</th>\n",
       "      <td>Patel Smit Shaileshbhai</td>\n",
       "      <td>4</td>\n",
       "      <td>6.350000</td>\n",
       "    </tr>\n",
       "    <tr>\n",
       "      <th>64</th>\n",
       "      <td>Utsav Hitendrabhai Pandya</td>\n",
       "      <td>4</td>\n",
       "      <td>7.090000</td>\n",
       "    </tr>\n",
       "    <tr>\n",
       "      <th>65</th>\n",
       "      <td>Panchal Maitri</td>\n",
       "      <td>4</td>\n",
       "      <td>7.983333</td>\n",
       "    </tr>\n",
       "    <tr>\n",
       "      <th>66</th>\n",
       "      <td>Patel Rutul</td>\n",
       "      <td>4</td>\n",
       "      <td>8.300000</td>\n",
       "    </tr>\n",
       "    <tr>\n",
       "      <th>67</th>\n",
       "      <td>Makwana Priya</td>\n",
       "      <td>4</td>\n",
       "      <td>7.500000</td>\n",
       "    </tr>\n",
       "  </tbody>\n",
       "</table>\n",
       "<p>68 rows × 3 columns</p>\n",
       "</div>"
      ],
      "text/plain": [
       "                    Your Name  Semester     value\n",
       "0       Aditya Sharad Shinde          1  8.680000\n",
       "1            Patel Shreyaben          1  9.740000\n",
       "2               Kajal Tiwari          1  8.900000\n",
       "3   Patel Vidhiben Pravinbhai         1  8.160000\n",
       "4            Kesha Bodalwala          1  8.160000\n",
       "..                        ...       ...       ...\n",
       "63   Patel Smit Shaileshbhai          4  6.350000\n",
       "64  Utsav Hitendrabhai Pandya         4  7.090000\n",
       "65             Panchal Maitri         4  7.983333\n",
       "66                Patel Rutul         4  8.300000\n",
       "67              Makwana Priya         4  7.500000\n",
       "\n",
       "[68 rows x 3 columns]"
      ]
     },
     "execution_count": 316,
     "metadata": {},
     "output_type": "execute_result"
    }
   ],
   "source": [
    "df_melt1"
   ]
  },
  {
   "cell_type": "code",
   "execution_count": 317,
   "id": "6a3734e9",
   "metadata": {},
   "outputs": [],
   "source": [
    "from sklearn.linear_model import LinearRegression"
   ]
  },
  {
   "cell_type": "code",
   "execution_count": 318,
   "id": "178c8c18",
   "metadata": {},
   "outputs": [],
   "source": [
    "def LinearREgression(name,sem):\n",
    "    PM = df_melt1.loc[df_melt1['Your Name'] == name]\n",
    "    X = np.array(PM['Semester']).reshape(-1,1)\n",
    "    y = np.array(PM['value']).reshape(-1,1)\n",
    "    clf = LinearRegression()\n",
    "    clf.fit(X,y)\n",
    "    pred = clf.predict([[sem]])\n",
    "    coefs = clf.coef_\n",
    "    return {'Pred':pred,'Coef':coefs}"
   ]
  },
  {
   "cell_type": "code",
   "execution_count": 319,
   "id": "3e534b4f",
   "metadata": {},
   "outputs": [
    {
     "data": {
      "text/plain": [
       "{'Pred': array([[8.03333333]]), 'Coef': array([[0.02]])}"
      ]
     },
     "execution_count": 319,
     "metadata": {},
     "output_type": "execute_result"
    }
   ],
   "source": [
    "LinearREgression('Panchal Maitri',5)"
   ]
  },
  {
   "cell_type": "markdown",
   "id": "cc5a4ef7",
   "metadata": {},
   "source": [
    "<h1>Implementing Logistic Regression</h1>"
   ]
  },
  {
   "cell_type": "code",
   "execution_count": 320,
   "id": "a73481e5",
   "metadata": {},
   "outputs": [],
   "source": [
    "from sklearn.linear_model import LogisticRegression"
   ]
  },
  {
   "cell_type": "code",
   "execution_count": 321,
   "id": "eb90d032",
   "metadata": {},
   "outputs": [],
   "source": [
    "std_data['Avg of 4 sem'] = std_data[['Semester 1 Marks','Semester 2 Marks','Semester 3 Marks','Semester 4 Marks']].mean(axis=1)"
   ]
  },
  {
   "cell_type": "code",
   "execution_count": 324,
   "id": "c4e6b353",
   "metadata": {},
   "outputs": [],
   "source": [
    "def classify(data):\n",
    "    status = {'Clever':1,'Average':0}\n",
    "    if data > std_data['Avg of 4 sem'].mean():\n",
    "        return status['Clever']\n",
    "    else: \n",
    "        return status['Average']  "
   ]
  },
  {
   "cell_type": "code",
   "execution_count": 325,
   "id": "4da1e33a",
   "metadata": {},
   "outputs": [],
   "source": [
    "std_data[\"status\"] = std_data['Avg of 4 sem'].apply(classify)"
   ]
  },
  {
   "cell_type": "code",
   "execution_count": 327,
   "id": "3f894342",
   "metadata": {},
   "outputs": [
    {
     "data": {
      "text/plain": [
       "LogisticRegression()"
      ]
     },
     "execution_count": 327,
     "metadata": {},
     "output_type": "execute_result"
    }
   ],
   "source": [
    "X = np.array(std_data['Avg of 4 sem']).reshape(-1,1)\n",
    "y = np.array(std_data['status'])\n",
    "\n",
    "clf = LogisticRegression()\n",
    "clf.fit(X,y)"
   ]
  },
  {
   "cell_type": "code",
   "execution_count": 328,
   "id": "843af298",
   "metadata": {},
   "outputs": [],
   "source": [
    "pred = clf.predict(X)"
   ]
  },
  {
   "cell_type": "code",
   "execution_count": 330,
   "id": "d327eb55",
   "metadata": {},
   "outputs": [
    {
     "data": {
      "text/plain": [
       "0.9411764705882353"
      ]
     },
     "execution_count": 330,
     "metadata": {},
     "output_type": "execute_result"
    }
   ],
   "source": [
    "from sklearn.metrics import accuracy_score\n",
    "accuracy_score(y,pred)"
   ]
  },
  {
   "cell_type": "markdown",
   "id": "15f82fbc",
   "metadata": {},
   "source": [
    "<h1>Implementing Decision Trees</h1>"
   ]
  },
  {
   "cell_type": "code",
   "execution_count": 333,
   "id": "5ffe5197",
   "metadata": {},
   "outputs": [
    {
     "data": {
      "text/plain": [
       "DecisionTreeClassifier()"
      ]
     },
     "execution_count": 333,
     "metadata": {},
     "output_type": "execute_result"
    }
   ],
   "source": [
    "from sklearn.tree import DecisionTreeClassifier\n",
    "\n",
    "clf1 = DecisionTreeClassifier()\n",
    "clf1.fit(X,y)"
   ]
  },
  {
   "cell_type": "code",
   "execution_count": 334,
   "id": "4ea211a9",
   "metadata": {},
   "outputs": [],
   "source": [
    "pred = clf1.predict(X)"
   ]
  },
  {
   "cell_type": "code",
   "execution_count": 335,
   "id": "2dbf0816",
   "metadata": {},
   "outputs": [
    {
     "data": {
      "text/plain": [
       "1.0"
      ]
     },
     "execution_count": 335,
     "metadata": {},
     "output_type": "execute_result"
    }
   ],
   "source": [
    "from sklearn.metrics import accuracy_score\n",
    "accuracy_score(y,pred)"
   ]
  },
  {
   "cell_type": "markdown",
   "id": "083ecdc9",
   "metadata": {},
   "source": [
    "."
   ]
  }
 ],
 "metadata": {
  "kernelspec": {
   "display_name": "Python 3 (ipykernel)",
   "language": "python",
   "name": "python3"
  },
  "language_info": {
   "codemirror_mode": {
    "name": "ipython",
    "version": 3
   },
   "file_extension": ".py",
   "mimetype": "text/x-python",
   "name": "python",
   "nbconvert_exporter": "python",
   "pygments_lexer": "ipython3",
   "version": "3.9.6"
  }
 },
 "nbformat": 4,
 "nbformat_minor": 5
}
