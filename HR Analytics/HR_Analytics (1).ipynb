{
  "cells": [
    {
      "cell_type": "markdown",
      "source": [
        "#<h1>Mounting the Drive</h1>"
      ],
      "metadata": {
        "id": "USiWXYFPGUdc"
      },
      "id": "USiWXYFPGUdc"
    },
    {
      "cell_type": "code",
      "execution_count": 74,
      "metadata": {
        "colab": {
          "base_uri": "https://localhost:8080/"
        },
        "id": "tNWI-mzhYFEB",
        "outputId": "0cd4850c-0d0a-4102-ef4f-908616f8b260"
      },
      "outputs": [
        {
          "output_type": "stream",
          "name": "stdout",
          "text": [
            "Drive already mounted at /content/drive; to attempt to forcibly remount, call drive.mount(\"/content/drive\", force_remount=True).\n"
          ]
        }
      ],
      "source": [
        "from google.colab import drive\n",
        "\n",
        "drive.mount(\"/content/drive\")"
      ],
      "id": "tNWI-mzhYFEB"
    },
    {
      "cell_type": "markdown",
      "source": [
        "# Import required libraries and Dataset"
      ],
      "metadata": {
        "id": "HOIRBoGRGhQm"
      },
      "id": "HOIRBoGRGhQm"
    },
    {
      "cell_type": "code",
      "execution_count": 75,
      "metadata": {
        "id": "96d82c43"
      },
      "outputs": [],
      "source": [
        "import pandas as pd\n",
        "import numpy as np\n",
        "import matplotlib.pyplot as plt\n",
        "import seaborn as sn"
      ],
      "id": "96d82c43"
    },
    {
      "cell_type": "code",
      "execution_count": 76,
      "metadata": {
        "id": "9ee5751a"
      },
      "outputs": [],
      "source": [
        "df = pd.read_csv(\"/content/drive/MyDrive/HR Analytics/train_LZdllcl.csv\")"
      ],
      "id": "9ee5751a"
    },
    {
      "cell_type": "markdown",
      "source": [
        "# The Dataset"
      ],
      "metadata": {
        "id": "JY4AYGlyGszv"
      },
      "id": "JY4AYGlyGszv"
    },
    {
      "cell_type": "code",
      "execution_count": 77,
      "metadata": {
        "colab": {
          "base_uri": "https://localhost:8080/",
          "height": 0
        },
        "id": "ZEdfwdCecpi2",
        "outputId": "7d46608f-8338-473b-f795-648b8c36d64c"
      },
      "outputs": [
        {
          "output_type": "execute_result",
          "data": {
            "text/plain": [
              "       employee_id         department     region         education gender  \\\n",
              "0            65438  Sales & Marketing   region_7  Master's & above      f   \n",
              "1            65141         Operations  region_22        Bachelor's      m   \n",
              "2             7513  Sales & Marketing  region_19        Bachelor's      m   \n",
              "3             2542  Sales & Marketing  region_23        Bachelor's      m   \n",
              "4            48945         Technology  region_26        Bachelor's      m   \n",
              "...            ...                ...        ...               ...    ...   \n",
              "54803         3030         Technology  region_14        Bachelor's      m   \n",
              "54804        74592         Operations  region_27  Master's & above      f   \n",
              "54805        13918          Analytics   region_1        Bachelor's      m   \n",
              "54806        13614  Sales & Marketing   region_9               NaN      m   \n",
              "54807        51526                 HR  region_22        Bachelor's      m   \n",
              "\n",
              "      recruitment_channel  no_of_trainings  age  previous_year_rating  \\\n",
              "0                sourcing                1   35                   5.0   \n",
              "1                   other                1   30                   5.0   \n",
              "2                sourcing                1   34                   3.0   \n",
              "3                   other                2   39                   1.0   \n",
              "4                   other                1   45                   3.0   \n",
              "...                   ...              ...  ...                   ...   \n",
              "54803            sourcing                1   48                   3.0   \n",
              "54804               other                1   37                   2.0   \n",
              "54805               other                1   27                   5.0   \n",
              "54806            sourcing                1   29                   1.0   \n",
              "54807               other                1   27                   1.0   \n",
              "\n",
              "       length_of_service  KPIs_met >80%  awards_won?  avg_training_score  \\\n",
              "0                      8              1            0                  49   \n",
              "1                      4              0            0                  60   \n",
              "2                      7              0            0                  50   \n",
              "3                     10              0            0                  50   \n",
              "4                      2              0            0                  73   \n",
              "...                  ...            ...          ...                 ...   \n",
              "54803                 17              0            0                  78   \n",
              "54804                  6              0            0                  56   \n",
              "54805                  3              1            0                  79   \n",
              "54806                  2              0            0                  45   \n",
              "54807                  5              0            0                  49   \n",
              "\n",
              "       is_promoted  \n",
              "0                0  \n",
              "1                0  \n",
              "2                0  \n",
              "3                0  \n",
              "4                0  \n",
              "...            ...  \n",
              "54803            0  \n",
              "54804            0  \n",
              "54805            0  \n",
              "54806            0  \n",
              "54807            0  \n",
              "\n",
              "[54808 rows x 14 columns]"
            ],
            "text/html": [
              "\n",
              "  <div id=\"df-8326f2ed-3d2c-4ac2-a136-e0014f7a6e85\">\n",
              "    <div class=\"colab-df-container\">\n",
              "      <div>\n",
              "<style scoped>\n",
              "    .dataframe tbody tr th:only-of-type {\n",
              "        vertical-align: middle;\n",
              "    }\n",
              "\n",
              "    .dataframe tbody tr th {\n",
              "        vertical-align: top;\n",
              "    }\n",
              "\n",
              "    .dataframe thead th {\n",
              "        text-align: right;\n",
              "    }\n",
              "</style>\n",
              "<table border=\"1\" class=\"dataframe\">\n",
              "  <thead>\n",
              "    <tr style=\"text-align: right;\">\n",
              "      <th></th>\n",
              "      <th>employee_id</th>\n",
              "      <th>department</th>\n",
              "      <th>region</th>\n",
              "      <th>education</th>\n",
              "      <th>gender</th>\n",
              "      <th>recruitment_channel</th>\n",
              "      <th>no_of_trainings</th>\n",
              "      <th>age</th>\n",
              "      <th>previous_year_rating</th>\n",
              "      <th>length_of_service</th>\n",
              "      <th>KPIs_met &gt;80%</th>\n",
              "      <th>awards_won?</th>\n",
              "      <th>avg_training_score</th>\n",
              "      <th>is_promoted</th>\n",
              "    </tr>\n",
              "  </thead>\n",
              "  <tbody>\n",
              "    <tr>\n",
              "      <th>0</th>\n",
              "      <td>65438</td>\n",
              "      <td>Sales &amp; Marketing</td>\n",
              "      <td>region_7</td>\n",
              "      <td>Master's &amp; above</td>\n",
              "      <td>f</td>\n",
              "      <td>sourcing</td>\n",
              "      <td>1</td>\n",
              "      <td>35</td>\n",
              "      <td>5.0</td>\n",
              "      <td>8</td>\n",
              "      <td>1</td>\n",
              "      <td>0</td>\n",
              "      <td>49</td>\n",
              "      <td>0</td>\n",
              "    </tr>\n",
              "    <tr>\n",
              "      <th>1</th>\n",
              "      <td>65141</td>\n",
              "      <td>Operations</td>\n",
              "      <td>region_22</td>\n",
              "      <td>Bachelor's</td>\n",
              "      <td>m</td>\n",
              "      <td>other</td>\n",
              "      <td>1</td>\n",
              "      <td>30</td>\n",
              "      <td>5.0</td>\n",
              "      <td>4</td>\n",
              "      <td>0</td>\n",
              "      <td>0</td>\n",
              "      <td>60</td>\n",
              "      <td>0</td>\n",
              "    </tr>\n",
              "    <tr>\n",
              "      <th>2</th>\n",
              "      <td>7513</td>\n",
              "      <td>Sales &amp; Marketing</td>\n",
              "      <td>region_19</td>\n",
              "      <td>Bachelor's</td>\n",
              "      <td>m</td>\n",
              "      <td>sourcing</td>\n",
              "      <td>1</td>\n",
              "      <td>34</td>\n",
              "      <td>3.0</td>\n",
              "      <td>7</td>\n",
              "      <td>0</td>\n",
              "      <td>0</td>\n",
              "      <td>50</td>\n",
              "      <td>0</td>\n",
              "    </tr>\n",
              "    <tr>\n",
              "      <th>3</th>\n",
              "      <td>2542</td>\n",
              "      <td>Sales &amp; Marketing</td>\n",
              "      <td>region_23</td>\n",
              "      <td>Bachelor's</td>\n",
              "      <td>m</td>\n",
              "      <td>other</td>\n",
              "      <td>2</td>\n",
              "      <td>39</td>\n",
              "      <td>1.0</td>\n",
              "      <td>10</td>\n",
              "      <td>0</td>\n",
              "      <td>0</td>\n",
              "      <td>50</td>\n",
              "      <td>0</td>\n",
              "    </tr>\n",
              "    <tr>\n",
              "      <th>4</th>\n",
              "      <td>48945</td>\n",
              "      <td>Technology</td>\n",
              "      <td>region_26</td>\n",
              "      <td>Bachelor's</td>\n",
              "      <td>m</td>\n",
              "      <td>other</td>\n",
              "      <td>1</td>\n",
              "      <td>45</td>\n",
              "      <td>3.0</td>\n",
              "      <td>2</td>\n",
              "      <td>0</td>\n",
              "      <td>0</td>\n",
              "      <td>73</td>\n",
              "      <td>0</td>\n",
              "    </tr>\n",
              "    <tr>\n",
              "      <th>...</th>\n",
              "      <td>...</td>\n",
              "      <td>...</td>\n",
              "      <td>...</td>\n",
              "      <td>...</td>\n",
              "      <td>...</td>\n",
              "      <td>...</td>\n",
              "      <td>...</td>\n",
              "      <td>...</td>\n",
              "      <td>...</td>\n",
              "      <td>...</td>\n",
              "      <td>...</td>\n",
              "      <td>...</td>\n",
              "      <td>...</td>\n",
              "      <td>...</td>\n",
              "    </tr>\n",
              "    <tr>\n",
              "      <th>54803</th>\n",
              "      <td>3030</td>\n",
              "      <td>Technology</td>\n",
              "      <td>region_14</td>\n",
              "      <td>Bachelor's</td>\n",
              "      <td>m</td>\n",
              "      <td>sourcing</td>\n",
              "      <td>1</td>\n",
              "      <td>48</td>\n",
              "      <td>3.0</td>\n",
              "      <td>17</td>\n",
              "      <td>0</td>\n",
              "      <td>0</td>\n",
              "      <td>78</td>\n",
              "      <td>0</td>\n",
              "    </tr>\n",
              "    <tr>\n",
              "      <th>54804</th>\n",
              "      <td>74592</td>\n",
              "      <td>Operations</td>\n",
              "      <td>region_27</td>\n",
              "      <td>Master's &amp; above</td>\n",
              "      <td>f</td>\n",
              "      <td>other</td>\n",
              "      <td>1</td>\n",
              "      <td>37</td>\n",
              "      <td>2.0</td>\n",
              "      <td>6</td>\n",
              "      <td>0</td>\n",
              "      <td>0</td>\n",
              "      <td>56</td>\n",
              "      <td>0</td>\n",
              "    </tr>\n",
              "    <tr>\n",
              "      <th>54805</th>\n",
              "      <td>13918</td>\n",
              "      <td>Analytics</td>\n",
              "      <td>region_1</td>\n",
              "      <td>Bachelor's</td>\n",
              "      <td>m</td>\n",
              "      <td>other</td>\n",
              "      <td>1</td>\n",
              "      <td>27</td>\n",
              "      <td>5.0</td>\n",
              "      <td>3</td>\n",
              "      <td>1</td>\n",
              "      <td>0</td>\n",
              "      <td>79</td>\n",
              "      <td>0</td>\n",
              "    </tr>\n",
              "    <tr>\n",
              "      <th>54806</th>\n",
              "      <td>13614</td>\n",
              "      <td>Sales &amp; Marketing</td>\n",
              "      <td>region_9</td>\n",
              "      <td>NaN</td>\n",
              "      <td>m</td>\n",
              "      <td>sourcing</td>\n",
              "      <td>1</td>\n",
              "      <td>29</td>\n",
              "      <td>1.0</td>\n",
              "      <td>2</td>\n",
              "      <td>0</td>\n",
              "      <td>0</td>\n",
              "      <td>45</td>\n",
              "      <td>0</td>\n",
              "    </tr>\n",
              "    <tr>\n",
              "      <th>54807</th>\n",
              "      <td>51526</td>\n",
              "      <td>HR</td>\n",
              "      <td>region_22</td>\n",
              "      <td>Bachelor's</td>\n",
              "      <td>m</td>\n",
              "      <td>other</td>\n",
              "      <td>1</td>\n",
              "      <td>27</td>\n",
              "      <td>1.0</td>\n",
              "      <td>5</td>\n",
              "      <td>0</td>\n",
              "      <td>0</td>\n",
              "      <td>49</td>\n",
              "      <td>0</td>\n",
              "    </tr>\n",
              "  </tbody>\n",
              "</table>\n",
              "<p>54808 rows × 14 columns</p>\n",
              "</div>\n",
              "      <button class=\"colab-df-convert\" onclick=\"convertToInteractive('df-8326f2ed-3d2c-4ac2-a136-e0014f7a6e85')\"\n",
              "              title=\"Convert this dataframe to an interactive table.\"\n",
              "              style=\"display:none;\">\n",
              "        \n",
              "  <svg xmlns=\"http://www.w3.org/2000/svg\" height=\"24px\"viewBox=\"0 0 24 24\"\n",
              "       width=\"24px\">\n",
              "    <path d=\"M0 0h24v24H0V0z\" fill=\"none\"/>\n",
              "    <path d=\"M18.56 5.44l.94 2.06.94-2.06 2.06-.94-2.06-.94-.94-2.06-.94 2.06-2.06.94zm-11 1L8.5 8.5l.94-2.06 2.06-.94-2.06-.94L8.5 2.5l-.94 2.06-2.06.94zm10 10l.94 2.06.94-2.06 2.06-.94-2.06-.94-.94-2.06-.94 2.06-2.06.94z\"/><path d=\"M17.41 7.96l-1.37-1.37c-.4-.4-.92-.59-1.43-.59-.52 0-1.04.2-1.43.59L10.3 9.45l-7.72 7.72c-.78.78-.78 2.05 0 2.83L4 21.41c.39.39.9.59 1.41.59.51 0 1.02-.2 1.41-.59l7.78-7.78 2.81-2.81c.8-.78.8-2.07 0-2.86zM5.41 20L4 18.59l7.72-7.72 1.47 1.35L5.41 20z\"/>\n",
              "  </svg>\n",
              "      </button>\n",
              "      \n",
              "  <style>\n",
              "    .colab-df-container {\n",
              "      display:flex;\n",
              "      flex-wrap:wrap;\n",
              "      gap: 12px;\n",
              "    }\n",
              "\n",
              "    .colab-df-convert {\n",
              "      background-color: #E8F0FE;\n",
              "      border: none;\n",
              "      border-radius: 50%;\n",
              "      cursor: pointer;\n",
              "      display: none;\n",
              "      fill: #1967D2;\n",
              "      height: 32px;\n",
              "      padding: 0 0 0 0;\n",
              "      width: 32px;\n",
              "    }\n",
              "\n",
              "    .colab-df-convert:hover {\n",
              "      background-color: #E2EBFA;\n",
              "      box-shadow: 0px 1px 2px rgba(60, 64, 67, 0.3), 0px 1px 3px 1px rgba(60, 64, 67, 0.15);\n",
              "      fill: #174EA6;\n",
              "    }\n",
              "\n",
              "    [theme=dark] .colab-df-convert {\n",
              "      background-color: #3B4455;\n",
              "      fill: #D2E3FC;\n",
              "    }\n",
              "\n",
              "    [theme=dark] .colab-df-convert:hover {\n",
              "      background-color: #434B5C;\n",
              "      box-shadow: 0px 1px 3px 1px rgba(0, 0, 0, 0.15);\n",
              "      filter: drop-shadow(0px 1px 2px rgba(0, 0, 0, 0.3));\n",
              "      fill: #FFFFFF;\n",
              "    }\n",
              "  </style>\n",
              "\n",
              "      <script>\n",
              "        const buttonEl =\n",
              "          document.querySelector('#df-8326f2ed-3d2c-4ac2-a136-e0014f7a6e85 button.colab-df-convert');\n",
              "        buttonEl.style.display =\n",
              "          google.colab.kernel.accessAllowed ? 'block' : 'none';\n",
              "\n",
              "        async function convertToInteractive(key) {\n",
              "          const element = document.querySelector('#df-8326f2ed-3d2c-4ac2-a136-e0014f7a6e85');\n",
              "          const dataTable =\n",
              "            await google.colab.kernel.invokeFunction('convertToInteractive',\n",
              "                                                     [key], {});\n",
              "          if (!dataTable) return;\n",
              "\n",
              "          const docLinkHtml = 'Like what you see? Visit the ' +\n",
              "            '<a target=\"_blank\" href=https://colab.research.google.com/notebooks/data_table.ipynb>data table notebook</a>'\n",
              "            + ' to learn more about interactive tables.';\n",
              "          element.innerHTML = '';\n",
              "          dataTable['output_type'] = 'display_data';\n",
              "          await google.colab.output.renderOutput(dataTable, element);\n",
              "          const docLink = document.createElement('div');\n",
              "          docLink.innerHTML = docLinkHtml;\n",
              "          element.appendChild(docLink);\n",
              "        }\n",
              "      </script>\n",
              "    </div>\n",
              "  </div>\n",
              "  "
            ]
          },
          "metadata": {},
          "execution_count": 77
        }
      ],
      "source": [
        "df"
      ],
      "id": "ZEdfwdCecpi2"
    },
    {
      "cell_type": "markdown",
      "source": [
        "# Exploratory Data Analysis on our dataset"
      ],
      "metadata": {
        "id": "VdNuwH8zGyqR"
      },
      "id": "VdNuwH8zGyqR"
    },
    {
      "cell_type": "code",
      "execution_count": 78,
      "metadata": {
        "colab": {
          "base_uri": "https://localhost:8080/"
        },
        "id": "68e58048",
        "outputId": "5c9874ef-dcf7-4b72-8a9d-c7f5619bcc24"
      },
      "outputs": [
        {
          "output_type": "execute_result",
          "data": {
            "text/plain": [
              "(54808, 14)"
            ]
          },
          "metadata": {},
          "execution_count": 78
        }
      ],
      "source": [
        "df.shape"
      ],
      "id": "68e58048"
    },
    {
      "cell_type": "code",
      "execution_count": 79,
      "metadata": {
        "colab": {
          "base_uri": "https://localhost:8080/"
        },
        "id": "fa54b4ce",
        "outputId": "94806918-19a7-426d-8d53-1c232e917566"
      },
      "outputs": [
        {
          "output_type": "execute_result",
          "data": {
            "text/plain": [
              "Index(['employee_id', 'department', 'region', 'education', 'gender',\n",
              "       'recruitment_channel', 'no_of_trainings', 'age', 'previous_year_rating',\n",
              "       'length_of_service', 'KPIs_met >80%', 'awards_won?',\n",
              "       'avg_training_score', 'is_promoted'],\n",
              "      dtype='object')"
            ]
          },
          "metadata": {},
          "execution_count": 79
        }
      ],
      "source": [
        "df.columns"
      ],
      "id": "fa54b4ce"
    },
    {
      "cell_type": "code",
      "execution_count": 80,
      "metadata": {
        "colab": {
          "base_uri": "https://localhost:8080/"
        },
        "id": "FdhPQ04TMy0Z",
        "outputId": "ef57c2e6-7248-40df-9f84-ab69d0ecc643"
      },
      "outputs": [
        {
          "output_type": "execute_result",
          "data": {
            "text/plain": [
              "Bachelor's          36669\n",
              "Master's & above    14925\n",
              "Below Secondary       805\n",
              "Name: education, dtype: int64"
            ]
          },
          "metadata": {},
          "execution_count": 80
        }
      ],
      "source": [
        "df.education.value_counts()"
      ],
      "id": "FdhPQ04TMy0Z"
    },
    {
      "cell_type": "code",
      "execution_count": 81,
      "metadata": {
        "id": "74917831"
      },
      "outputs": [],
      "source": [
        "def barplot_count(column,x=5,y=5,df=df):\n",
        "        \n",
        "        plt.figure(figsize=(x,y))\n",
        "        cnt_column = df[column].value_counts().to_dict()\n",
        "        plt.title(column)\n",
        "        plt.bar(cnt_column.keys(),cnt_column.values())"
      ],
      "id": "74917831"
    },
    {
      "cell_type": "code",
      "execution_count": 82,
      "metadata": {
        "colab": {
          "base_uri": "https://localhost:8080/",
          "height": 281
        },
        "id": "6f1d06cc",
        "outputId": "d954622a-006e-44cd-b565-d56abd2ac6cb"
      },
      "outputs": [
        {
          "output_type": "display_data",
          "data": {
            "text/plain": [
              "<Figure size 360x288 with 1 Axes>"
            ],
            "image/png": "[encoded data removed]"
          },
          "metadata": {
            "needs_background": "light"
          }
        }
      ],
      "source": [
        "barplot_count('gender',5,4)"
      ],
      "id": "6f1d06cc"
    },
    {
      "cell_type": "code",
      "execution_count": 83,
      "metadata": {
        "colab": {
          "base_uri": "https://localhost:8080/",
          "height": 336
        },
        "id": "ccc5fcdb",
        "outputId": "1d3553d8-5e3e-4efb-f63e-ed1ceff827c6"
      },
      "outputs": [
        {
          "output_type": "display_data",
          "data": {
            "text/plain": [
              "<Figure size 1080x360 with 1 Axes>"
            ],
            "image/png": "[encoded data removed]"
          },
          "metadata": {
            "needs_background": "light"
          }
        }
      ],
      "source": [
        "barplot_count('department',15,5)"
      ],
      "id": "ccc5fcdb"
    },
    {
      "cell_type": "code",
      "execution_count": 84,
      "metadata": {
        "colab": {
          "base_uri": "https://localhost:8080/",
          "height": 336
        },
        "id": "709fc022",
        "outputId": "efe3ffa4-0272-4370-d143-d4d504a596aa"
      },
      "outputs": [
        {
          "output_type": "display_data",
          "data": {
            "text/plain": [
              "<Figure size 360x360 with 1 Axes>"
            ],
            "image/png": "[encoded data removed]"
          },
          "metadata": {
            "needs_background": "light"
          }
        }
      ],
      "source": [
        "barplot_count('education')"
      ],
      "id": "709fc022"
    },
    {
      "cell_type": "code",
      "execution_count": 85,
      "metadata": {
        "colab": {
          "base_uri": "https://localhost:8080/",
          "height": 336
        },
        "id": "2d077f07",
        "outputId": "559e7de0-cac4-4bb5-b9a9-5d0e74e357c1"
      },
      "outputs": [
        {
          "output_type": "display_data",
          "data": {
            "text/plain": [
              "<Figure size 360x360 with 1 Axes>"
            ],
            "image/png": "[encoded data removed]"
          },
          "metadata": {
            "needs_background": "light"
          }
        }
      ],
      "source": [
        "df.recruitment_channel.unique()\n",
        "barplot_count('recruitment_channel')"
      ],
      "id": "2d077f07"
    },
    {
      "cell_type": "code",
      "execution_count": 86,
      "metadata": {
        "colab": {
          "base_uri": "https://localhost:8080/",
          "height": 492
        },
        "id": "50bb2d9e",
        "outputId": "27051b5e-81ab-477e-bf1e-8dc2758e1188"
      },
      "outputs": [
        {
          "output_type": "execute_result",
          "data": {
            "text/plain": [
              "count    54808.000000\n",
              "mean        34.803915\n",
              "std          7.660169\n",
              "min         20.000000\n",
              "25%         29.000000\n",
              "50%         33.000000\n",
              "75%         39.000000\n",
              "max         60.000000\n",
              "Name: age, dtype: float64"
            ]
          },
          "metadata": {},
          "execution_count": 86
        },
        {
          "output_type": "display_data",
          "data": {
            "text/plain": [
              "<Figure size 360x360 with 1 Axes>"
            ],
            "image/png": "[encoded data removed]"
          },
          "metadata": {
            "needs_background": "light"
          }
        }
      ],
      "source": [
        "barplot_count('age')\n",
        "df.age.describe()"
      ],
      "id": "50bb2d9e"
    },
    {
      "cell_type": "code",
      "execution_count": 87,
      "metadata": {
        "colab": {
          "base_uri": "https://localhost:8080/"
        },
        "id": "7da351e4",
        "outputId": "397e7bf0-0550-4d9f-84bd-ec1d476de870"
      },
      "outputs": [
        {
          "output_type": "execute_result",
          "data": {
            "text/plain": [
              "74.38330170777988"
            ]
          },
          "metadata": {},
          "execution_count": 87
        }
      ],
      "source": [
        "agefrom25_40_in_percentage = (df.loc[ (df.age >= 25) & (df.age < 40)].shape[0])/df.shape[0]*100\n",
        "agefrom25_40_in_percentage"
      ],
      "id": "7da351e4"
    },
    {
      "cell_type": "code",
      "execution_count": 88,
      "metadata": {
        "colab": {
          "base_uri": "https://localhost:8080/",
          "height": 336
        },
        "id": "4adc7fbf",
        "outputId": "6fb46650-f912-468e-a383-cf1c0984abfc"
      },
      "outputs": [
        {
          "output_type": "display_data",
          "data": {
            "text/plain": [
              "<Figure size 360x360 with 1 Axes>"
            ],
            "image/png": "[encoded data removed]"
          },
          "metadata": {
            "needs_background": "light"
          }
        }
      ],
      "source": [
        "barplot_count('previous_year_rating')"
      ],
      "id": "4adc7fbf"
    },
    {
      "cell_type": "code",
      "execution_count": 89,
      "metadata": {
        "colab": {
          "base_uri": "https://localhost:8080/",
          "height": 492
        },
        "id": "e3e08c3c",
        "outputId": "6a31a386-916e-4529-be90-afe7af3a8ab6"
      },
      "outputs": [
        {
          "output_type": "execute_result",
          "data": {
            "text/plain": [
              "count    54808.000000\n",
              "mean         5.865512\n",
              "std          4.265094\n",
              "min          1.000000\n",
              "25%          3.000000\n",
              "50%          5.000000\n",
              "75%          7.000000\n",
              "max         37.000000\n",
              "Name: length_of_service, dtype: float64"
            ]
          },
          "metadata": {},
          "execution_count": 89
        },
        {
          "output_type": "display_data",
          "data": {
            "text/plain": [
              "<Figure size 360x360 with 1 Axes>"
            ],
            "image/png": "[encoded data removed]"
          },
          "metadata": {
            "needs_background": "light"
          }
        }
      ],
      "source": [
        "barplot_count('length_of_service')\n",
        "df['length_of_service'].describe()"
      ],
      "id": "e3e08c3c"
    },
    {
      "cell_type": "code",
      "execution_count": 90,
      "metadata": {
        "colab": {
          "base_uri": "https://localhost:8080/",
          "height": 336
        },
        "id": "ce1397ce",
        "outputId": "8b3f1528-5f7d-4931-9b7c-30b36eb682f4"
      },
      "outputs": [
        {
          "output_type": "display_data",
          "data": {
            "text/plain": [
              "<Figure size 360x360 with 1 Axes>"
            ],
            "image/png": "[encoded data removed]"
          },
          "metadata": {
            "needs_background": "light"
          }
        }
      ],
      "source": [
        "barplot_count('KPIs_met >80%')"
      ],
      "id": "ce1397ce"
    },
    {
      "cell_type": "code",
      "execution_count": 91,
      "metadata": {
        "colab": {
          "base_uri": "https://localhost:8080/",
          "height": 336
        },
        "id": "b1dea706",
        "outputId": "35ea1f88-79b6-4c98-8c55-d37243bdf8e4"
      },
      "outputs": [
        {
          "output_type": "display_data",
          "data": {
            "text/plain": [
              "<Figure size 360x360 with 1 Axes>"
            ],
            "image/png": "[encoded data removed]"
          },
          "metadata": {
            "needs_background": "light"
          }
        }
      ],
      "source": [
        "barplot_count('awards_won?')"
      ],
      "id": "b1dea706"
    },
    {
      "cell_type": "code",
      "execution_count": 92,
      "metadata": {
        "colab": {
          "base_uri": "https://localhost:8080/",
          "height": 336
        },
        "id": "23aad76b",
        "outputId": "21c82db5-09ea-47ea-c2e8-bac9cdbc172d"
      },
      "outputs": [
        {
          "output_type": "display_data",
          "data": {
            "text/plain": [
              "<Figure size 360x360 with 1 Axes>"
            ],
            "image/png": "[encoded data removed]"
          },
          "metadata": {
            "needs_background": "light"
          }
        }
      ],
      "source": [
        "barplot_count('avg_training_score')"
      ],
      "id": "23aad76b"
    },
    {
      "cell_type": "code",
      "execution_count": 93,
      "metadata": {
        "colab": {
          "base_uri": "https://localhost:8080/"
        },
        "id": "9b4bf740",
        "outputId": "61c41533-89e1-4410-a952-ad71a8172713"
      },
      "outputs": [
        {
          "output_type": "execute_result",
          "data": {
            "text/plain": [
              "array([49, 60, 50, 73, 85, 59, 63, 83, 54, 77, 80, 84, 51, 46, 75, 57, 70,\n",
              "       68, 79, 44, 72, 61, 48, 58, 87, 47, 52, 88, 71, 65, 62, 53, 78, 91,\n",
              "       82, 69, 55, 74, 86, 90, 92, 67, 89, 56, 76, 81, 45, 64, 39, 94, 93,\n",
              "       66, 95, 42, 96, 40, 99, 43, 97, 41, 98])"
            ]
          },
          "metadata": {},
          "execution_count": 93
        }
      ],
      "source": [
        "df['avg_training_score'].unique()"
      ],
      "id": "9b4bf740"
    },
    {
      "cell_type": "code",
      "execution_count": 94,
      "metadata": {
        "colab": {
          "base_uri": "https://localhost:8080/"
        },
        "id": "4e21293d",
        "outputId": "8bf03350-4bcd-4c44-e854-fe41438a3c5a"
      },
      "outputs": [
        {
          "output_type": "execute_result",
          "data": {
            "text/plain": [
              "count    54808.000000\n",
              "mean        63.386750\n",
              "std         13.371559\n",
              "min         39.000000\n",
              "25%         51.000000\n",
              "50%         60.000000\n",
              "75%         76.000000\n",
              "max         99.000000\n",
              "Name: avg_training_score, dtype: float64"
            ]
          },
          "metadata": {},
          "execution_count": 94
        }
      ],
      "source": [
        "df['avg_training_score'].describe()"
      ],
      "id": "4e21293d"
    },
    {
      "cell_type": "code",
      "execution_count": 95,
      "metadata": {
        "colab": {
          "base_uri": "https://localhost:8080/",
          "height": 300
        },
        "id": "wcThG1ZzWKVL",
        "outputId": "29962854-8f1d-4b89-c586-9b557527a486"
      },
      "outputs": [
        {
          "output_type": "execute_result",
          "data": {
            "text/plain": [
              "        employee_id  no_of_trainings          age  previous_year_rating  \\\n",
              "count   4668.000000      4668.000000  4668.000000           4329.000000   \n",
              "mean   39285.092331         1.203299    34.372965              3.986140   \n",
              "std    22754.632174         0.513805     7.081449              1.052149   \n",
              "min       39.000000         1.000000    20.000000              1.000000   \n",
              "25%    19390.500000         1.000000    29.000000              3.000000   \n",
              "50%    39439.500000         1.000000    33.000000              4.000000   \n",
              "75%    59082.250000         1.000000    38.000000              5.000000   \n",
              "max    78292.000000         6.000000    60.000000              5.000000   \n",
              "\n",
              "       length_of_service  KPIs_met >80%  awards_won?  avg_training_score  \\\n",
              "count        4668.000000    4668.000000  4668.000000         4668.000000   \n",
              "mean            5.716367       0.698800     0.119751           71.325193   \n",
              "std             4.007772       0.458828     0.324706           14.746122   \n",
              "min             1.000000       0.000000     0.000000           41.000000   \n",
              "25%             3.000000       0.000000     0.000000           59.000000   \n",
              "50%             5.000000       1.000000     0.000000           71.000000   \n",
              "75%             7.000000       1.000000     0.000000           84.000000   \n",
              "max            34.000000       1.000000     1.000000           99.000000   \n",
              "\n",
              "       is_promoted  \n",
              "count       4668.0  \n",
              "mean           1.0  \n",
              "std            0.0  \n",
              "min            1.0  \n",
              "25%            1.0  \n",
              "50%            1.0  \n",
              "75%            1.0  \n",
              "max            1.0  "
            ],
            "text/html": [
              "\n",
              "  <div id=\"df-22b45735-592d-4d7d-a23c-d61faacc6948\">\n",
              "    <div class=\"colab-df-container\">\n",
              "      <div>\n",
              "<style scoped>\n",
              "    .dataframe tbody tr th:only-of-type {\n",
              "        vertical-align: middle;\n",
              "    }\n",
              "\n",
              "    .dataframe tbody tr th {\n",
              "        vertical-align: top;\n",
              "    }\n",
              "\n",
              "    .dataframe thead th {\n",
              "        text-align: right;\n",
              "    }\n",
              "</style>\n",
              "<table border=\"1\" class=\"dataframe\">\n",
              "  <thead>\n",
              "    <tr style=\"text-align: right;\">\n",
              "      <th></th>\n",
              "      <th>employee_id</th>\n",
              "      <th>no_of_trainings</th>\n",
              "      <th>age</th>\n",
              "      <th>previous_year_rating</th>\n",
              "      <th>length_of_service</th>\n",
              "      <th>KPIs_met &gt;80%</th>\n",
              "      <th>awards_won?</th>\n",
              "      <th>avg_training_score</th>\n",
              "      <th>is_promoted</th>\n",
              "    </tr>\n",
              "  </thead>\n",
              "  <tbody>\n",
              "    <tr>\n",
              "      <th>count</th>\n",
              "      <td>4668.000000</td>\n",
              "      <td>4668.000000</td>\n",
              "      <td>4668.000000</td>\n",
              "      <td>4329.000000</td>\n",
              "      <td>4668.000000</td>\n",
              "      <td>4668.000000</td>\n",
              "      <td>4668.000000</td>\n",
              "      <td>4668.000000</td>\n",
              "      <td>4668.0</td>\n",
              "    </tr>\n",
              "    <tr>\n",
              "      <th>mean</th>\n",
              "      <td>39285.092331</td>\n",
              "      <td>1.203299</td>\n",
              "      <td>34.372965</td>\n",
              "      <td>3.986140</td>\n",
              "      <td>5.716367</td>\n",
              "      <td>0.698800</td>\n",
              "      <td>0.119751</td>\n",
              "      <td>71.325193</td>\n",
              "      <td>1.0</td>\n",
              "    </tr>\n",
              "    <tr>\n",
              "      <th>std</th>\n",
              "      <td>22754.632174</td>\n",
              "      <td>0.513805</td>\n",
              "      <td>7.081449</td>\n",
              "      <td>1.052149</td>\n",
              "      <td>4.007772</td>\n",
              "      <td>0.458828</td>\n",
              "      <td>0.324706</td>\n",
              "      <td>14.746122</td>\n",
              "      <td>0.0</td>\n",
              "    </tr>\n",
              "    <tr>\n",
              "      <th>min</th>\n",
              "      <td>39.000000</td>\n",
              "      <td>1.000000</td>\n",
              "      <td>20.000000</td>\n",
              "      <td>1.000000</td>\n",
              "      <td>1.000000</td>\n",
              "      <td>0.000000</td>\n",
              "      <td>0.000000</td>\n",
              "      <td>41.000000</td>\n",
              "      <td>1.0</td>\n",
              "    </tr>\n",
              "    <tr>\n",
              "      <th>25%</th>\n",
              "      <td>19390.500000</td>\n",
              "      <td>1.000000</td>\n",
              "      <td>29.000000</td>\n",
              "      <td>3.000000</td>\n",
              "      <td>3.000000</td>\n",
              "      <td>0.000000</td>\n",
              "      <td>0.000000</td>\n",
              "      <td>59.000000</td>\n",
              "      <td>1.0</td>\n",
              "    </tr>\n",
              "    <tr>\n",
              "      <th>50%</th>\n",
              "      <td>39439.500000</td>\n",
              "      <td>1.000000</td>\n",
              "      <td>33.000000</td>\n",
              "      <td>4.000000</td>\n",
              "      <td>5.000000</td>\n",
              "      <td>1.000000</td>\n",
              "      <td>0.000000</td>\n",
              "      <td>71.000000</td>\n",
              "      <td>1.0</td>\n",
              "    </tr>\n",
              "    <tr>\n",
              "      <th>75%</th>\n",
              "      <td>59082.250000</td>\n",
              "      <td>1.000000</td>\n",
              "      <td>38.000000</td>\n",
              "      <td>5.000000</td>\n",
              "      <td>7.000000</td>\n",
              "      <td>1.000000</td>\n",
              "      <td>0.000000</td>\n",
              "      <td>84.000000</td>\n",
              "      <td>1.0</td>\n",
              "    </tr>\n",
              "    <tr>\n",
              "      <th>max</th>\n",
              "      <td>78292.000000</td>\n",
              "      <td>6.000000</td>\n",
              "      <td>60.000000</td>\n",
              "      <td>5.000000</td>\n",
              "      <td>34.000000</td>\n",
              "      <td>1.000000</td>\n",
              "      <td>1.000000</td>\n",
              "      <td>99.000000</td>\n",
              "      <td>1.0</td>\n",
              "    </tr>\n",
              "  </tbody>\n",
              "</table>\n",
              "</div>\n",
              "      <button class=\"colab-df-convert\" onclick=\"convertToInteractive('df-22b45735-592d-4d7d-a23c-d61faacc6948')\"\n",
              "              title=\"Convert this dataframe to an interactive table.\"\n",
              "              style=\"display:none;\">\n",
              "        \n",
              "  <svg xmlns=\"http://www.w3.org/2000/svg\" height=\"24px\"viewBox=\"0 0 24 24\"\n",
              "       width=\"24px\">\n",
              "    <path d=\"M0 0h24v24H0V0z\" fill=\"none\"/>\n",
              "    <path d=\"M18.56 5.44l.94 2.06.94-2.06 2.06-.94-2.06-.94-.94-2.06-.94 2.06-2.06.94zm-11 1L8.5 8.5l.94-2.06 2.06-.94-2.06-.94L8.5 2.5l-.94 2.06-2.06.94zm10 10l.94 2.06.94-2.06 2.06-.94-2.06-.94-.94-2.06-.94 2.06-2.06.94z\"/><path d=\"M17.41 7.96l-1.37-1.37c-.4-.4-.92-.59-1.43-.59-.52 0-1.04.2-1.43.59L10.3 9.45l-7.72 7.72c-.78.78-.78 2.05 0 2.83L4 21.41c.39.39.9.59 1.41.59.51 0 1.02-.2 1.41-.59l7.78-7.78 2.81-2.81c.8-.78.8-2.07 0-2.86zM5.41 20L4 18.59l7.72-7.72 1.47 1.35L5.41 20z\"/>\n",
              "  </svg>\n",
              "      </button>\n",
              "      \n",
              "  <style>\n",
              "    .colab-df-container {\n",
              "      display:flex;\n",
              "      flex-wrap:wrap;\n",
              "      gap: 12px;\n",
              "    }\n",
              "\n",
              "    .colab-df-convert {\n",
              "      background-color: #E8F0FE;\n",
              "      border: none;\n",
              "      border-radius: 50%;\n",
              "      cursor: pointer;\n",
              "      display: none;\n",
              "      fill: #1967D2;\n",
              "      height: 32px;\n",
              "      padding: 0 0 0 0;\n",
              "      width: 32px;\n",
              "    }\n",
              "\n",
              "    .colab-df-convert:hover {\n",
              "      background-color: #E2EBFA;\n",
              "      box-shadow: 0px 1px 2px rgba(60, 64, 67, 0.3), 0px 1px 3px 1px rgba(60, 64, 67, 0.15);\n",
              "      fill: #174EA6;\n",
              "    }\n",
              "\n",
              "    [theme=dark] .colab-df-convert {\n",
              "      background-color: #3B4455;\n",
              "      fill: #D2E3FC;\n",
              "    }\n",
              "\n",
              "    [theme=dark] .colab-df-convert:hover {\n",
              "      background-color: #434B5C;\n",
              "      box-shadow: 0px 1px 3px 1px rgba(0, 0, 0, 0.15);\n",
              "      filter: drop-shadow(0px 1px 2px rgba(0, 0, 0, 0.3));\n",
              "      fill: #FFFFFF;\n",
              "    }\n",
              "  </style>\n",
              "\n",
              "      <script>\n",
              "        const buttonEl =\n",
              "          document.querySelector('#df-22b45735-592d-4d7d-a23c-d61faacc6948 button.colab-df-convert');\n",
              "        buttonEl.style.display =\n",
              "          google.colab.kernel.accessAllowed ? 'block' : 'none';\n",
              "\n",
              "        async function convertToInteractive(key) {\n",
              "          const element = document.querySelector('#df-22b45735-592d-4d7d-a23c-d61faacc6948');\n",
              "          const dataTable =\n",
              "            await google.colab.kernel.invokeFunction('convertToInteractive',\n",
              "                                                     [key], {});\n",
              "          if (!dataTable) return;\n",
              "\n",
              "          const docLinkHtml = 'Like what you see? Visit the ' +\n",
              "            '<a target=\"_blank\" href=https://colab.research.google.com/notebooks/data_table.ipynb>data table notebook</a>'\n",
              "            + ' to learn more about interactive tables.';\n",
              "          element.innerHTML = '';\n",
              "          dataTable['output_type'] = 'display_data';\n",
              "          await google.colab.output.renderOutput(dataTable, element);\n",
              "          const docLink = document.createElement('div');\n",
              "          docLink.innerHTML = docLinkHtml;\n",
              "          element.appendChild(docLink);\n",
              "        }\n",
              "      </script>\n",
              "    </div>\n",
              "  </div>\n",
              "  "
            ]
          },
          "metadata": {},
          "execution_count": 95
        }
      ],
      "source": [
        "Total_promotedf = df.loc[df.is_promoted == 1]\n",
        "Total_promoted = Total_promotedf.shape[0]\n",
        "Total_promotedf.describe()"
      ],
      "id": "wcThG1ZzWKVL"
    },
    {
      "cell_type": "code",
      "execution_count": 96,
      "metadata": {
        "colab": {
          "base_uri": "https://localhost:8080/"
        },
        "id": "mSvf9Vq1RNmN",
        "outputId": "add1711b-9dc2-4443-d516-054a003bfd40"
      },
      "outputs": [
        {
          "output_type": "execute_result",
          "data": {
            "text/plain": [
              "26.028277634961437"
            ]
          },
          "metadata": {},
          "execution_count": 96
        }
      ],
      "source": [
        "\n",
        "FullDataATSMedian = df.avg_training_score.quantile(.50)\n",
        "LessmedianPromoted=Total_promotedf.loc[Total_promotedf.avg_training_score < FullDataATSMedian]\n",
        "Lmp=(LessmedianPromoted.shape[0]/Total_promoted)*100\n",
        "Lmp"
      ],
      "id": "mSvf9Vq1RNmN"
    },
    {
      "cell_type": "code",
      "execution_count": 97,
      "metadata": {
        "colab": {
          "base_uri": "https://localhost:8080/"
        },
        "id": "Ip0PuhYpSMo8",
        "outputId": "f36a77b1-7dcf-471f-8697-45af08d44804"
      },
      "outputs": [
        {
          "output_type": "execute_result",
          "data": {
            "text/plain": [
              "73.97172236503856"
            ]
          },
          "metadata": {},
          "execution_count": 97
        }
      ],
      "source": [
        "Hmp = 100.0 - Lmp\n",
        "Hmp"
      ],
      "id": "Ip0PuhYpSMo8"
    },
    {
      "cell_type": "markdown",
      "metadata": {
        "id": "pwIj8XB5Xw_1"
      },
      "source": [
        "**Hence if Employee has high training score, chances for him to be promoted is 73%**"
      ],
      "id": "pwIj8XB5Xw_1"
    },
    {
      "cell_type": "code",
      "execution_count": 98,
      "metadata": {
        "colab": {
          "base_uri": "https://localhost:8080/",
          "height": 336
        },
        "id": "9oLta0INUPSR",
        "outputId": "08949eed-651a-4d4f-bf8c-776e6687dd4a"
      },
      "outputs": [
        {
          "output_type": "display_data",
          "data": {
            "text/plain": [
              "<Figure size 360x360 with 1 Axes>"
            ],
            "image/png": "[encoded data removed]"
          },
          "metadata": {
            "needs_background": "light"
          }
        }
      ],
      "source": [
        "barplot_count('is_promoted')"
      ],
      "id": "9oLta0INUPSR"
    },
    {
      "cell_type": "code",
      "execution_count": 99,
      "metadata": {
        "colab": {
          "base_uri": "https://localhost:8080/",
          "height": 264
        },
        "id": "ZG4S_u2K8CJH",
        "outputId": "cfef0bbf-2018-46a4-ab56-6ecb23e385c9"
      },
      "outputs": [
        {
          "output_type": "display_data",
          "data": {
            "text/plain": [
              "<Figure size 432x288 with 1 Axes>"
            ],
            "image/png": "[encoded data removed]"
          },
          "metadata": {}
        }
      ],
      "source": [
        "Pie_dict={'Low Training Score':Lmp, 'High Training Score':Hmp}\n",
        "plt.title('Promoted Employees with')\n",
        "plt.pie([Lmp, Hmp], labels=Pie_dict.keys())\n",
        "plt.show()"
      ],
      "id": "ZG4S_u2K8CJH"
    },
    {
      "cell_type": "code",
      "execution_count": 100,
      "metadata": {
        "id": "K6lmkdJCYuPx"
      },
      "outputs": [],
      "source": [
        "EmployeeWithAwards = Total_promotedf.loc[Total_promotedf['awards_won?'] == 1].shape[0]"
      ],
      "id": "K6lmkdJCYuPx"
    },
    {
      "cell_type": "code",
      "execution_count": 101,
      "metadata": {
        "colab": {
          "base_uri": "https://localhost:8080/"
        },
        "id": "S_MeCzHzafyx",
        "outputId": "4f673d51-c496-4bbd-9a0e-819c0dfd8015"
      },
      "outputs": [
        {
          "output_type": "execute_result",
          "data": {
            "text/plain": [
              "11.975149957155098"
            ]
          },
          "metadata": {},
          "execution_count": 101
        }
      ],
      "source": [
        "PEmpPromoplusAwards = (EmployeeWithAwards/Total_promoted)*100\n",
        "PEmpPromoplusAwards"
      ],
      "id": "S_MeCzHzafyx"
    },
    {
      "cell_type": "code",
      "execution_count": 102,
      "metadata": {
        "id": "KxjAnmrS3500"
      },
      "outputs": [],
      "source": [
        "PromoWithKpi = Total_promotedf.loc[Total_promotedf['KPIs_met >80%'] == 1].shape[0]"
      ],
      "id": "KxjAnmrS3500"
    },
    {
      "cell_type": "code",
      "execution_count": 103,
      "metadata": {
        "colab": {
          "base_uri": "https://localhost:8080/"
        },
        "id": "9zvaKYG94eRF",
        "outputId": "85e2371f-88e6-4823-ddb1-08fa62708031"
      },
      "outputs": [
        {
          "output_type": "execute_result",
          "data": {
            "text/plain": [
              "69.88003427592116"
            ]
          },
          "metadata": {},
          "execution_count": 103
        }
      ],
      "source": [
        "PpromoWithKpi=(PromoWithKpi/Total_promoted)*100\n",
        "PpromoWithKpi"
      ],
      "id": "9zvaKYG94eRF"
    },
    {
      "cell_type": "code",
      "execution_count": 104,
      "metadata": {
        "id": "PejBdg9n81ZS"
      },
      "outputs": [],
      "source": [
        "\n",
        "FullDataLOSMedian = df.length_of_service.median()\n",
        "LOSmorethan7 = Total_promotedf.loc[Total_promotedf.length_of_service > FullDataLOSMedian ].shape[0]"
      ],
      "id": "PejBdg9n81ZS"
    },
    {
      "cell_type": "code",
      "execution_count": 105,
      "metadata": {
        "colab": {
          "base_uri": "https://localhost:8080/"
        },
        "id": "bLnFmalyB0lq",
        "outputId": "6021ccc0-b54b-461f-9a3c-c7abf5147964"
      },
      "outputs": [
        {
          "output_type": "execute_result",
          "data": {
            "text/plain": [
              "43.14481576692374"
            ]
          },
          "metadata": {},
          "execution_count": 105
        }
      ],
      "source": [
        "PpromoWithLOS7 =(LOSmorethan7/Total_promoted)*100\n",
        "PpromoWithLOS7"
      ],
      "id": "bLnFmalyB0lq"
    },
    {
      "cell_type": "code",
      "execution_count": 106,
      "metadata": {
        "colab": {
          "base_uri": "https://localhost:8080/",
          "height": 336
        },
        "id": "TPDcx7wdEeOs",
        "outputId": "a1c0f8f1-21e7-4bb0-c21e-71e0a6f5147c"
      },
      "outputs": [
        {
          "output_type": "display_data",
          "data": {
            "text/plain": [
              "<Figure size 1080x360 with 1 Axes>"
            ],
            "image/png": "[encoded data removed]"
          },
          "metadata": {
            "needs_background": "light"
          }
        }
      ],
      "source": [
        "barplot_count('department',15,5, df=Total_promotedf)"
      ],
      "id": "TPDcx7wdEeOs"
    },
    {
      "cell_type": "code",
      "execution_count": 107,
      "metadata": {
        "colab": {
          "base_uri": "https://localhost:8080/",
          "height": 336
        },
        "id": "oiImYazoFWmp",
        "outputId": "63a0d082-0413-4ab1-cc0f-2f44bec5d685"
      },
      "outputs": [
        {
          "output_type": "display_data",
          "data": {
            "text/plain": [
              "<Figure size 360x360 with 1 Axes>"
            ],
            "image/png": "[encoded data removed]"
          },
          "metadata": {
            "needs_background": "light"
          }
        }
      ],
      "source": [
        "barplot_count('education', df=Total_promotedf)"
      ],
      "id": "oiImYazoFWmp"
    },
    {
      "cell_type": "code",
      "execution_count": 108,
      "metadata": {
        "colab": {
          "base_uri": "https://localhost:8080/"
        },
        "id": "TAFK88eGHbPy",
        "outputId": "86a26ef6-5d21-4450-e88d-10d0f6c7035b"
      },
      "outputs": [
        {
          "output_type": "execute_result",
          "data": {
            "text/plain": [
              "8.20311434726881"
            ]
          },
          "metadata": {},
          "execution_count": 108
        }
      ],
      "source": [
        "AllBachelor=df.loc[df.education == \"Bachelor's\" ].shape[0]\n",
        "PromotedBachelor=Total_promotedf.loc[Total_promotedf.education == \"Bachelor's\" ].shape[0]\n",
        "ShareofBachelor=(PromotedBachelor/AllBachelor)*100\n",
        "ShareofBachelor"
      ],
      "id": "TAFK88eGHbPy"
    },
    {
      "cell_type": "code",
      "execution_count": 109,
      "metadata": {
        "colab": {
          "base_uri": "https://localhost:8080/"
        },
        "id": "hCtKEbq9GdN7",
        "outputId": "131dd4f1-e2ea-4fb7-b65a-e3ebc19219d3"
      },
      "outputs": [
        {
          "output_type": "execute_result",
          "data": {
            "text/plain": [
              "9.855946398659967"
            ]
          },
          "metadata": {},
          "execution_count": 109
        }
      ],
      "source": [
        "AllMasters=df.loc[df.education == \"Master's & above\" ].shape[0]\n",
        "PromotedMasters=Total_promotedf.loc[Total_promotedf.education == \"Master's & above\" ].shape[0]\n",
        "ShareofMasters=(PromotedMasters/AllMasters)*100\n",
        "ShareofMasters"
      ],
      "id": "hCtKEbq9GdN7"
    },
    {
      "cell_type": "markdown",
      "metadata": {
        "id": "O9WBRSQAGBzN"
      },
      "source": [
        "**Master's have higher chances of getting promoted!**"
      ],
      "id": "O9WBRSQAGBzN"
    },
    {
      "cell_type": "code",
      "execution_count": 110,
      "metadata": {
        "colab": {
          "base_uri": "https://localhost:8080/",
          "height": 264
        },
        "id": "HtG5LoAqKQci",
        "outputId": "673be465-97ae-4533-f5db-07ae5a7b3019"
      },
      "outputs": [
        {
          "output_type": "display_data",
          "data": {
            "text/plain": [
              "<Figure size 432x288 with 1 Axes>"
            ],
            "image/png": "[encoded data removed]"
          },
          "metadata": {}
        }
      ],
      "source": [
        "plt.title(\"Factors supporting Promotion\")\n",
        "plt.pie([\n",
        "PEmpPromoplusAwards,\n",
        "PpromoWithKpi,\n",
        "PpromoWithLOS7,\n",
        "ShareofMasters, \n",
        "ShareofBachelor, Hmp, Lmp\n",
        "],labels=['With Awards','KPIs','LOS','Master','Bachelor','High Training Score','Lower Training Score'])\n",
        "plt.show()"
      ],
      "id": "HtG5LoAqKQci"
    },
    {
      "cell_type": "code",
      "execution_count": 111,
      "metadata": {
        "colab": {
          "base_uri": "https://localhost:8080/",
          "height": 336
        },
        "id": "dx68WTluFdeD",
        "outputId": "30046ce6-fe66-4f0f-cf65-dca6905b526e"
      },
      "outputs": [
        {
          "output_type": "display_data",
          "data": {
            "text/plain": [
              "<Figure size 360x360 with 1 Axes>"
            ],
            "image/png": "[encoded data removed]"
          },
          "metadata": {
            "needs_background": "light"
          }
        }
      ],
      "source": [
        "barplot_count('age', df=Total_promotedf)"
      ],
      "id": "dx68WTluFdeD"
    },
    {
      "cell_type": "markdown",
      "metadata": {
        "id": "vhP0h0h7FvSA"
      },
      "source": [
        "**Age between 26 to 38 are have seen more promotion**"
      ],
      "id": "vhP0h0h7FvSA"
    },
    {
      "cell_type": "code",
      "execution_count": 112,
      "metadata": {
        "colab": {
          "base_uri": "https://localhost:8080/",
          "height": 336
        },
        "id": "eBWu1qAWZ7KL",
        "outputId": "ba1b8f25-4f9e-4629-bf10-53fa5e93cddd"
      },
      "outputs": [
        {
          "output_type": "display_data",
          "data": {
            "text/plain": [
              "<Figure size 1080x360 with 1 Axes>"
            ],
            "image/png": "[encoded data removed]"
          },
          "metadata": {
            "needs_background": "light"
          }
        }
      ],
      "source": [
        "barplot_count('department',x=15,y=5,df=Total_promotedf)"
      ],
      "id": "eBWu1qAWZ7KL"
    },
    {
      "cell_type": "code",
      "execution_count": 113,
      "metadata": {
        "colab": {
          "base_uri": "https://localhost:8080/",
          "height": 332
        },
        "id": "ZpTvfcdVNivj",
        "outputId": "96fa7822-6b54-4a9b-c4d2-c0b5bbf4c4d9"
      },
      "outputs": [
        {
          "output_type": "execute_result",
          "data": {
            "text/plain": [
              "          Department      Share\n",
              "0  Sales & Marketing   7.203088\n",
              "1         Operations   9.014804\n",
              "2         Technology  10.759316\n",
              "3          Analytics   9.566517\n",
              "4                R&D   6.906907\n",
              "5        Procurement   9.638554\n",
              "6            Finance   8.123028\n",
              "7                 HR   5.624483\n",
              "8              Legal   5.101059"
            ],
            "text/html": [
              "\n",
              "  <div id=\"df-cfa5c7f2-7203-4159-a64b-39d8b6f26eb9\">\n",
              "    <div class=\"colab-df-container\">\n",
              "      <div>\n",
              "<style scoped>\n",
              "    .dataframe tbody tr th:only-of-type {\n",
              "        vertical-align: middle;\n",
              "    }\n",
              "\n",
              "    .dataframe tbody tr th {\n",
              "        vertical-align: top;\n",
              "    }\n",
              "\n",
              "    .dataframe thead th {\n",
              "        text-align: right;\n",
              "    }\n",
              "</style>\n",
              "<table border=\"1\" class=\"dataframe\">\n",
              "  <thead>\n",
              "    <tr style=\"text-align: right;\">\n",
              "      <th></th>\n",
              "      <th>Department</th>\n",
              "      <th>Share</th>\n",
              "    </tr>\n",
              "  </thead>\n",
              "  <tbody>\n",
              "    <tr>\n",
              "      <th>0</th>\n",
              "      <td>Sales &amp; Marketing</td>\n",
              "      <td>7.203088</td>\n",
              "    </tr>\n",
              "    <tr>\n",
              "      <th>1</th>\n",
              "      <td>Operations</td>\n",
              "      <td>9.014804</td>\n",
              "    </tr>\n",
              "    <tr>\n",
              "      <th>2</th>\n",
              "      <td>Technology</td>\n",
              "      <td>10.759316</td>\n",
              "    </tr>\n",
              "    <tr>\n",
              "      <th>3</th>\n",
              "      <td>Analytics</td>\n",
              "      <td>9.566517</td>\n",
              "    </tr>\n",
              "    <tr>\n",
              "      <th>4</th>\n",
              "      <td>R&amp;D</td>\n",
              "      <td>6.906907</td>\n",
              "    </tr>\n",
              "    <tr>\n",
              "      <th>5</th>\n",
              "      <td>Procurement</td>\n",
              "      <td>9.638554</td>\n",
              "    </tr>\n",
              "    <tr>\n",
              "      <th>6</th>\n",
              "      <td>Finance</td>\n",
              "      <td>8.123028</td>\n",
              "    </tr>\n",
              "    <tr>\n",
              "      <th>7</th>\n",
              "      <td>HR</td>\n",
              "      <td>5.624483</td>\n",
              "    </tr>\n",
              "    <tr>\n",
              "      <th>8</th>\n",
              "      <td>Legal</td>\n",
              "      <td>5.101059</td>\n",
              "    </tr>\n",
              "  </tbody>\n",
              "</table>\n",
              "</div>\n",
              "      <button class=\"colab-df-convert\" onclick=\"convertToInteractive('df-cfa5c7f2-7203-4159-a64b-39d8b6f26eb9')\"\n",
              "              title=\"Convert this dataframe to an interactive table.\"\n",
              "              style=\"display:none;\">\n",
              "        \n",
              "  <svg xmlns=\"http://www.w3.org/2000/svg\" height=\"24px\"viewBox=\"0 0 24 24\"\n",
              "       width=\"24px\">\n",
              "    <path d=\"M0 0h24v24H0V0z\" fill=\"none\"/>\n",
              "    <path d=\"M18.56 5.44l.94 2.06.94-2.06 2.06-.94-2.06-.94-.94-2.06-.94 2.06-2.06.94zm-11 1L8.5 8.5l.94-2.06 2.06-.94-2.06-.94L8.5 2.5l-.94 2.06-2.06.94zm10 10l.94 2.06.94-2.06 2.06-.94-2.06-.94-.94-2.06-.94 2.06-2.06.94z\"/><path d=\"M17.41 7.96l-1.37-1.37c-.4-.4-.92-.59-1.43-.59-.52 0-1.04.2-1.43.59L10.3 9.45l-7.72 7.72c-.78.78-.78 2.05 0 2.83L4 21.41c.39.39.9.59 1.41.59.51 0 1.02-.2 1.41-.59l7.78-7.78 2.81-2.81c.8-.78.8-2.07 0-2.86zM5.41 20L4 18.59l7.72-7.72 1.47 1.35L5.41 20z\"/>\n",
              "  </svg>\n",
              "      </button>\n",
              "      \n",
              "  <style>\n",
              "    .colab-df-container {\n",
              "      display:flex;\n",
              "      flex-wrap:wrap;\n",
              "      gap: 12px;\n",
              "    }\n",
              "\n",
              "    .colab-df-convert {\n",
              "      background-color: #E8F0FE;\n",
              "      border: none;\n",
              "      border-radius: 50%;\n",
              "      cursor: pointer;\n",
              "      display: none;\n",
              "      fill: #1967D2;\n",
              "      height: 32px;\n",
              "      padding: 0 0 0 0;\n",
              "      width: 32px;\n",
              "    }\n",
              "\n",
              "    .colab-df-convert:hover {\n",
              "      background-color: #E2EBFA;\n",
              "      box-shadow: 0px 1px 2px rgba(60, 64, 67, 0.3), 0px 1px 3px 1px rgba(60, 64, 67, 0.15);\n",
              "      fill: #174EA6;\n",
              "    }\n",
              "\n",
              "    [theme=dark] .colab-df-convert {\n",
              "      background-color: #3B4455;\n",
              "      fill: #D2E3FC;\n",
              "    }\n",
              "\n",
              "    [theme=dark] .colab-df-convert:hover {\n",
              "      background-color: #434B5C;\n",
              "      box-shadow: 0px 1px 3px 1px rgba(0, 0, 0, 0.15);\n",
              "      filter: drop-shadow(0px 1px 2px rgba(0, 0, 0, 0.3));\n",
              "      fill: #FFFFFF;\n",
              "    }\n",
              "  </style>\n",
              "\n",
              "      <script>\n",
              "        const buttonEl =\n",
              "          document.querySelector('#df-cfa5c7f2-7203-4159-a64b-39d8b6f26eb9 button.colab-df-convert');\n",
              "        buttonEl.style.display =\n",
              "          google.colab.kernel.accessAllowed ? 'block' : 'none';\n",
              "\n",
              "        async function convertToInteractive(key) {\n",
              "          const element = document.querySelector('#df-cfa5c7f2-7203-4159-a64b-39d8b6f26eb9');\n",
              "          const dataTable =\n",
              "            await google.colab.kernel.invokeFunction('convertToInteractive',\n",
              "                                                     [key], {});\n",
              "          if (!dataTable) return;\n",
              "\n",
              "          const docLinkHtml = 'Like what you see? Visit the ' +\n",
              "            '<a target=\"_blank\" href=https://colab.research.google.com/notebooks/data_table.ipynb>data table notebook</a>'\n",
              "            + ' to learn more about interactive tables.';\n",
              "          element.innerHTML = '';\n",
              "          dataTable['output_type'] = 'display_data';\n",
              "          await google.colab.output.renderOutput(dataTable, element);\n",
              "          const docLink = document.createElement('div');\n",
              "          docLink.innerHTML = docLinkHtml;\n",
              "          element.appendChild(docLink);\n",
              "        }\n",
              "      </script>\n",
              "    </div>\n",
              "  </div>\n",
              "  "
            ]
          },
          "metadata": {},
          "execution_count": 113
        }
      ],
      "source": [
        "Lis=[]\n",
        "\n",
        "for i in df.department.unique():\n",
        "  Dpt=df.loc[df.department == i ].shape[0]\n",
        "  PromotedDPT=Total_promotedf.loc[Total_promotedf.department == i ].shape[0]\n",
        "  ShareofDPT=(PromotedDPT/Dpt)*100\n",
        "  Lis.append(ShareofDPT)\n",
        "Gg = {'Department':df.department.unique(),\n",
        "'Share':Lis}\n",
        "pd.DataFrame(Gg,index=range(len(Lis)))"
      ],
      "id": "ZpTvfcdVNivj"
    },
    {
      "cell_type": "code",
      "execution_count": 114,
      "metadata": {
        "colab": {
          "base_uri": "https://localhost:8080/",
          "height": 353
        },
        "id": "G1eza3WuY-G2",
        "outputId": "6f2a90b3-b2ca-45d3-daab-48275c850b3a"
      },
      "outputs": [
        {
          "output_type": "execute_result",
          "data": {
            "text/plain": [
              "<BarContainer object of 9 artists>"
            ]
          },
          "metadata": {},
          "execution_count": 114
        },
        {
          "output_type": "display_data",
          "data": {
            "text/plain": [
              "<Figure size 1080x360 with 1 Axes>"
            ],
            "image/png": "[encoded data removed]"
          },
          "metadata": {
            "needs_background": "light"
          }
        }
      ],
      "source": [
        "plt.figure(figsize=(15,5))\n",
        "plt.title(\"Share of departments in Promotion!\")\n",
        "plt.bar(df.department.unique(),Lis)"
      ],
      "id": "G1eza3WuY-G2"
    },
    {
      "cell_type": "code",
      "execution_count": 115,
      "metadata": {
        "colab": {
          "base_uri": "https://localhost:8080/",
          "height": 336
        },
        "id": "B2v429IkYiJY",
        "outputId": "2c0ac14d-8cb7-404a-d3f1-2a3377893da1"
      },
      "outputs": [
        {
          "output_type": "display_data",
          "data": {
            "text/plain": [
              "<Figure size 360x360 with 1 Axes>"
            ],
            "image/png": "[encoded data removed]"
          },
          "metadata": {
            "needs_background": "light"
          }
        }
      ],
      "source": [
        "barplot_count('previous_year_rating',df=Total_promotedf)"
      ],
      "id": "B2v429IkYiJY"
    },
    {
      "cell_type": "markdown",
      "metadata": {
        "id": "WYm8DERcZJlR"
      },
      "source": [
        "**Employees with previous year rating of 5 have highest chances of getting promoted, which is quite obvious!**"
      ],
      "id": "WYm8DERcZJlR"
    },
    {
      "cell_type": "code",
      "execution_count": 116,
      "metadata": {
        "colab": {
          "base_uri": "https://localhost:8080/",
          "height": 336
        },
        "id": "kUeaAp0sbI4o",
        "outputId": "7985ad6b-10ea-4184-cc6c-e18abbc4244d"
      },
      "outputs": [
        {
          "output_type": "display_data",
          "data": {
            "text/plain": [
              "<Figure size 360x360 with 1 Axes>"
            ],
            "image/png": "[encoded data removed]"
          },
          "metadata": {
            "needs_background": "light"
          }
        }
      ],
      "source": [
        "barplot_count('no_of_trainings',df=Total_promotedf)"
      ],
      "id": "kUeaAp0sbI4o"
    },
    {
      "cell_type": "code",
      "execution_count": 117,
      "metadata": {
        "colab": {
          "base_uri": "https://localhost:8080/",
          "height": 336
        },
        "id": "oyAIpDfMdhRe",
        "outputId": "7dd3af14-8ba4-4e0a-86c4-18498a9c97d9"
      },
      "outputs": [
        {
          "output_type": "display_data",
          "data": {
            "text/plain": [
              "<Figure size 360x360 with 1 Axes>"
            ],
            "image/png": "[encoded data removed]"
          },
          "metadata": {
            "needs_background": "light"
          }
        }
      ],
      "source": [
        "barplot_count('gender',df=Total_promotedf)"
      ],
      "id": "oyAIpDfMdhRe"
    },
    {
      "cell_type": "code",
      "execution_count": 118,
      "metadata": {
        "colab": {
          "base_uri": "https://localhost:8080/"
        },
        "id": "ljAF1aIcd8Hk",
        "outputId": "ed29ec2f-08d4-4999-87ac-b2a5e034e702"
      },
      "outputs": [
        {
          "output_type": "execute_result",
          "data": {
            "text/plain": [
              "8.315149625935161"
            ]
          },
          "metadata": {},
          "execution_count": 118
        }
      ],
      "source": [
        "Allgender=df.loc[df.gender == \"m\" ].shape[0]\n",
        "PromotedGenders=Total_promotedf.loc[Total_promotedf.gender== \"m\" ].shape[0]\n",
        "ShareofMales=(PromotedGenders/Allgender)*100\n",
        "ShareofMales"
      ],
      "id": "ljAF1aIcd8Hk"
    },
    {
      "cell_type": "code",
      "execution_count": 119,
      "metadata": {
        "colab": {
          "base_uri": "https://localhost:8080/"
        },
        "id": "UO334i8Jen-u",
        "outputId": "d5f53494-2a8e-42cb-aebb-ed29c659252e"
      },
      "outputs": [
        {
          "output_type": "execute_result",
          "data": {
            "text/plain": [
              "8.993379107405591"
            ]
          },
          "metadata": {},
          "execution_count": 119
        }
      ],
      "source": [
        "Allgender=df.loc[df.gender == \"f\" ].shape[0]\n",
        "PromotedGenders=Total_promotedf.loc[Total_promotedf.gender== \"f\" ].shape[0]\n",
        "ShareofFemales=(PromotedGenders/Allgender)*100\n",
        "ShareofFemales"
      ],
      "id": "UO334i8Jen-u"
    },
    {
      "cell_type": "code",
      "execution_count": 120,
      "metadata": {
        "colab": {
          "base_uri": "https://localhost:8080/"
        },
        "id": "LTZXCDOcGi1a",
        "outputId": "b0ac9a83-046b-4476-cc96-ab584ca91c06"
      },
      "outputs": [
        {
          "output_type": "execute_result",
          "data": {
            "text/plain": [
              "Index(['employee_id', 'department', 'region', 'education', 'gender',\n",
              "       'recruitment_channel', 'no_of_trainings', 'age', 'previous_year_rating',\n",
              "       'length_of_service', 'KPIs_met >80%', 'awards_won?',\n",
              "       'avg_training_score', 'is_promoted'],\n",
              "      dtype='object')"
            ]
          },
          "metadata": {},
          "execution_count": 120
        }
      ],
      "source": [
        "df.columns"
      ],
      "id": "LTZXCDOcGi1a"
    },
    {
      "cell_type": "code",
      "execution_count": 121,
      "metadata": {
        "colab": {
          "base_uri": "https://localhost:8080/"
        },
        "id": "z4RjoRpJG84B",
        "outputId": "2815c157-3e93-4136-c1a0-b88651442276"
      },
      "outputs": [
        {
          "output_type": "execute_result",
          "data": {
            "text/plain": [
              "other       2556\n",
              "sourcing    1974\n",
              "referred     138\n",
              "Name: recruitment_channel, dtype: int64"
            ]
          },
          "metadata": {},
          "execution_count": 121
        }
      ],
      "source": [
        "Total_promotedf.recruitment_channel.value_counts()"
      ],
      "id": "z4RjoRpJG84B"
    },
    {
      "cell_type": "markdown",
      "source": [
        "# <h1>Model Building</h1>"
      ],
      "metadata": {
        "id": "Cg3z8V-UGKQi"
      },
      "id": "Cg3z8V-UGKQi"
    },
    {
      "cell_type": "markdown",
      "source": [
        "We will approach model building in following steps!\n",
        "<ul>\n",
        "  <li>Feature Engineering the dataset</li>\n",
        "  <li>Hyper Parameter Optimization</li>\n",
        "  <li>train the model</li>\n",
        "  <li>Prediction</li>\n",
        "  <li>Check the Score</li>\n",
        "</ul>"
      ],
      "metadata": {
        "id": "4SulNp3THTPn"
      },
      "id": "4SulNp3THTPn"
    },
    {
      "cell_type": "code",
      "source": [
        "import lightgbm as lgb"
      ],
      "metadata": {
        "id": "BrN7Mt1sAfvb"
      },
      "id": "BrN7Mt1sAfvb",
      "execution_count": 122,
      "outputs": []
    },
    {
      "cell_type": "code",
      "source": [
        "testfile = pd.read_csv(\"/content/drive/MyDrive/HR Analytics/test_2umaH9m.csv\")\n",
        "testfile"
      ],
      "metadata": {
        "colab": {
          "base_uri": "https://localhost:8080/",
          "height": 557
        },
        "id": "PBdgs7C1Js1p",
        "outputId": "8eae9797-5edc-4ecc-9dde-38aa71265b8e"
      },
      "id": "PBdgs7C1Js1p",
      "execution_count": 123,
      "outputs": [
        {
          "output_type": "execute_result",
          "data": {
            "text/plain": [
              "       employee_id         department     region         education gender  \\\n",
              "0             8724         Technology  region_26        Bachelor's      m   \n",
              "1            74430                 HR   region_4        Bachelor's      f   \n",
              "2            72255  Sales & Marketing  region_13        Bachelor's      m   \n",
              "3            38562        Procurement   region_2        Bachelor's      f   \n",
              "4            64486            Finance  region_29        Bachelor's      m   \n",
              "...            ...                ...        ...               ...    ...   \n",
              "23485        53478              Legal   region_2   Below Secondary      m   \n",
              "23486        25600         Technology  region_25        Bachelor's      m   \n",
              "23487        45409                 HR  region_16        Bachelor's      f   \n",
              "23488         1186        Procurement  region_31        Bachelor's      m   \n",
              "23489         5973         Technology  region_17  Master's & above      m   \n",
              "\n",
              "      recruitment_channel  no_of_trainings  age  previous_year_rating  \\\n",
              "0                sourcing                1   24                   NaN   \n",
              "1                   other                1   31                   3.0   \n",
              "2                   other                1   31                   1.0   \n",
              "3                   other                3   31                   2.0   \n",
              "4                sourcing                1   30                   4.0   \n",
              "...                   ...              ...  ...                   ...   \n",
              "23485            sourcing                1   24                   3.0   \n",
              "23486            sourcing                1   31                   3.0   \n",
              "23487            sourcing                1   26                   4.0   \n",
              "23488            sourcing                3   27                   NaN   \n",
              "23489               other                3   40                   5.0   \n",
              "\n",
              "       length_of_service  KPIs_met >80%  awards_won?  avg_training_score  \n",
              "0                      1              1            0                  77  \n",
              "1                      5              0            0                  51  \n",
              "2                      4              0            0                  47  \n",
              "3                      9              0            0                  65  \n",
              "4                      7              0            0                  61  \n",
              "...                  ...            ...          ...                 ...  \n",
              "23485                  1              0            0                  61  \n",
              "23486                  7              0            0                  74  \n",
              "23487                  4              0            0                  50  \n",
              "23488                  1              0            0                  70  \n",
              "23489                  5              1            0                  89  \n",
              "\n",
              "[23490 rows x 13 columns]"
            ],
            "text/html": [
              "\n",
              "  <div id=\"df-c182716c-189a-4a40-9f0a-08d2c511eeaa\">\n",
              "    <div class=\"colab-df-container\">\n",
              "      <div>\n",
              "<style scoped>\n",
              "    .dataframe tbody tr th:only-of-type {\n",
              "        vertical-align: middle;\n",
              "    }\n",
              "\n",
              "    .dataframe tbody tr th {\n",
              "        vertical-align: top;\n",
              "    }\n",
              "\n",
              "    .dataframe thead th {\n",
              "        text-align: right;\n",
              "    }\n",
              "</style>\n",
              "<table border=\"1\" class=\"dataframe\">\n",
              "  <thead>\n",
              "    <tr style=\"text-align: right;\">\n",
              "      <th></th>\n",
              "      <th>employee_id</th>\n",
              "      <th>department</th>\n",
              "      <th>region</th>\n",
              "      <th>education</th>\n",
              "      <th>gender</th>\n",
              "      <th>recruitment_channel</th>\n",
              "      <th>no_of_trainings</th>\n",
              "      <th>age</th>\n",
              "      <th>previous_year_rating</th>\n",
              "      <th>length_of_service</th>\n",
              "      <th>KPIs_met &gt;80%</th>\n",
              "      <th>awards_won?</th>\n",
              "      <th>avg_training_score</th>\n",
              "    </tr>\n",
              "  </thead>\n",
              "  <tbody>\n",
              "    <tr>\n",
              "      <th>0</th>\n",
              "      <td>8724</td>\n",
              "      <td>Technology</td>\n",
              "      <td>region_26</td>\n",
              "      <td>Bachelor's</td>\n",
              "      <td>m</td>\n",
              "      <td>sourcing</td>\n",
              "      <td>1</td>\n",
              "      <td>24</td>\n",
              "      <td>NaN</td>\n",
              "      <td>1</td>\n",
              "      <td>1</td>\n",
              "      <td>0</td>\n",
              "      <td>77</td>\n",
              "    </tr>\n",
              "    <tr>\n",
              "      <th>1</th>\n",
              "      <td>74430</td>\n",
              "      <td>HR</td>\n",
              "      <td>region_4</td>\n",
              "      <td>Bachelor's</td>\n",
              "      <td>f</td>\n",
              "      <td>other</td>\n",
              "      <td>1</td>\n",
              "      <td>31</td>\n",
              "      <td>3.0</td>\n",
              "      <td>5</td>\n",
              "      <td>0</td>\n",
              "      <td>0</td>\n",
              "      <td>51</td>\n",
              "    </tr>\n",
              "    <tr>\n",
              "      <th>2</th>\n",
              "      <td>72255</td>\n",
              "      <td>Sales &amp; Marketing</td>\n",
              "      <td>region_13</td>\n",
              "      <td>Bachelor's</td>\n",
              "      <td>m</td>\n",
              "      <td>other</td>\n",
              "      <td>1</td>\n",
              "      <td>31</td>\n",
              "      <td>1.0</td>\n",
              "      <td>4</td>\n",
              "      <td>0</td>\n",
              "      <td>0</td>\n",
              "      <td>47</td>\n",
              "    </tr>\n",
              "    <tr>\n",
              "      <th>3</th>\n",
              "      <td>38562</td>\n",
              "      <td>Procurement</td>\n",
              "      <td>region_2</td>\n",
              "      <td>Bachelor's</td>\n",
              "      <td>f</td>\n",
              "      <td>other</td>\n",
              "      <td>3</td>\n",
              "      <td>31</td>\n",
              "      <td>2.0</td>\n",
              "      <td>9</td>\n",
              "      <td>0</td>\n",
              "      <td>0</td>\n",
              "      <td>65</td>\n",
              "    </tr>\n",
              "    <tr>\n",
              "      <th>4</th>\n",
              "      <td>64486</td>\n",
              "      <td>Finance</td>\n",
              "      <td>region_29</td>\n",
              "      <td>Bachelor's</td>\n",
              "      <td>m</td>\n",
              "      <td>sourcing</td>\n",
              "      <td>1</td>\n",
              "      <td>30</td>\n",
              "      <td>4.0</td>\n",
              "      <td>7</td>\n",
              "      <td>0</td>\n",
              "      <td>0</td>\n",
              "      <td>61</td>\n",
              "    </tr>\n",
              "    <tr>\n",
              "      <th>...</th>\n",
              "      <td>...</td>\n",
              "      <td>...</td>\n",
              "      <td>...</td>\n",
              "      <td>...</td>\n",
              "      <td>...</td>\n",
              "      <td>...</td>\n",
              "      <td>...</td>\n",
              "      <td>...</td>\n",
              "      <td>...</td>\n",
              "      <td>...</td>\n",
              "      <td>...</td>\n",
              "      <td>...</td>\n",
              "      <td>...</td>\n",
              "    </tr>\n",
              "    <tr>\n",
              "      <th>23485</th>\n",
              "      <td>53478</td>\n",
              "      <td>Legal</td>\n",
              "      <td>region_2</td>\n",
              "      <td>Below Secondary</td>\n",
              "      <td>m</td>\n",
              "      <td>sourcing</td>\n",
              "      <td>1</td>\n",
              "      <td>24</td>\n",
              "      <td>3.0</td>\n",
              "      <td>1</td>\n",
              "      <td>0</td>\n",
              "      <td>0</td>\n",
              "      <td>61</td>\n",
              "    </tr>\n",
              "    <tr>\n",
              "      <th>23486</th>\n",
              "      <td>25600</td>\n",
              "      <td>Technology</td>\n",
              "      <td>region_25</td>\n",
              "      <td>Bachelor's</td>\n",
              "      <td>m</td>\n",
              "      <td>sourcing</td>\n",
              "      <td>1</td>\n",
              "      <td>31</td>\n",
              "      <td>3.0</td>\n",
              "      <td>7</td>\n",
              "      <td>0</td>\n",
              "      <td>0</td>\n",
              "      <td>74</td>\n",
              "    </tr>\n",
              "    <tr>\n",
              "      <th>23487</th>\n",
              "      <td>45409</td>\n",
              "      <td>HR</td>\n",
              "      <td>region_16</td>\n",
              "      <td>Bachelor's</td>\n",
              "      <td>f</td>\n",
              "      <td>sourcing</td>\n",
              "      <td>1</td>\n",
              "      <td>26</td>\n",
              "      <td>4.0</td>\n",
              "      <td>4</td>\n",
              "      <td>0</td>\n",
              "      <td>0</td>\n",
              "      <td>50</td>\n",
              "    </tr>\n",
              "    <tr>\n",
              "      <th>23488</th>\n",
              "      <td>1186</td>\n",
              "      <td>Procurement</td>\n",
              "      <td>region_31</td>\n",
              "      <td>Bachelor's</td>\n",
              "      <td>m</td>\n",
              "      <td>sourcing</td>\n",
              "      <td>3</td>\n",
              "      <td>27</td>\n",
              "      <td>NaN</td>\n",
              "      <td>1</td>\n",
              "      <td>0</td>\n",
              "      <td>0</td>\n",
              "      <td>70</td>\n",
              "    </tr>\n",
              "    <tr>\n",
              "      <th>23489</th>\n",
              "      <td>5973</td>\n",
              "      <td>Technology</td>\n",
              "      <td>region_17</td>\n",
              "      <td>Master's &amp; above</td>\n",
              "      <td>m</td>\n",
              "      <td>other</td>\n",
              "      <td>3</td>\n",
              "      <td>40</td>\n",
              "      <td>5.0</td>\n",
              "      <td>5</td>\n",
              "      <td>1</td>\n",
              "      <td>0</td>\n",
              "      <td>89</td>\n",
              "    </tr>\n",
              "  </tbody>\n",
              "</table>\n",
              "<p>23490 rows × 13 columns</p>\n",
              "</div>\n",
              "      <button class=\"colab-df-convert\" onclick=\"convertToInteractive('df-c182716c-189a-4a40-9f0a-08d2c511eeaa')\"\n",
              "              title=\"Convert this dataframe to an interactive table.\"\n",
              "              style=\"display:none;\">\n",
              "        \n",
              "  <svg xmlns=\"http://www.w3.org/2000/svg\" height=\"24px\"viewBox=\"0 0 24 24\"\n",
              "       width=\"24px\">\n",
              "    <path d=\"M0 0h24v24H0V0z\" fill=\"none\"/>\n",
              "    <path d=\"M18.56 5.44l.94 2.06.94-2.06 2.06-.94-2.06-.94-.94-2.06-.94 2.06-2.06.94zm-11 1L8.5 8.5l.94-2.06 2.06-.94-2.06-.94L8.5 2.5l-.94 2.06-2.06.94zm10 10l.94 2.06.94-2.06 2.06-.94-2.06-.94-.94-2.06-.94 2.06-2.06.94z\"/><path d=\"M17.41 7.96l-1.37-1.37c-.4-.4-.92-.59-1.43-.59-.52 0-1.04.2-1.43.59L10.3 9.45l-7.72 7.72c-.78.78-.78 2.05 0 2.83L4 21.41c.39.39.9.59 1.41.59.51 0 1.02-.2 1.41-.59l7.78-7.78 2.81-2.81c.8-.78.8-2.07 0-2.86zM5.41 20L4 18.59l7.72-7.72 1.47 1.35L5.41 20z\"/>\n",
              "  </svg>\n",
              "      </button>\n",
              "      \n",
              "  <style>\n",
              "    .colab-df-container {\n",
              "      display:flex;\n",
              "      flex-wrap:wrap;\n",
              "      gap: 12px;\n",
              "    }\n",
              "\n",
              "    .colab-df-convert {\n",
              "      background-color: #E8F0FE;\n",
              "      border: none;\n",
              "      border-radius: 50%;\n",
              "      cursor: pointer;\n",
              "      display: none;\n",
              "      fill: #1967D2;\n",
              "      height: 32px;\n",
              "      padding: 0 0 0 0;\n",
              "      width: 32px;\n",
              "    }\n",
              "\n",
              "    .colab-df-convert:hover {\n",
              "      background-color: #E2EBFA;\n",
              "      box-shadow: 0px 1px 2px rgba(60, 64, 67, 0.3), 0px 1px 3px 1px rgba(60, 64, 67, 0.15);\n",
              "      fill: #174EA6;\n",
              "    }\n",
              "\n",
              "    [theme=dark] .colab-df-convert {\n",
              "      background-color: #3B4455;\n",
              "      fill: #D2E3FC;\n",
              "    }\n",
              "\n",
              "    [theme=dark] .colab-df-convert:hover {\n",
              "      background-color: #434B5C;\n",
              "      box-shadow: 0px 1px 3px 1px rgba(0, 0, 0, 0.15);\n",
              "      filter: drop-shadow(0px 1px 2px rgba(0, 0, 0, 0.3));\n",
              "      fill: #FFFFFF;\n",
              "    }\n",
              "  </style>\n",
              "\n",
              "      <script>\n",
              "        const buttonEl =\n",
              "          document.querySelector('#df-c182716c-189a-4a40-9f0a-08d2c511eeaa button.colab-df-convert');\n",
              "        buttonEl.style.display =\n",
              "          google.colab.kernel.accessAllowed ? 'block' : 'none';\n",
              "\n",
              "        async function convertToInteractive(key) {\n",
              "          const element = document.querySelector('#df-c182716c-189a-4a40-9f0a-08d2c511eeaa');\n",
              "          const dataTable =\n",
              "            await google.colab.kernel.invokeFunction('convertToInteractive',\n",
              "                                                     [key], {});\n",
              "          if (!dataTable) return;\n",
              "\n",
              "          const docLinkHtml = 'Like what you see? Visit the ' +\n",
              "            '<a target=\"_blank\" href=https://colab.research.google.com/notebooks/data_table.ipynb>data table notebook</a>'\n",
              "            + ' to learn more about interactive tables.';\n",
              "          element.innerHTML = '';\n",
              "          dataTable['output_type'] = 'display_data';\n",
              "          await google.colab.output.renderOutput(dataTable, element);\n",
              "          const docLink = document.createElement('div');\n",
              "          docLink.innerHTML = docLinkHtml;\n",
              "          element.appendChild(docLink);\n",
              "        }\n",
              "      </script>\n",
              "    </div>\n",
              "  </div>\n",
              "  "
            ]
          },
          "metadata": {},
          "execution_count": 123
        }
      ]
    },
    {
      "cell_type": "code",
      "source": [
        "test_id = testfile.employee_id"
      ],
      "metadata": {
        "id": "mMmXU7Ee4vDg"
      },
      "id": "mMmXU7Ee4vDg",
      "execution_count": 148,
      "outputs": []
    },
    {
      "cell_type": "code",
      "source": [
        "df2 = pd.concat([df,testfile])\n",
        "df2.shape\n",
        "df2.isnull().sum()"
      ],
      "metadata": {
        "colab": {
          "base_uri": "https://localhost:8080/"
        },
        "id": "uhiig4iRI0Mo",
        "outputId": "07faa743-0cdd-4d17-f849-d778eb2018b1"
      },
      "id": "uhiig4iRI0Mo",
      "execution_count": 124,
      "outputs": [
        {
          "output_type": "execute_result",
          "data": {
            "text/plain": [
              "employee_id                 0\n",
              "department                  0\n",
              "region                      0\n",
              "education                3443\n",
              "gender                      0\n",
              "recruitment_channel         0\n",
              "no_of_trainings             0\n",
              "age                         0\n",
              "previous_year_rating     5936\n",
              "length_of_service           0\n",
              "KPIs_met >80%               0\n",
              "awards_won?                 0\n",
              "avg_training_score          0\n",
              "is_promoted             23490\n",
              "dtype: int64"
            ]
          },
          "metadata": {},
          "execution_count": 124
        }
      ]
    },
    {
      "cell_type": "markdown",
      "source": [
        "<h1>Featuring Engineering the Dataset</h1>\n",
        "With Reference to : https://www.kaggle.com/code/mustafacicek/hr-analytics-analyticsvidhya-8th-place-0-5329-f1/notebook"
      ],
      "metadata": {
        "id": "sz3AoSJHKKHC"
      },
      "id": "sz3AoSJHKKHC"
    },
    {
      "cell_type": "code",
      "source": [
        "df3 = df2.copy()"
      ],
      "metadata": {
        "id": "NvKdukKXJHQ3"
      },
      "id": "NvKdukKXJHQ3",
      "execution_count": 125,
      "outputs": []
    },
    {
      "cell_type": "code",
      "source": [
        "df2"
      ],
      "metadata": {
        "colab": {
          "base_uri": "https://localhost:8080/",
          "height": 592
        },
        "id": "qp2W6InPYkFd",
        "outputId": "26c16a3c-c8f0-4fab-b08d-6a2f0620cdff"
      },
      "id": "qp2W6InPYkFd",
      "execution_count": 126,
      "outputs": [
        {
          "output_type": "execute_result",
          "data": {
            "text/plain": [
              "       employee_id         department     region         education gender  \\\n",
              "0            65438  Sales & Marketing   region_7  Master's & above      f   \n",
              "1            65141         Operations  region_22        Bachelor's      m   \n",
              "2             7513  Sales & Marketing  region_19        Bachelor's      m   \n",
              "3             2542  Sales & Marketing  region_23        Bachelor's      m   \n",
              "4            48945         Technology  region_26        Bachelor's      m   \n",
              "...            ...                ...        ...               ...    ...   \n",
              "23485        53478              Legal   region_2   Below Secondary      m   \n",
              "23486        25600         Technology  region_25        Bachelor's      m   \n",
              "23487        45409                 HR  region_16        Bachelor's      f   \n",
              "23488         1186        Procurement  region_31        Bachelor's      m   \n",
              "23489         5973         Technology  region_17  Master's & above      m   \n",
              "\n",
              "      recruitment_channel  no_of_trainings  age  previous_year_rating  \\\n",
              "0                sourcing                1   35                   5.0   \n",
              "1                   other                1   30                   5.0   \n",
              "2                sourcing                1   34                   3.0   \n",
              "3                   other                2   39                   1.0   \n",
              "4                   other                1   45                   3.0   \n",
              "...                   ...              ...  ...                   ...   \n",
              "23485            sourcing                1   24                   3.0   \n",
              "23486            sourcing                1   31                   3.0   \n",
              "23487            sourcing                1   26                   4.0   \n",
              "23488            sourcing                3   27                   NaN   \n",
              "23489               other                3   40                   5.0   \n",
              "\n",
              "       length_of_service  KPIs_met >80%  awards_won?  avg_training_score  \\\n",
              "0                      8              1            0                  49   \n",
              "1                      4              0            0                  60   \n",
              "2                      7              0            0                  50   \n",
              "3                     10              0            0                  50   \n",
              "4                      2              0            0                  73   \n",
              "...                  ...            ...          ...                 ...   \n",
              "23485                  1              0            0                  61   \n",
              "23486                  7              0            0                  74   \n",
              "23487                  4              0            0                  50   \n",
              "23488                  1              0            0                  70   \n",
              "23489                  5              1            0                  89   \n",
              "\n",
              "       is_promoted  \n",
              "0              0.0  \n",
              "1              0.0  \n",
              "2              0.0  \n",
              "3              0.0  \n",
              "4              0.0  \n",
              "...            ...  \n",
              "23485          NaN  \n",
              "23486          NaN  \n",
              "23487          NaN  \n",
              "23488          NaN  \n",
              "23489          NaN  \n",
              "\n",
              "[78298 rows x 14 columns]"
            ],
            "text/html": [
              "\n",
              "  <div id=\"df-b243cce7-e1a2-4a32-9a3a-1a76f2cec73d\">\n",
              "    <div class=\"colab-df-container\">\n",
              "      <div>\n",
              "<style scoped>\n",
              "    .dataframe tbody tr th:only-of-type {\n",
              "        vertical-align: middle;\n",
              "    }\n",
              "\n",
              "    .dataframe tbody tr th {\n",
              "        vertical-align: top;\n",
              "    }\n",
              "\n",
              "    .dataframe thead th {\n",
              "        text-align: right;\n",
              "    }\n",
              "</style>\n",
              "<table border=\"1\" class=\"dataframe\">\n",
              "  <thead>\n",
              "    <tr style=\"text-align: right;\">\n",
              "      <th></th>\n",
              "      <th>employee_id</th>\n",
              "      <th>department</th>\n",
              "      <th>region</th>\n",
              "      <th>education</th>\n",
              "      <th>gender</th>\n",
              "      <th>recruitment_channel</th>\n",
              "      <th>no_of_trainings</th>\n",
              "      <th>age</th>\n",
              "      <th>previous_year_rating</th>\n",
              "      <th>length_of_service</th>\n",
              "      <th>KPIs_met &gt;80%</th>\n",
              "      <th>awards_won?</th>\n",
              "      <th>avg_training_score</th>\n",
              "      <th>is_promoted</th>\n",
              "    </tr>\n",
              "  </thead>\n",
              "  <tbody>\n",
              "    <tr>\n",
              "      <th>0</th>\n",
              "      <td>65438</td>\n",
              "      <td>Sales &amp; Marketing</td>\n",
              "      <td>region_7</td>\n",
              "      <td>Master's &amp; above</td>\n",
              "      <td>f</td>\n",
              "      <td>sourcing</td>\n",
              "      <td>1</td>\n",
              "      <td>35</td>\n",
              "      <td>5.0</td>\n",
              "      <td>8</td>\n",
              "      <td>1</td>\n",
              "      <td>0</td>\n",
              "      <td>49</td>\n",
              "      <td>0.0</td>\n",
              "    </tr>\n",
              "    <tr>\n",
              "      <th>1</th>\n",
              "      <td>65141</td>\n",
              "      <td>Operations</td>\n",
              "      <td>region_22</td>\n",
              "      <td>Bachelor's</td>\n",
              "      <td>m</td>\n",
              "      <td>other</td>\n",
              "      <td>1</td>\n",
              "      <td>30</td>\n",
              "      <td>5.0</td>\n",
              "      <td>4</td>\n",
              "      <td>0</td>\n",
              "      <td>0</td>\n",
              "      <td>60</td>\n",
              "      <td>0.0</td>\n",
              "    </tr>\n",
              "    <tr>\n",
              "      <th>2</th>\n",
              "      <td>7513</td>\n",
              "      <td>Sales &amp; Marketing</td>\n",
              "      <td>region_19</td>\n",
              "      <td>Bachelor's</td>\n",
              "      <td>m</td>\n",
              "      <td>sourcing</td>\n",
              "      <td>1</td>\n",
              "      <td>34</td>\n",
              "      <td>3.0</td>\n",
              "      <td>7</td>\n",
              "      <td>0</td>\n",
              "      <td>0</td>\n",
              "      <td>50</td>\n",
              "      <td>0.0</td>\n",
              "    </tr>\n",
              "    <tr>\n",
              "      <th>3</th>\n",
              "      <td>2542</td>\n",
              "      <td>Sales &amp; Marketing</td>\n",
              "      <td>region_23</td>\n",
              "      <td>Bachelor's</td>\n",
              "      <td>m</td>\n",
              "      <td>other</td>\n",
              "      <td>2</td>\n",
              "      <td>39</td>\n",
              "      <td>1.0</td>\n",
              "      <td>10</td>\n",
              "      <td>0</td>\n",
              "      <td>0</td>\n",
              "      <td>50</td>\n",
              "      <td>0.0</td>\n",
              "    </tr>\n",
              "    <tr>\n",
              "      <th>4</th>\n",
              "      <td>48945</td>\n",
              "      <td>Technology</td>\n",
              "      <td>region_26</td>\n",
              "      <td>Bachelor's</td>\n",
              "      <td>m</td>\n",
              "      <td>other</td>\n",
              "      <td>1</td>\n",
              "      <td>45</td>\n",
              "      <td>3.0</td>\n",
              "      <td>2</td>\n",
              "      <td>0</td>\n",
              "      <td>0</td>\n",
              "      <td>73</td>\n",
              "      <td>0.0</td>\n",
              "    </tr>\n",
              "    <tr>\n",
              "      <th>...</th>\n",
              "      <td>...</td>\n",
              "      <td>...</td>\n",
              "      <td>...</td>\n",
              "      <td>...</td>\n",
              "      <td>...</td>\n",
              "      <td>...</td>\n",
              "      <td>...</td>\n",
              "      <td>...</td>\n",
              "      <td>...</td>\n",
              "      <td>...</td>\n",
              "      <td>...</td>\n",
              "      <td>...</td>\n",
              "      <td>...</td>\n",
              "      <td>...</td>\n",
              "    </tr>\n",
              "    <tr>\n",
              "      <th>23485</th>\n",
              "      <td>53478</td>\n",
              "      <td>Legal</td>\n",
              "      <td>region_2</td>\n",
              "      <td>Below Secondary</td>\n",
              "      <td>m</td>\n",
              "      <td>sourcing</td>\n",
              "      <td>1</td>\n",
              "      <td>24</td>\n",
              "      <td>3.0</td>\n",
              "      <td>1</td>\n",
              "      <td>0</td>\n",
              "      <td>0</td>\n",
              "      <td>61</td>\n",
              "      <td>NaN</td>\n",
              "    </tr>\n",
              "    <tr>\n",
              "      <th>23486</th>\n",
              "      <td>25600</td>\n",
              "      <td>Technology</td>\n",
              "      <td>region_25</td>\n",
              "      <td>Bachelor's</td>\n",
              "      <td>m</td>\n",
              "      <td>sourcing</td>\n",
              "      <td>1</td>\n",
              "      <td>31</td>\n",
              "      <td>3.0</td>\n",
              "      <td>7</td>\n",
              "      <td>0</td>\n",
              "      <td>0</td>\n",
              "      <td>74</td>\n",
              "      <td>NaN</td>\n",
              "    </tr>\n",
              "    <tr>\n",
              "      <th>23487</th>\n",
              "      <td>45409</td>\n",
              "      <td>HR</td>\n",
              "      <td>region_16</td>\n",
              "      <td>Bachelor's</td>\n",
              "      <td>f</td>\n",
              "      <td>sourcing</td>\n",
              "      <td>1</td>\n",
              "      <td>26</td>\n",
              "      <td>4.0</td>\n",
              "      <td>4</td>\n",
              "      <td>0</td>\n",
              "      <td>0</td>\n",
              "      <td>50</td>\n",
              "      <td>NaN</td>\n",
              "    </tr>\n",
              "    <tr>\n",
              "      <th>23488</th>\n",
              "      <td>1186</td>\n",
              "      <td>Procurement</td>\n",
              "      <td>region_31</td>\n",
              "      <td>Bachelor's</td>\n",
              "      <td>m</td>\n",
              "      <td>sourcing</td>\n",
              "      <td>3</td>\n",
              "      <td>27</td>\n",
              "      <td>NaN</td>\n",
              "      <td>1</td>\n",
              "      <td>0</td>\n",
              "      <td>0</td>\n",
              "      <td>70</td>\n",
              "      <td>NaN</td>\n",
              "    </tr>\n",
              "    <tr>\n",
              "      <th>23489</th>\n",
              "      <td>5973</td>\n",
              "      <td>Technology</td>\n",
              "      <td>region_17</td>\n",
              "      <td>Master's &amp; above</td>\n",
              "      <td>m</td>\n",
              "      <td>other</td>\n",
              "      <td>3</td>\n",
              "      <td>40</td>\n",
              "      <td>5.0</td>\n",
              "      <td>5</td>\n",
              "      <td>1</td>\n",
              "      <td>0</td>\n",
              "      <td>89</td>\n",
              "      <td>NaN</td>\n",
              "    </tr>\n",
              "  </tbody>\n",
              "</table>\n",
              "<p>78298 rows × 14 columns</p>\n",
              "</div>\n",
              "      <button class=\"colab-df-convert\" onclick=\"convertToInteractive('df-b243cce7-e1a2-4a32-9a3a-1a76f2cec73d')\"\n",
              "              title=\"Convert this dataframe to an interactive table.\"\n",
              "              style=\"display:none;\">\n",
              "        \n",
              "  <svg xmlns=\"http://www.w3.org/2000/svg\" height=\"24px\"viewBox=\"0 0 24 24\"\n",
              "       width=\"24px\">\n",
              "    <path d=\"M0 0h24v24H0V0z\" fill=\"none\"/>\n",
              "    <path d=\"M18.56 5.44l.94 2.06.94-2.06 2.06-.94-2.06-.94-.94-2.06-.94 2.06-2.06.94zm-11 1L8.5 8.5l.94-2.06 2.06-.94-2.06-.94L8.5 2.5l-.94 2.06-2.06.94zm10 10l.94 2.06.94-2.06 2.06-.94-2.06-.94-.94-2.06-.94 2.06-2.06.94z\"/><path d=\"M17.41 7.96l-1.37-1.37c-.4-.4-.92-.59-1.43-.59-.52 0-1.04.2-1.43.59L10.3 9.45l-7.72 7.72c-.78.78-.78 2.05 0 2.83L4 21.41c.39.39.9.59 1.41.59.51 0 1.02-.2 1.41-.59l7.78-7.78 2.81-2.81c.8-.78.8-2.07 0-2.86zM5.41 20L4 18.59l7.72-7.72 1.47 1.35L5.41 20z\"/>\n",
              "  </svg>\n",
              "      </button>\n",
              "      \n",
              "  <style>\n",
              "    .colab-df-container {\n",
              "      display:flex;\n",
              "      flex-wrap:wrap;\n",
              "      gap: 12px;\n",
              "    }\n",
              "\n",
              "    .colab-df-convert {\n",
              "      background-color: #E8F0FE;\n",
              "      border: none;\n",
              "      border-radius: 50%;\n",
              "      cursor: pointer;\n",
              "      display: none;\n",
              "      fill: #1967D2;\n",
              "      height: 32px;\n",
              "      padding: 0 0 0 0;\n",
              "      width: 32px;\n",
              "    }\n",
              "\n",
              "    .colab-df-convert:hover {\n",
              "      background-color: #E2EBFA;\n",
              "      box-shadow: 0px 1px 2px rgba(60, 64, 67, 0.3), 0px 1px 3px 1px rgba(60, 64, 67, 0.15);\n",
              "      fill: #174EA6;\n",
              "    }\n",
              "\n",
              "    [theme=dark] .colab-df-convert {\n",
              "      background-color: #3B4455;\n",
              "      fill: #D2E3FC;\n",
              "    }\n",
              "\n",
              "    [theme=dark] .colab-df-convert:hover {\n",
              "      background-color: #434B5C;\n",
              "      box-shadow: 0px 1px 3px 1px rgba(0, 0, 0, 0.15);\n",
              "      filter: drop-shadow(0px 1px 2px rgba(0, 0, 0, 0.3));\n",
              "      fill: #FFFFFF;\n",
              "    }\n",
              "  </style>\n",
              "\n",
              "      <script>\n",
              "        const buttonEl =\n",
              "          document.querySelector('#df-b243cce7-e1a2-4a32-9a3a-1a76f2cec73d button.colab-df-convert');\n",
              "        buttonEl.style.display =\n",
              "          google.colab.kernel.accessAllowed ? 'block' : 'none';\n",
              "\n",
              "        async function convertToInteractive(key) {\n",
              "          const element = document.querySelector('#df-b243cce7-e1a2-4a32-9a3a-1a76f2cec73d');\n",
              "          const dataTable =\n",
              "            await google.colab.kernel.invokeFunction('convertToInteractive',\n",
              "                                                     [key], {});\n",
              "          if (!dataTable) return;\n",
              "\n",
              "          const docLinkHtml = 'Like what you see? Visit the ' +\n",
              "            '<a target=\"_blank\" href=https://colab.research.google.com/notebooks/data_table.ipynb>data table notebook</a>'\n",
              "            + ' to learn more about interactive tables.';\n",
              "          element.innerHTML = '';\n",
              "          dataTable['output_type'] = 'display_data';\n",
              "          await google.colab.output.renderOutput(dataTable, element);\n",
              "          const docLink = document.createElement('div');\n",
              "          docLink.innerHTML = docLinkHtml;\n",
              "          element.appendChild(docLink);\n",
              "        }\n",
              "      </script>\n",
              "    </div>\n",
              "  </div>\n",
              "  "
            ]
          },
          "metadata": {},
          "execution_count": 126
        }
      ]
    },
    {
      "cell_type": "code",
      "source": [
        "df3['is_firstyear'] = df3['length_of_service'].apply(lambda x : 1 if x == 1 else 0 )\n",
        "df3['starting_age'] = df3['age'] - df3['length_of_service']\n",
        "df3['total_success'] = df3['previous_year_rating']*20 + df3['awards_won?']*100 + df3['avg_training_score'] + df3['KPIs_met >80%']*100"
      ],
      "metadata": {
        "id": "59-BTEUhJH2a"
      },
      "id": "59-BTEUhJH2a",
      "execution_count": 127,
      "outputs": []
    },
    {
      "cell_type": "markdown",
      "source": [
        "Let's analyse other features with respect to Region and Department"
      ],
      "metadata": {
        "id": "fHFW7dAKMLvS"
      },
      "id": "fHFW7dAKMLvS"
    },
    {
      "cell_type": "code",
      "source": [
        "rd1 = df3.groupby([\"region\",\t\"department\"])['employee_id'].count()\n",
        "rd1.region_2.plot(kind='barh')"
      ],
      "metadata": {
        "colab": {
          "base_uri": "https://localhost:8080/",
          "height": 282
        },
        "id": "HG8_kxIcJIEk",
        "outputId": "9feb4ac8-a853-4ab5-9493-706c610dce69"
      },
      "id": "HG8_kxIcJIEk",
      "execution_count": 128,
      "outputs": [
        {
          "output_type": "execute_result",
          "data": {
            "text/plain": [
              "<matplotlib.axes._subplots.AxesSubplot at 0x7f85d36f7af0>"
            ]
          },
          "metadata": {},
          "execution_count": 128
        },
        {
          "output_type": "display_data",
          "data": {
            "text/plain": [
              "<Figure size 432x288 with 1 Axes>"
            ],
            "image/png": "[encoded data removed]"
          },
          "metadata": {
            "needs_background": "light"
          }
        }
      ]
    },
    {
      "cell_type": "code",
      "source": [
        "rd2 = df3.groupby([\"region\",\"department\"])['age'].mean()\n",
        "rd3 = df3.groupby([\"region\",\"department\"])['length_of_service'].mean()\n",
        "rd4 = df3.groupby([\"region\",\"department\"])['avg_training_score'].mean()\n",
        "rd5 = df3.groupby([\"region\",\"department\"])['total_success'].mean()\n",
        "rd6 = df3.groupby([\"region\",\"department\"])['previous_year_rating'].mean()\n",
        "rd7 = df3.groupby([\"region\",\"department\"])['is_firstyear'].sum()"
      ],
      "metadata": {
        "id": "hM6maHJUI0sE"
      },
      "id": "hM6maHJUI0sE",
      "execution_count": 129,
      "outputs": []
    },
    {
      "cell_type": "code",
      "source": [
        "for i in range(rd1.shape[0]):\n",
        "  region = rd1.index[i][0]\n",
        "  department = rd1.index[i][1]\n",
        "\n",
        "  df3.loc[(df3.region == region) & (df3.department == department),\"employee_per_department&region\"] = rd1[i]\n",
        "  df3.loc[(df3.region == region) & (df3.department == department),\"avg_age_for_department&region\"] = rd2[i]\n",
        "  df3.loc[(df3.region == region) & (df3.department == department),\"avg_score_for_department&region\"] = rd3[i]\n",
        "  df3.loc[(df3.region == region) & (df3.department == department),\"avg_succes_department&region\"] = rd4[i]\n",
        "  df3.loc[(df3.region == region) & (df3.department == department),\"avg_prev_year_rating_department&region\"] = rd5[i]\n",
        "  df3.loc[(df3.region == region) & (df3.department == department),\"avg_len_of_service_department&region\"] = rd6[i]\n",
        "  df3.loc[(df3.region == region) & (df3.department == department),\"total_rookie_for_department&region\"] = rd7[i]\n",
        "\n",
        "\n",
        "\n"
      ],
      "metadata": {
        "id": "eYbKgwDxI03n"
      },
      "id": "eYbKgwDxI03n",
      "execution_count": 130,
      "outputs": []
    },
    {
      "cell_type": "code",
      "source": [
        "df3[\"is_young_in_dep_reg\"] = np.where((df3.age <= df3[\"avg_age_for_department&region\"]),1,0)\n",
        "df3[\"better_score_in_dep_reg\"] = np.where((df3.avg_training_score >= df3[\"avg_succes_department&region\"] ),1,0)\n",
        "df3[\"better_success_in_dep_reg\"] = np.where((df3.total_success >= df3['avg_succes_department&region']),1,0)\n",
        "df3[\"better_prev_year_rating_in_dep_reg\"] = np.where((df3.previous_year_rating >= df3['avg_prev_year_rating_department&region']),1,0)\n",
        "df3[\"longer_len_of_service_rating_in_dep_reg\"] = np.where((df3.length_of_service >= df3['avg_len_of_service_department&region']),1,0)"
      ],
      "metadata": {
        "id": "h89S2IofI0-N"
      },
      "id": "h89S2IofI0-N",
      "execution_count": 131,
      "outputs": []
    },
    {
      "cell_type": "markdown",
      "source": [
        "Department level Feature Engineering!"
      ],
      "metadata": {
        "id": "1r9Xs3PsWZt3"
      },
      "id": "1r9Xs3PsWZt3"
    },
    {
      "cell_type": "code",
      "source": [
        "d1 = df3.groupby(\"department\")[\"employee_id\"].count()\n",
        "d2 = df3.groupby(\"department\")[\"age\"].mean()\n",
        "d3 = df3.groupby(\"department\")[\"avg_training_score\"].mean()\n",
        "d4 = df3.groupby(\"department\")[\"total_success\"].mean()\n",
        "d5 = df3.groupby(\"department\")[\"previous_year_rating\"].mean()\n",
        "d6 = df3.groupby(\"department\")[\"length_of_service\"].mean()\n",
        "d7 = df3.groupby(\"department\")[\"is_firstyear\"].sum()\n",
        "\n",
        "\n",
        "for i in range(d1.shape[0]):\n",
        "    department = d1.index[i]\n",
        "\n",
        "    df3.loc[(df2.department == department), \"employee_per_department\"] = d1[i]\n",
        "    df3.loc[(df2.department == department), \"avg_age_for_department\"] = d2[i]\n",
        "    df3.loc[(df2.department == department), \"avg_score_for_department\"] = d3[i]\n",
        "    df3.loc[(df2.department == department), \"avg_succes_department\"] = d4[i]\n",
        "    df3.loc[(df2.department == department), \"avg_prev_year_rating_department\"] = d5[i]\n",
        "    df3.loc[(df2.department == department), \"avg_len_of_service_department\"] = d6[i]\n",
        "    df3.loc[(df2.department == department), \"total_rookie_for_department\"] = d7[i] "
      ],
      "metadata": {
        "id": "U9ViC-p3I1Ob"
      },
      "id": "U9ViC-p3I1Ob",
      "execution_count": 132,
      "outputs": []
    },
    {
      "cell_type": "code",
      "source": [
        "df3[\"is_young_in_dep\"] = np.where((df3.age <= df3[\"avg_age_for_department\"]), 0, 1)\n",
        "df3[\"better_score_in_dep\"] = np.where((df3[\"avg_score_for_department\"] <= df3[\"avg_training_score\"]), 1, 0)\n",
        "df3[\"better_success_in_dep\"] = np.where((df3[\"avg_succes_department\"] <= df3[\"total_success\"]), 1, 0)\n",
        "df3[\"better_prev_year_rating_in_dep\"] = np.where((df3[\"avg_prev_year_rating_department\"] <= df3[\"previous_year_rating\"]), 1, 0)\n",
        "df3[\"longer_len_of_service_rating_in_dep\"] = np.where((df3[\"avg_len_of_service_department\"] <= df3[\"length_of_service\"]), 1, 0)"
      ],
      "metadata": {
        "id": "HRWCjFf0I27a"
      },
      "id": "HRWCjFf0I27a",
      "execution_count": 133,
      "outputs": []
    },
    {
      "cell_type": "code",
      "source": [
        "#Label Encoding\n",
        "df3[\"education\"] = df3[\"education\"].map({\"Below Secondary\": 1, \"Bachelor's\": 2, \"Master's & above\":3})"
      ],
      "metadata": {
        "id": "5Oj7Wn0YI3yB"
      },
      "id": "5Oj7Wn0YI3yB",
      "execution_count": 134,
      "outputs": []
    },
    {
      "cell_type": "code",
      "source": [
        "df3[\"total_training_score\"] = df3[\"no_of_trainings\"] * df3[\"avg_training_score\"]\n",
        "df3[\"total_training_score\"].describe()"
      ],
      "metadata": {
        "colab": {
          "base_uri": "https://localhost:8080/"
        },
        "id": "Y85WuK6kI4kR",
        "outputId": "bbea6c30-411b-4d2e-8de1-bf957a8c3810"
      },
      "id": "Y85WuK6kI4kR",
      "execution_count": 135,
      "outputs": [
        {
          "output_type": "execute_result",
          "data": {
            "text/plain": [
              "count    78298.000000\n",
              "mean        79.759853\n",
              "std         43.799629\n",
              "min         39.000000\n",
              "25%         53.000000\n",
              "50%         64.000000\n",
              "75%         84.000000\n",
              "max        710.000000\n",
              "Name: total_training_score, dtype: float64"
            ]
          },
          "metadata": {},
          "execution_count": 135
        }
      ]
    },
    {
      "cell_type": "markdown",
      "source": [
        "<h2>Target Encoding</h2>"
      ],
      "metadata": {
        "id": "axvav7VW9CEq"
      },
      "id": "axvav7VW9CEq"
    },
    {
      "cell_type": "code",
      "source": [
        "#https://maxhalford.github.io/blog/target-encoding/\n",
        "def calc_smooth_mean(df, by, on, m):\n",
        "    # Compute the global mean\n",
        "    mean = df[on].mean()\n",
        "\n",
        "    # Compute the number of values and the mean of each group\n",
        "    agg = df.groupby(by)[on].agg(['count', 'mean'])\n",
        "    counts = agg['count']\n",
        "    means = agg['mean']\n",
        "\n",
        "    # Compute the \"smoothed\" means\n",
        "    smooth = (counts * means + m * mean) / (counts + m)\n",
        "\n",
        "    # Replace each value by the according smoothed mean\n",
        "    return df[by].map(smooth)\n",
        "\n",
        "df3[\"region\"] = calc_smooth_mean(df3, \"region\", \"is_promoted\", 300)\n",
        "df3[\"department\"] = calc_smooth_mean(df3, \"department\", \"is_promoted\", 300)"
      ],
      "metadata": {
        "id": "CtS0JekxI4z2"
      },
      "id": "CtS0JekxI4z2",
      "execution_count": 136,
      "outputs": []
    },
    {
      "cell_type": "code",
      "source": [
        "dummies = pd.get_dummies(df3[[\"gender\", \"recruitment_channel\"]], drop_first = True)\n",
        "\n",
        "df4 = pd.concat([df3, dummies], axis = 1).drop([\"gender\", \"recruitment_channel\"], axis = 1)\n",
        "df4"
      ],
      "metadata": {
        "colab": {
          "base_uri": "https://localhost:8080/",
          "height": 505
        },
        "id": "1o_XENAtI491",
        "outputId": "d3888bb8-5df1-4f33-dc6a-baacbb2ce3e8"
      },
      "id": "1o_XENAtI491",
      "execution_count": 137,
      "outputs": [
        {
          "output_type": "execute_result",
          "data": {
            "text/plain": [
              "       employee_id  department    region  education  no_of_trainings  age  \\\n",
              "0            65438    0.072261  0.105299        3.0                1   35   \n",
              "1            65141    0.090020  0.112894        2.0                1   30   \n",
              "2             7513    0.072261  0.066909        2.0                1   34   \n",
              "3             2542    0.072261  0.110204        2.0                2   39   \n",
              "4            48945    0.106689  0.065840        2.0                1   45   \n",
              "...            ...         ...       ...        ...              ...  ...   \n",
              "23485        53478    0.058664  0.080246        1.0                1   24   \n",
              "23486        25600    0.106689  0.114880        2.0                1   31   \n",
              "23487        45409    0.059437  0.072267        2.0                1   26   \n",
              "23488         1186    0.095933  0.060649        2.0                3   27   \n",
              "23489         5973    0.106689  0.122766        3.0                3   40   \n",
              "\n",
              "       previous_year_rating  length_of_service  KPIs_met >80%  awards_won?  \\\n",
              "0                       5.0                  8              1            0   \n",
              "1                       5.0                  4              0            0   \n",
              "2                       3.0                  7              0            0   \n",
              "3                       1.0                 10              0            0   \n",
              "4                       3.0                  2              0            0   \n",
              "...                     ...                ...            ...          ...   \n",
              "23485                   3.0                  1              0            0   \n",
              "23486                   3.0                  7              0            0   \n",
              "23487                   4.0                  4              0            0   \n",
              "23488                   NaN                  1              0            0   \n",
              "23489                   5.0                  5              1            0   \n",
              "\n",
              "       ...  total_rookie_for_department  is_young_in_dep  better_score_in_dep  \\\n",
              "0      ...                       2096.0                1                    0   \n",
              "1      ...                        914.0                0                    0   \n",
              "2      ...                       2096.0                0                    0   \n",
              "3      ...                       2096.0                1                    0   \n",
              "4      ...                        881.0                1                    0   \n",
              "...    ...                          ...              ...                  ...   \n",
              "23485  ...                        256.0                0                    1   \n",
              "23486  ...                        881.0                0                    0   \n",
              "23487  ...                        377.0                0                    0   \n",
              "23488  ...                        666.0                0                    0   \n",
              "23489  ...                        881.0                1                    1   \n",
              "\n",
              "       better_success_in_dep  better_prev_year_rating_in_dep  \\\n",
              "0                          1                               1   \n",
              "1                          0                               1   \n",
              "2                          0                               0   \n",
              "3                          0                               0   \n",
              "4                          0                               0   \n",
              "...                      ...                             ...   \n",
              "23485                      0                               0   \n",
              "23486                      0                               0   \n",
              "23487                      0                               1   \n",
              "23488                      0                               0   \n",
              "23489                      1                               1   \n",
              "\n",
              "       longer_len_of_service_rating_in_dep  total_training_score  gender_m  \\\n",
              "0                                        1                    49         0   \n",
              "1                                        0                    60         1   \n",
              "2                                        1                    50         1   \n",
              "3                                        1                   100         1   \n",
              "4                                        0                    73         1   \n",
              "...                                    ...                   ...       ...   \n",
              "23485                                    0                    61         1   \n",
              "23486                                    1                    74         1   \n",
              "23487                                    0                    50         0   \n",
              "23488                                    0                   210         1   \n",
              "23489                                    0                   267         1   \n",
              "\n",
              "       recruitment_channel_referred  recruitment_channel_sourcing  \n",
              "0                                 0                             1  \n",
              "1                                 0                             0  \n",
              "2                                 0                             1  \n",
              "3                                 0                             0  \n",
              "4                                 0                             0  \n",
              "...                             ...                           ...  \n",
              "23485                             0                             1  \n",
              "23486                             0                             1  \n",
              "23487                             0                             1  \n",
              "23488                             0                             1  \n",
              "23489                             0                             0  \n",
              "\n",
              "[78298 rows x 43 columns]"
            ],
            "text/html": [
              "\n",
              "  <div id=\"df-6ed70fff-5bc9-4e0f-a956-303b2fe16d8e\">\n",
              "    <div class=\"colab-df-container\">\n",
              "      <div>\n",
              "<style scoped>\n",
              "    .dataframe tbody tr th:only-of-type {\n",
              "        vertical-align: middle;\n",
              "    }\n",
              "\n",
              "    .dataframe tbody tr th {\n",
              "        vertical-align: top;\n",
              "    }\n",
              "\n",
              "    .dataframe thead th {\n",
              "        text-align: right;\n",
              "    }\n",
              "</style>\n",
              "<table border=\"1\" class=\"dataframe\">\n",
              "  <thead>\n",
              "    <tr style=\"text-align: right;\">\n",
              "      <th></th>\n",
              "      <th>employee_id</th>\n",
              "      <th>department</th>\n",
              "      <th>region</th>\n",
              "      <th>education</th>\n",
              "      <th>no_of_trainings</th>\n",
              "      <th>age</th>\n",
              "      <th>previous_year_rating</th>\n",
              "      <th>length_of_service</th>\n",
              "      <th>KPIs_met &gt;80%</th>\n",
              "      <th>awards_won?</th>\n",
              "      <th>...</th>\n",
              "      <th>total_rookie_for_department</th>\n",
              "      <th>is_young_in_dep</th>\n",
              "      <th>better_score_in_dep</th>\n",
              "      <th>better_success_in_dep</th>\n",
              "      <th>better_prev_year_rating_in_dep</th>\n",
              "      <th>longer_len_of_service_rating_in_dep</th>\n",
              "      <th>total_training_score</th>\n",
              "      <th>gender_m</th>\n",
              "      <th>recruitment_channel_referred</th>\n",
              "      <th>recruitment_channel_sourcing</th>\n",
              "    </tr>\n",
              "  </thead>\n",
              "  <tbody>\n",
              "    <tr>\n",
              "      <th>0</th>\n",
              "      <td>65438</td>\n",
              "      <td>0.072261</td>\n",
              "      <td>0.105299</td>\n",
              "      <td>3.0</td>\n",
              "      <td>1</td>\n",
              "      <td>35</td>\n",
              "      <td>5.0</td>\n",
              "      <td>8</td>\n",
              "      <td>1</td>\n",
              "      <td>0</td>\n",
              "      <td>...</td>\n",
              "      <td>2096.0</td>\n",
              "      <td>1</td>\n",
              "      <td>0</td>\n",
              "      <td>1</td>\n",
              "      <td>1</td>\n",
              "      <td>1</td>\n",
              "      <td>49</td>\n",
              "      <td>0</td>\n",
              "      <td>0</td>\n",
              "      <td>1</td>\n",
              "    </tr>\n",
              "    <tr>\n",
              "      <th>1</th>\n",
              "      <td>65141</td>\n",
              "      <td>0.090020</td>\n",
              "      <td>0.112894</td>\n",
              "      <td>2.0</td>\n",
              "      <td>1</td>\n",
              "      <td>30</td>\n",
              "      <td>5.0</td>\n",
              "      <td>4</td>\n",
              "      <td>0</td>\n",
              "      <td>0</td>\n",
              "      <td>...</td>\n",
              "      <td>914.0</td>\n",
              "      <td>0</td>\n",
              "      <td>0</td>\n",
              "      <td>0</td>\n",
              "      <td>1</td>\n",
              "      <td>0</td>\n",
              "      <td>60</td>\n",
              "      <td>1</td>\n",
              "      <td>0</td>\n",
              "      <td>0</td>\n",
              "    </tr>\n",
              "    <tr>\n",
              "      <th>2</th>\n",
              "      <td>7513</td>\n",
              "      <td>0.072261</td>\n",
              "      <td>0.066909</td>\n",
              "      <td>2.0</td>\n",
              "      <td>1</td>\n",
              "      <td>34</td>\n",
              "      <td>3.0</td>\n",
              "      <td>7</td>\n",
              "      <td>0</td>\n",
              "      <td>0</td>\n",
              "      <td>...</td>\n",
              "      <td>2096.0</td>\n",
              "      <td>0</td>\n",
              "      <td>0</td>\n",
              "      <td>0</td>\n",
              "      <td>0</td>\n",
              "      <td>1</td>\n",
              "      <td>50</td>\n",
              "      <td>1</td>\n",
              "      <td>0</td>\n",
              "      <td>1</td>\n",
              "    </tr>\n",
              "    <tr>\n",
              "      <th>3</th>\n",
              "      <td>2542</td>\n",
              "      <td>0.072261</td>\n",
              "      <td>0.110204</td>\n",
              "      <td>2.0</td>\n",
              "      <td>2</td>\n",
              "      <td>39</td>\n",
              "      <td>1.0</td>\n",
              "      <td>10</td>\n",
              "      <td>0</td>\n",
              "      <td>0</td>\n",
              "      <td>...</td>\n",
              "      <td>2096.0</td>\n",
              "      <td>1</td>\n",
              "      <td>0</td>\n",
              "      <td>0</td>\n",
              "      <td>0</td>\n",
              "      <td>1</td>\n",
              "      <td>100</td>\n",
              "      <td>1</td>\n",
              "      <td>0</td>\n",
              "      <td>0</td>\n",
              "    </tr>\n",
              "    <tr>\n",
              "      <th>4</th>\n",
              "      <td>48945</td>\n",
              "      <td>0.106689</td>\n",
              "      <td>0.065840</td>\n",
              "      <td>2.0</td>\n",
              "      <td>1</td>\n",
              "      <td>45</td>\n",
              "      <td>3.0</td>\n",
              "      <td>2</td>\n",
              "      <td>0</td>\n",
              "      <td>0</td>\n",
              "      <td>...</td>\n",
              "      <td>881.0</td>\n",
              "      <td>1</td>\n",
              "      <td>0</td>\n",
              "      <td>0</td>\n",
              "      <td>0</td>\n",
              "      <td>0</td>\n",
              "      <td>73</td>\n",
              "      <td>1</td>\n",
              "      <td>0</td>\n",
              "      <td>0</td>\n",
              "    </tr>\n",
              "    <tr>\n",
              "      <th>...</th>\n",
              "      <td>...</td>\n",
              "      <td>...</td>\n",
              "      <td>...</td>\n",
              "      <td>...</td>\n",
              "      <td>...</td>\n",
              "      <td>...</td>\n",
              "      <td>...</td>\n",
              "      <td>...</td>\n",
              "      <td>...</td>\n",
              "      <td>...</td>\n",
              "      <td>...</td>\n",
              "      <td>...</td>\n",
              "      <td>...</td>\n",
              "      <td>...</td>\n",
              "      <td>...</td>\n",
              "      <td>...</td>\n",
              "      <td>...</td>\n",
              "      <td>...</td>\n",
              "      <td>...</td>\n",
              "      <td>...</td>\n",
              "      <td>...</td>\n",
              "    </tr>\n",
              "    <tr>\n",
              "      <th>23485</th>\n",
              "      <td>53478</td>\n",
              "      <td>0.058664</td>\n",
              "      <td>0.080246</td>\n",
              "      <td>1.0</td>\n",
              "      <td>1</td>\n",
              "      <td>24</td>\n",
              "      <td>3.0</td>\n",
              "      <td>1</td>\n",
              "      <td>0</td>\n",
              "      <td>0</td>\n",
              "      <td>...</td>\n",
              "      <td>256.0</td>\n",
              "      <td>0</td>\n",
              "      <td>1</td>\n",
              "      <td>0</td>\n",
              "      <td>0</td>\n",
              "      <td>0</td>\n",
              "      <td>61</td>\n",
              "      <td>1</td>\n",
              "      <td>0</td>\n",
              "      <td>1</td>\n",
              "    </tr>\n",
              "    <tr>\n",
              "      <th>23486</th>\n",
              "      <td>25600</td>\n",
              "      <td>0.106689</td>\n",
              "      <td>0.114880</td>\n",
              "      <td>2.0</td>\n",
              "      <td>1</td>\n",
              "      <td>31</td>\n",
              "      <td>3.0</td>\n",
              "      <td>7</td>\n",
              "      <td>0</td>\n",
              "      <td>0</td>\n",
              "      <td>...</td>\n",
              "      <td>881.0</td>\n",
              "      <td>0</td>\n",
              "      <td>0</td>\n",
              "      <td>0</td>\n",
              "      <td>0</td>\n",
              "      <td>1</td>\n",
              "      <td>74</td>\n",
              "      <td>1</td>\n",
              "      <td>0</td>\n",
              "      <td>1</td>\n",
              "    </tr>\n",
              "    <tr>\n",
              "      <th>23487</th>\n",
              "      <td>45409</td>\n",
              "      <td>0.059437</td>\n",
              "      <td>0.072267</td>\n",
              "      <td>2.0</td>\n",
              "      <td>1</td>\n",
              "      <td>26</td>\n",
              "      <td>4.0</td>\n",
              "      <td>4</td>\n",
              "      <td>0</td>\n",
              "      <td>0</td>\n",
              "      <td>...</td>\n",
              "      <td>377.0</td>\n",
              "      <td>0</td>\n",
              "      <td>0</td>\n",
              "      <td>0</td>\n",
              "      <td>1</td>\n",
              "      <td>0</td>\n",
              "      <td>50</td>\n",
              "      <td>0</td>\n",
              "      <td>0</td>\n",
              "      <td>1</td>\n",
              "    </tr>\n",
              "    <tr>\n",
              "      <th>23488</th>\n",
              "      <td>1186</td>\n",
              "      <td>0.095933</td>\n",
              "      <td>0.060649</td>\n",
              "      <td>2.0</td>\n",
              "      <td>3</td>\n",
              "      <td>27</td>\n",
              "      <td>NaN</td>\n",
              "      <td>1</td>\n",
              "      <td>0</td>\n",
              "      <td>0</td>\n",
              "      <td>...</td>\n",
              "      <td>666.0</td>\n",
              "      <td>0</td>\n",
              "      <td>0</td>\n",
              "      <td>0</td>\n",
              "      <td>0</td>\n",
              "      <td>0</td>\n",
              "      <td>210</td>\n",
              "      <td>1</td>\n",
              "      <td>0</td>\n",
              "      <td>1</td>\n",
              "    </tr>\n",
              "    <tr>\n",
              "      <th>23489</th>\n",
              "      <td>5973</td>\n",
              "      <td>0.106689</td>\n",
              "      <td>0.122766</td>\n",
              "      <td>3.0</td>\n",
              "      <td>3</td>\n",
              "      <td>40</td>\n",
              "      <td>5.0</td>\n",
              "      <td>5</td>\n",
              "      <td>1</td>\n",
              "      <td>0</td>\n",
              "      <td>...</td>\n",
              "      <td>881.0</td>\n",
              "      <td>1</td>\n",
              "      <td>1</td>\n",
              "      <td>1</td>\n",
              "      <td>1</td>\n",
              "      <td>0</td>\n",
              "      <td>267</td>\n",
              "      <td>1</td>\n",
              "      <td>0</td>\n",
              "      <td>0</td>\n",
              "    </tr>\n",
              "  </tbody>\n",
              "</table>\n",
              "<p>78298 rows × 43 columns</p>\n",
              "</div>\n",
              "      <button class=\"colab-df-convert\" onclick=\"convertToInteractive('df-6ed70fff-5bc9-4e0f-a956-303b2fe16d8e')\"\n",
              "              title=\"Convert this dataframe to an interactive table.\"\n",
              "              style=\"display:none;\">\n",
              "        \n",
              "  <svg xmlns=\"http://www.w3.org/2000/svg\" height=\"24px\"viewBox=\"0 0 24 24\"\n",
              "       width=\"24px\">\n",
              "    <path d=\"M0 0h24v24H0V0z\" fill=\"none\"/>\n",
              "    <path d=\"M18.56 5.44l.94 2.06.94-2.06 2.06-.94-2.06-.94-.94-2.06-.94 2.06-2.06.94zm-11 1L8.5 8.5l.94-2.06 2.06-.94-2.06-.94L8.5 2.5l-.94 2.06-2.06.94zm10 10l.94 2.06.94-2.06 2.06-.94-2.06-.94-.94-2.06-.94 2.06-2.06.94z\"/><path d=\"M17.41 7.96l-1.37-1.37c-.4-.4-.92-.59-1.43-.59-.52 0-1.04.2-1.43.59L10.3 9.45l-7.72 7.72c-.78.78-.78 2.05 0 2.83L4 21.41c.39.39.9.59 1.41.59.51 0 1.02-.2 1.41-.59l7.78-7.78 2.81-2.81c.8-.78.8-2.07 0-2.86zM5.41 20L4 18.59l7.72-7.72 1.47 1.35L5.41 20z\"/>\n",
              "  </svg>\n",
              "      </button>\n",
              "      \n",
              "  <style>\n",
              "    .colab-df-container {\n",
              "      display:flex;\n",
              "      flex-wrap:wrap;\n",
              "      gap: 12px;\n",
              "    }\n",
              "\n",
              "    .colab-df-convert {\n",
              "      background-color: #E8F0FE;\n",
              "      border: none;\n",
              "      border-radius: 50%;\n",
              "      cursor: pointer;\n",
              "      display: none;\n",
              "      fill: #1967D2;\n",
              "      height: 32px;\n",
              "      padding: 0 0 0 0;\n",
              "      width: 32px;\n",
              "    }\n",
              "\n",
              "    .colab-df-convert:hover {\n",
              "      background-color: #E2EBFA;\n",
              "      box-shadow: 0px 1px 2px rgba(60, 64, 67, 0.3), 0px 1px 3px 1px rgba(60, 64, 67, 0.15);\n",
              "      fill: #174EA6;\n",
              "    }\n",
              "\n",
              "    [theme=dark] .colab-df-convert {\n",
              "      background-color: #3B4455;\n",
              "      fill: #D2E3FC;\n",
              "    }\n",
              "\n",
              "    [theme=dark] .colab-df-convert:hover {\n",
              "      background-color: #434B5C;\n",
              "      box-shadow: 0px 1px 3px 1px rgba(0, 0, 0, 0.15);\n",
              "      filter: drop-shadow(0px 1px 2px rgba(0, 0, 0, 0.3));\n",
              "      fill: #FFFFFF;\n",
              "    }\n",
              "  </style>\n",
              "\n",
              "      <script>\n",
              "        const buttonEl =\n",
              "          document.querySelector('#df-6ed70fff-5bc9-4e0f-a956-303b2fe16d8e button.colab-df-convert');\n",
              "        buttonEl.style.display =\n",
              "          google.colab.kernel.accessAllowed ? 'block' : 'none';\n",
              "\n",
              "        async function convertToInteractive(key) {\n",
              "          const element = document.querySelector('#df-6ed70fff-5bc9-4e0f-a956-303b2fe16d8e');\n",
              "          const dataTable =\n",
              "            await google.colab.kernel.invokeFunction('convertToInteractive',\n",
              "                                                     [key], {});\n",
              "          if (!dataTable) return;\n",
              "\n",
              "          const docLinkHtml = 'Like what you see? Visit the ' +\n",
              "            '<a target=\"_blank\" href=https://colab.research.google.com/notebooks/data_table.ipynb>data table notebook</a>'\n",
              "            + ' to learn more about interactive tables.';\n",
              "          element.innerHTML = '';\n",
              "          dataTable['output_type'] = 'display_data';\n",
              "          await google.colab.output.renderOutput(dataTable, element);\n",
              "          const docLink = document.createElement('div');\n",
              "          docLink.innerHTML = docLinkHtml;\n",
              "          element.appendChild(docLink);\n",
              "        }\n",
              "      </script>\n",
              "    </div>\n",
              "  </div>\n",
              "  "
            ]
          },
          "metadata": {},
          "execution_count": 137
        }
      ]
    },
    {
      "cell_type": "code",
      "source": [
        "train = df4[df4.is_promoted.notnull()]\n",
        "test = df4[df4.is_promoted.isnull()]\n",
        "\n",
        "target = \"is_promoted\"\n",
        "predictors = [x for x in train.columns if x not in [\"employee_id\", \"is_promoted\"]]"
      ],
      "metadata": {
        "id": "zGdn88DQI5FV"
      },
      "id": "zGdn88DQI5FV",
      "execution_count": 138,
      "outputs": []
    },
    {
      "cell_type": "code",
      "source": [
        "train"
      ],
      "metadata": {
        "colab": {
          "base_uri": "https://localhost:8080/",
          "height": 505
        },
        "id": "Kpw90dzUpSyz",
        "outputId": "88a87995-d0a7-4c70-e9ae-bec0a760bfdc"
      },
      "id": "Kpw90dzUpSyz",
      "execution_count": 139,
      "outputs": [
        {
          "output_type": "execute_result",
          "data": {
            "text/plain": [
              "       employee_id  department    region  education  no_of_trainings  age  \\\n",
              "0            65438    0.072261  0.105299        3.0                1   35   \n",
              "1            65141    0.090020  0.112894        2.0                1   30   \n",
              "2             7513    0.072261  0.066909        2.0                1   34   \n",
              "3             2542    0.072261  0.110204        2.0                2   39   \n",
              "4            48945    0.106689  0.065840        2.0                1   45   \n",
              "...            ...         ...       ...        ...              ...  ...   \n",
              "54803         3030    0.106689  0.077685        2.0                1   48   \n",
              "54804        74592    0.090020  0.079914        3.0                1   37   \n",
              "54805        13918    0.095108  0.091814        2.0                1   27   \n",
              "54806        13614    0.072261  0.046599        NaN                1   29   \n",
              "54807        51526    0.059437  0.112894        2.0                1   27   \n",
              "\n",
              "       previous_year_rating  length_of_service  KPIs_met >80%  awards_won?  \\\n",
              "0                       5.0                  8              1            0   \n",
              "1                       5.0                  4              0            0   \n",
              "2                       3.0                  7              0            0   \n",
              "3                       1.0                 10              0            0   \n",
              "4                       3.0                  2              0            0   \n",
              "...                     ...                ...            ...          ...   \n",
              "54803                   3.0                 17              0            0   \n",
              "54804                   2.0                  6              0            0   \n",
              "54805                   5.0                  3              1            0   \n",
              "54806                   1.0                  2              0            0   \n",
              "54807                   1.0                  5              0            0   \n",
              "\n",
              "       ...  total_rookie_for_department  is_young_in_dep  better_score_in_dep  \\\n",
              "0      ...                       2096.0                1                    0   \n",
              "1      ...                        914.0                0                    0   \n",
              "2      ...                       2096.0                0                    0   \n",
              "3      ...                       2096.0                1                    0   \n",
              "4      ...                        881.0                1                    0   \n",
              "...    ...                          ...              ...                  ...   \n",
              "54803  ...                        881.0                1                    0   \n",
              "54804  ...                        914.0                1                    0   \n",
              "54805  ...                        777.0                0                    0   \n",
              "54806  ...                       2096.0                0                    0   \n",
              "54807  ...                        377.0                0                    0   \n",
              "\n",
              "       better_success_in_dep  better_prev_year_rating_in_dep  \\\n",
              "0                          1                               1   \n",
              "1                          0                               1   \n",
              "2                          0                               0   \n",
              "3                          0                               0   \n",
              "4                          0                               0   \n",
              "...                      ...                             ...   \n",
              "54803                      0                               0   \n",
              "54804                      0                               0   \n",
              "54805                      1                               1   \n",
              "54806                      0                               0   \n",
              "54807                      0                               0   \n",
              "\n",
              "       longer_len_of_service_rating_in_dep  total_training_score  gender_m  \\\n",
              "0                                        1                    49         0   \n",
              "1                                        0                    60         1   \n",
              "2                                        1                    50         1   \n",
              "3                                        1                   100         1   \n",
              "4                                        0                    73         1   \n",
              "...                                    ...                   ...       ...   \n",
              "54803                                    1                    78         1   \n",
              "54804                                    0                    56         0   \n",
              "54805                                    0                    79         1   \n",
              "54806                                    0                    45         1   \n",
              "54807                                    0                    49         1   \n",
              "\n",
              "       recruitment_channel_referred  recruitment_channel_sourcing  \n",
              "0                                 0                             1  \n",
              "1                                 0                             0  \n",
              "2                                 0                             1  \n",
              "3                                 0                             0  \n",
              "4                                 0                             0  \n",
              "...                             ...                           ...  \n",
              "54803                             0                             1  \n",
              "54804                             0                             0  \n",
              "54805                             0                             0  \n",
              "54806                             0                             1  \n",
              "54807                             0                             0  \n",
              "\n",
              "[54808 rows x 43 columns]"
            ],
            "text/html": [
              "\n",
              "  <div id=\"df-38c2ae44-c4f4-4164-80ce-e60d35adc436\">\n",
              "    <div class=\"colab-df-container\">\n",
              "      <div>\n",
              "<style scoped>\n",
              "    .dataframe tbody tr th:only-of-type {\n",
              "        vertical-align: middle;\n",
              "    }\n",
              "\n",
              "    .dataframe tbody tr th {\n",
              "        vertical-align: top;\n",
              "    }\n",
              "\n",
              "    .dataframe thead th {\n",
              "        text-align: right;\n",
              "    }\n",
              "</style>\n",
              "<table border=\"1\" class=\"dataframe\">\n",
              "  <thead>\n",
              "    <tr style=\"text-align: right;\">\n",
              "      <th></th>\n",
              "      <th>employee_id</th>\n",
              "      <th>department</th>\n",
              "      <th>region</th>\n",
              "      <th>education</th>\n",
              "      <th>no_of_trainings</th>\n",
              "      <th>age</th>\n",
              "      <th>previous_year_rating</th>\n",
              "      <th>length_of_service</th>\n",
              "      <th>KPIs_met &gt;80%</th>\n",
              "      <th>awards_won?</th>\n",
              "      <th>...</th>\n",
              "      <th>total_rookie_for_department</th>\n",
              "      <th>is_young_in_dep</th>\n",
              "      <th>better_score_in_dep</th>\n",
              "      <th>better_success_in_dep</th>\n",
              "      <th>better_prev_year_rating_in_dep</th>\n",
              "      <th>longer_len_of_service_rating_in_dep</th>\n",
              "      <th>total_training_score</th>\n",
              "      <th>gender_m</th>\n",
              "      <th>recruitment_channel_referred</th>\n",
              "      <th>recruitment_channel_sourcing</th>\n",
              "    </tr>\n",
              "  </thead>\n",
              "  <tbody>\n",
              "    <tr>\n",
              "      <th>0</th>\n",
              "      <td>65438</td>\n",
              "      <td>0.072261</td>\n",
              "      <td>0.105299</td>\n",
              "      <td>3.0</td>\n",
              "      <td>1</td>\n",
              "      <td>35</td>\n",
              "      <td>5.0</td>\n",
              "      <td>8</td>\n",
              "      <td>1</td>\n",
              "      <td>0</td>\n",
              "      <td>...</td>\n",
              "      <td>2096.0</td>\n",
              "      <td>1</td>\n",
              "      <td>0</td>\n",
              "      <td>1</td>\n",
              "      <td>1</td>\n",
              "      <td>1</td>\n",
              "      <td>49</td>\n",
              "      <td>0</td>\n",
              "      <td>0</td>\n",
              "      <td>1</td>\n",
              "    </tr>\n",
              "    <tr>\n",
              "      <th>1</th>\n",
              "      <td>65141</td>\n",
              "      <td>0.090020</td>\n",
              "      <td>0.112894</td>\n",
              "      <td>2.0</td>\n",
              "      <td>1</td>\n",
              "      <td>30</td>\n",
              "      <td>5.0</td>\n",
              "      <td>4</td>\n",
              "      <td>0</td>\n",
              "      <td>0</td>\n",
              "      <td>...</td>\n",
              "      <td>914.0</td>\n",
              "      <td>0</td>\n",
              "      <td>0</td>\n",
              "      <td>0</td>\n",
              "      <td>1</td>\n",
              "      <td>0</td>\n",
              "      <td>60</td>\n",
              "      <td>1</td>\n",
              "      <td>0</td>\n",
              "      <td>0</td>\n",
              "    </tr>\n",
              "    <tr>\n",
              "      <th>2</th>\n",
              "      <td>7513</td>\n",
              "      <td>0.072261</td>\n",
              "      <td>0.066909</td>\n",
              "      <td>2.0</td>\n",
              "      <td>1</td>\n",
              "      <td>34</td>\n",
              "      <td>3.0</td>\n",
              "      <td>7</td>\n",
              "      <td>0</td>\n",
              "      <td>0</td>\n",
              "      <td>...</td>\n",
              "      <td>2096.0</td>\n",
              "      <td>0</td>\n",
              "      <td>0</td>\n",
              "      <td>0</td>\n",
              "      <td>0</td>\n",
              "      <td>1</td>\n",
              "      <td>50</td>\n",
              "      <td>1</td>\n",
              "      <td>0</td>\n",
              "      <td>1</td>\n",
              "    </tr>\n",
              "    <tr>\n",
              "      <th>3</th>\n",
              "      <td>2542</td>\n",
              "      <td>0.072261</td>\n",
              "      <td>0.110204</td>\n",
              "      <td>2.0</td>\n",
              "      <td>2</td>\n",
              "      <td>39</td>\n",
              "      <td>1.0</td>\n",
              "      <td>10</td>\n",
              "      <td>0</td>\n",
              "      <td>0</td>\n",
              "      <td>...</td>\n",
              "      <td>2096.0</td>\n",
              "      <td>1</td>\n",
              "      <td>0</td>\n",
              "      <td>0</td>\n",
              "      <td>0</td>\n",
              "      <td>1</td>\n",
              "      <td>100</td>\n",
              "      <td>1</td>\n",
              "      <td>0</td>\n",
              "      <td>0</td>\n",
              "    </tr>\n",
              "    <tr>\n",
              "      <th>4</th>\n",
              "      <td>48945</td>\n",
              "      <td>0.106689</td>\n",
              "      <td>0.065840</td>\n",
              "      <td>2.0</td>\n",
              "      <td>1</td>\n",
              "      <td>45</td>\n",
              "      <td>3.0</td>\n",
              "      <td>2</td>\n",
              "      <td>0</td>\n",
              "      <td>0</td>\n",
              "      <td>...</td>\n",
              "      <td>881.0</td>\n",
              "      <td>1</td>\n",
              "      <td>0</td>\n",
              "      <td>0</td>\n",
              "      <td>0</td>\n",
              "      <td>0</td>\n",
              "      <td>73</td>\n",
              "      <td>1</td>\n",
              "      <td>0</td>\n",
              "      <td>0</td>\n",
              "    </tr>\n",
              "    <tr>\n",
              "      <th>...</th>\n",
              "      <td>...</td>\n",
              "      <td>...</td>\n",
              "      <td>...</td>\n",
              "      <td>...</td>\n",
              "      <td>...</td>\n",
              "      <td>...</td>\n",
              "      <td>...</td>\n",
              "      <td>...</td>\n",
              "      <td>...</td>\n",
              "      <td>...</td>\n",
              "      <td>...</td>\n",
              "      <td>...</td>\n",
              "      <td>...</td>\n",
              "      <td>...</td>\n",
              "      <td>...</td>\n",
              "      <td>...</td>\n",
              "      <td>...</td>\n",
              "      <td>...</td>\n",
              "      <td>...</td>\n",
              "      <td>...</td>\n",
              "      <td>...</td>\n",
              "    </tr>\n",
              "    <tr>\n",
              "      <th>54803</th>\n",
              "      <td>3030</td>\n",
              "      <td>0.106689</td>\n",
              "      <td>0.077685</td>\n",
              "      <td>2.0</td>\n",
              "      <td>1</td>\n",
              "      <td>48</td>\n",
              "      <td>3.0</td>\n",
              "      <td>17</td>\n",
              "      <td>0</td>\n",
              "      <td>0</td>\n",
              "      <td>...</td>\n",
              "      <td>881.0</td>\n",
              "      <td>1</td>\n",
              "      <td>0</td>\n",
              "      <td>0</td>\n",
              "      <td>0</td>\n",
              "      <td>1</td>\n",
              "      <td>78</td>\n",
              "      <td>1</td>\n",
              "      <td>0</td>\n",
              "      <td>1</td>\n",
              "    </tr>\n",
              "    <tr>\n",
              "      <th>54804</th>\n",
              "      <td>74592</td>\n",
              "      <td>0.090020</td>\n",
              "      <td>0.079914</td>\n",
              "      <td>3.0</td>\n",
              "      <td>1</td>\n",
              "      <td>37</td>\n",
              "      <td>2.0</td>\n",
              "      <td>6</td>\n",
              "      <td>0</td>\n",
              "      <td>0</td>\n",
              "      <td>...</td>\n",
              "      <td>914.0</td>\n",
              "      <td>1</td>\n",
              "      <td>0</td>\n",
              "      <td>0</td>\n",
              "      <td>0</td>\n",
              "      <td>0</td>\n",
              "      <td>56</td>\n",
              "      <td>0</td>\n",
              "      <td>0</td>\n",
              "      <td>0</td>\n",
              "    </tr>\n",
              "    <tr>\n",
              "      <th>54805</th>\n",
              "      <td>13918</td>\n",
              "      <td>0.095108</td>\n",
              "      <td>0.091814</td>\n",
              "      <td>2.0</td>\n",
              "      <td>1</td>\n",
              "      <td>27</td>\n",
              "      <td>5.0</td>\n",
              "      <td>3</td>\n",
              "      <td>1</td>\n",
              "      <td>0</td>\n",
              "      <td>...</td>\n",
              "      <td>777.0</td>\n",
              "      <td>0</td>\n",
              "      <td>0</td>\n",
              "      <td>1</td>\n",
              "      <td>1</td>\n",
              "      <td>0</td>\n",
              "      <td>79</td>\n",
              "      <td>1</td>\n",
              "      <td>0</td>\n",
              "      <td>0</td>\n",
              "    </tr>\n",
              "    <tr>\n",
              "      <th>54806</th>\n",
              "      <td>13614</td>\n",
              "      <td>0.072261</td>\n",
              "      <td>0.046599</td>\n",
              "      <td>NaN</td>\n",
              "      <td>1</td>\n",
              "      <td>29</td>\n",
              "      <td>1.0</td>\n",
              "      <td>2</td>\n",
              "      <td>0</td>\n",
              "      <td>0</td>\n",
              "      <td>...</td>\n",
              "      <td>2096.0</td>\n",
              "      <td>0</td>\n",
              "      <td>0</td>\n",
              "      <td>0</td>\n",
              "      <td>0</td>\n",
              "      <td>0</td>\n",
              "      <td>45</td>\n",
              "      <td>1</td>\n",
              "      <td>0</td>\n",
              "      <td>1</td>\n",
              "    </tr>\n",
              "    <tr>\n",
              "      <th>54807</th>\n",
              "      <td>51526</td>\n",
              "      <td>0.059437</td>\n",
              "      <td>0.112894</td>\n",
              "      <td>2.0</td>\n",
              "      <td>1</td>\n",
              "      <td>27</td>\n",
              "      <td>1.0</td>\n",
              "      <td>5</td>\n",
              "      <td>0</td>\n",
              "      <td>0</td>\n",
              "      <td>...</td>\n",
              "      <td>377.0</td>\n",
              "      <td>0</td>\n",
              "      <td>0</td>\n",
              "      <td>0</td>\n",
              "      <td>0</td>\n",
              "      <td>0</td>\n",
              "      <td>49</td>\n",
              "      <td>1</td>\n",
              "      <td>0</td>\n",
              "      <td>0</td>\n",
              "    </tr>\n",
              "  </tbody>\n",
              "</table>\n",
              "<p>54808 rows × 43 columns</p>\n",
              "</div>\n",
              "      <button class=\"colab-df-convert\" onclick=\"convertToInteractive('df-38c2ae44-c4f4-4164-80ce-e60d35adc436')\"\n",
              "              title=\"Convert this dataframe to an interactive table.\"\n",
              "              style=\"display:none;\">\n",
              "        \n",
              "  <svg xmlns=\"http://www.w3.org/2000/svg\" height=\"24px\"viewBox=\"0 0 24 24\"\n",
              "       width=\"24px\">\n",
              "    <path d=\"M0 0h24v24H0V0z\" fill=\"none\"/>\n",
              "    <path d=\"M18.56 5.44l.94 2.06.94-2.06 2.06-.94-2.06-.94-.94-2.06-.94 2.06-2.06.94zm-11 1L8.5 8.5l.94-2.06 2.06-.94-2.06-.94L8.5 2.5l-.94 2.06-2.06.94zm10 10l.94 2.06.94-2.06 2.06-.94-2.06-.94-.94-2.06-.94 2.06-2.06.94z\"/><path d=\"M17.41 7.96l-1.37-1.37c-.4-.4-.92-.59-1.43-.59-.52 0-1.04.2-1.43.59L10.3 9.45l-7.72 7.72c-.78.78-.78 2.05 0 2.83L4 21.41c.39.39.9.59 1.41.59.51 0 1.02-.2 1.41-.59l7.78-7.78 2.81-2.81c.8-.78.8-2.07 0-2.86zM5.41 20L4 18.59l7.72-7.72 1.47 1.35L5.41 20z\"/>\n",
              "  </svg>\n",
              "      </button>\n",
              "      \n",
              "  <style>\n",
              "    .colab-df-container {\n",
              "      display:flex;\n",
              "      flex-wrap:wrap;\n",
              "      gap: 12px;\n",
              "    }\n",
              "\n",
              "    .colab-df-convert {\n",
              "      background-color: #E8F0FE;\n",
              "      border: none;\n",
              "      border-radius: 50%;\n",
              "      cursor: pointer;\n",
              "      display: none;\n",
              "      fill: #1967D2;\n",
              "      height: 32px;\n",
              "      padding: 0 0 0 0;\n",
              "      width: 32px;\n",
              "    }\n",
              "\n",
              "    .colab-df-convert:hover {\n",
              "      background-color: #E2EBFA;\n",
              "      box-shadow: 0px 1px 2px rgba(60, 64, 67, 0.3), 0px 1px 3px 1px rgba(60, 64, 67, 0.15);\n",
              "      fill: #174EA6;\n",
              "    }\n",
              "\n",
              "    [theme=dark] .colab-df-convert {\n",
              "      background-color: #3B4455;\n",
              "      fill: #D2E3FC;\n",
              "    }\n",
              "\n",
              "    [theme=dark] .colab-df-convert:hover {\n",
              "      background-color: #434B5C;\n",
              "      box-shadow: 0px 1px 3px 1px rgba(0, 0, 0, 0.15);\n",
              "      filter: drop-shadow(0px 1px 2px rgba(0, 0, 0, 0.3));\n",
              "      fill: #FFFFFF;\n",
              "    }\n",
              "  </style>\n",
              "\n",
              "      <script>\n",
              "        const buttonEl =\n",
              "          document.querySelector('#df-38c2ae44-c4f4-4164-80ce-e60d35adc436 button.colab-df-convert');\n",
              "        buttonEl.style.display =\n",
              "          google.colab.kernel.accessAllowed ? 'block' : 'none';\n",
              "\n",
              "        async function convertToInteractive(key) {\n",
              "          const element = document.querySelector('#df-38c2ae44-c4f4-4164-80ce-e60d35adc436');\n",
              "          const dataTable =\n",
              "            await google.colab.kernel.invokeFunction('convertToInteractive',\n",
              "                                                     [key], {});\n",
              "          if (!dataTable) return;\n",
              "\n",
              "          const docLinkHtml = 'Like what you see? Visit the ' +\n",
              "            '<a target=\"_blank\" href=https://colab.research.google.com/notebooks/data_table.ipynb>data table notebook</a>'\n",
              "            + ' to learn more about interactive tables.';\n",
              "          element.innerHTML = '';\n",
              "          dataTable['output_type'] = 'display_data';\n",
              "          await google.colab.output.renderOutput(dataTable, element);\n",
              "          const docLink = document.createElement('div');\n",
              "          docLink.innerHTML = docLinkHtml;\n",
              "          element.appendChild(docLink);\n",
              "        }\n",
              "      </script>\n",
              "    </div>\n",
              "  </div>\n",
              "  "
            ]
          },
          "metadata": {},
          "execution_count": 139
        }
      ]
    },
    {
      "cell_type": "code",
      "source": [
        "from sklearn.model_selection import cross_val_score, train_test_split, StratifiedKFold\n",
        "from sklearn.metrics import f1_score, make_scorer"
      ],
      "metadata": {
        "id": "3-KobfETofV7"
      },
      "id": "3-KobfETofV7",
      "execution_count": 140,
      "outputs": []
    },
    {
      "cell_type": "code",
      "source": [
        "f1_scorer = make_scorer(f1_score)\n",
        "\n",
        "skf = StratifiedKFold(n_splits = 10, shuffle = True, random_state = 42)\n",
        "\n",
        "X_train, X_test, y_train, y_test = train_test_split(train[predictors], train[target], \n",
        "                                                    test_size = 0.2, \n",
        "                                                    stratify = train[target], \n",
        "                                                    random_state = 42)"
      ],
      "metadata": {
        "id": "OJI9Hx2SI5LL"
      },
      "id": "OJI9Hx2SI5LL",
      "execution_count": 141,
      "outputs": []
    },
    {
      "cell_type": "markdown",
      "source": [
        "<h1>Hyper Parameter Optimization</h1>"
      ],
      "metadata": {
        "id": "feWYzyOA9JLp"
      },
      "id": "feWYzyOA9JLp"
    },
    {
      "cell_type": "code",
      "source": [
        "from hyperopt import hp, tpe\n",
        "from hyperopt.fmin import fmin"
      ],
      "metadata": {
        "id": "mrClV5Hpo7PB"
      },
      "id": "mrClV5Hpo7PB",
      "execution_count": 142,
      "outputs": []
    },
    {
      "cell_type": "code",
      "source": [
        "# def objective(params):\n",
        "#     params = {\n",
        "#         'max_depth': int(params['max_depth']),\n",
        "#         'num_leaves': int(params['num_leaves']),\n",
        "#         'min_child_samples': int(params['min_child_samples']),\n",
        "#         'colsample_bytree': '{:.3f}'.format(params['colsample_bytree']),\n",
        "#         'subsample': '{:.3f}'.format(params['subsample']),\n",
        "#         'min_split_gain': '{:.3f}'.format(params['min_split_gain']),\n",
        "#         'scale_pos_weight': '{:.3f}'.format(params['scale_pos_weight']),\n",
        "#         'reg_alpha': '{:.3f}'.format(params['reg_alpha']),\n",
        "#         'reg_lambda': '{:.3f}'.format(params['reg_lambda']),\n",
        "#     }\n",
        "    \n",
        "#     clf = lgb.LGBMClassifier(\n",
        "#         n_estimators = 500,\n",
        "#         learning_rate = 0.1,\n",
        "#         n_jobs = -1,\n",
        "#         random_state = 42,\n",
        "#         **params\n",
        "#     )\n",
        "    \n",
        "#     score = cross_val_score(clf, X_train.values, y_train.values, scoring = f1_scorer, cv = skf).mean()\n",
        "#     print(\"F1-score {:.3f} params {}\".format(score, params))\n",
        "#     return -score\n",
        "\n",
        "# space = {\n",
        "#     \"max_depth\": hp.quniform('max_depth', 3, 10, 1),\n",
        "#     'num_leaves': hp.quniform('num_leaves', 20, 100, 10),\n",
        "#     'min_child_samples': hp.quniform('min_child_samples', 50, 150, 10),\n",
        "#     'colsample_bytree': hp.uniform('colsample_bytree', 0.3, 1.0),\n",
        "#     'subsample': hp.uniform('subsample', 0.3, 1.0),\n",
        "#     'min_split_gain': hp.uniform('min_split_gain', 0, 0.5),\n",
        "#     'scale_pos_weight': hp.uniform('scale_pos_weight', 2, 4),\n",
        "#     'reg_alpha': hp.uniform('reg_alpha', 0, 5),\n",
        "#     'reg_lambda': hp.uniform('reg_lambda', 0, 1),\n",
        "\n",
        "# }\n",
        "# rstate = np.random.RandomState(42)\n",
        "# best = fmin(fn = objective,\n",
        "#             space = space,\n",
        "#             algo = tpe.suggest,\n",
        "#             max_evals = 150,\n",
        "#             rstate = rstate)"
      ],
      "metadata": {
        "colab": {
          "base_uri": "https://localhost:8080/"
        },
        "id": "_4yyFxJXI5QO",
        "outputId": "34e3205d-d595-48fb-f033-3a709fc430cc"
      },
      "id": "_4yyFxJXI5QO",
      "execution_count": 143,
      "outputs": [
        {
          "output_type": "stream",
          "name": "stdout",
          "text": [
            "F1-score 0.501 params {'max_depth': 4, 'num_leaves': 60, 'min_child_samples': 70, 'colsample_bytree': '0.423', 'subsample': '0.618', 'min_split_gain': '0.149', 'scale_pos_weight': '3.665', 'reg_alpha': '1.597', 'reg_lambda': '0.069'}\n",
            "F1-score 0.502 params {'max_depth': 8, 'num_leaves': 70, 'min_child_samples': 90, 'colsample_bytree': '0.513', 'subsample': '0.587', 'min_split_gain': '0.207', 'scale_pos_weight': '3.455', 'reg_alpha': '1.579', 'reg_lambda': '0.933'}\n",
            "F1-score 0.493 params {'max_depth': 5, 'num_leaves': 90, 'min_child_samples': 60, 'colsample_bytree': '0.745', 'subsample': '0.886', 'min_split_gain': '0.031', 'scale_pos_weight': '3.767', 'reg_alpha': '4.756', 'reg_lambda': '0.303'}\n",
            "F1-score 0.495 params {'max_depth': 8, 'num_leaves': 40, 'min_child_samples': 70, 'colsample_bytree': '0.690', 'subsample': '0.611', 'min_split_gain': '0.227', 'scale_pos_weight': '3.837', 'reg_alpha': '2.167', 'reg_lambda': '0.105'}\n",
            "F1-score 0.509 params {'max_depth': 9, 'num_leaves': 60, 'min_child_samples': 130, 'colsample_bytree': '0.938', 'subsample': '0.869', 'min_split_gain': '0.048', 'scale_pos_weight': '2.344', 'reg_alpha': '4.014', 'reg_lambda': '0.598'}\n",
            "F1-score 0.516 params {'max_depth': 8, 'num_leaves': 90, 'min_child_samples': 90, 'colsample_bytree': '0.547', 'subsample': '0.860', 'min_split_gain': '0.359', 'scale_pos_weight': '2.876', 'reg_alpha': '3.579', 'reg_lambda': '0.527'}\n",
            "F1-score 0.491 params {'max_depth': 7, 'num_leaves': 80, 'min_child_samples': 100, 'colsample_bytree': '0.850', 'subsample': '0.814', 'min_split_gain': '0.186', 'scale_pos_weight': '3.879', 'reg_alpha': '0.942', 'reg_lambda': '0.164'}\n",
            "F1-score 0.506 params {'max_depth': 6, 'num_leaves': 70, 'min_child_samples': 110, 'colsample_bytree': '0.814', 'subsample': '0.732', 'min_split_gain': '0.297', 'scale_pos_weight': '3.551', 'reg_alpha': '4.372', 'reg_lambda': '0.359'}\n",
            "F1-score 0.498 params {'max_depth': 3, 'num_leaves': 50, 'min_child_samples': 110, 'colsample_bytree': '0.570', 'subsample': '0.680', 'min_split_gain': '0.026', 'scale_pos_weight': '3.840', 'reg_alpha': '4.188', 'reg_lambda': '0.496'}\n",
            "F1-score 0.496 params {'max_depth': 6, 'num_leaves': 50, 'min_child_samples': 50, 'colsample_bytree': '0.716', 'subsample': '0.969', 'min_split_gain': '0.106', 'scale_pos_weight': '3.401', 'reg_alpha': '2.079', 'reg_lambda': '0.872'}\n",
            "F1-score 0.500 params {'max_depth': 4, 'num_leaves': 70, 'min_child_samples': 80, 'colsample_bytree': '0.926', 'subsample': '0.303', 'min_split_gain': '0.137', 'scale_pos_weight': '3.636', 'reg_alpha': '1.273', 'reg_lambda': '0.741'}\n",
            "F1-score 0.516 params {'max_depth': 4, 'num_leaves': 50, 'min_child_samples': 110, 'colsample_bytree': '0.925', 'subsample': '0.915', 'min_split_gain': '0.360', 'scale_pos_weight': '2.717', 'reg_alpha': '2.563', 'reg_lambda': '0.487'}\n",
            "F1-score 0.517 params {'max_depth': 5, 'num_leaves': 60, 'min_child_samples': 90, 'colsample_bytree': '0.447', 'subsample': '0.917', 'min_split_gain': '0.193', 'scale_pos_weight': '2.615', 'reg_alpha': '1.542', 'reg_lambda': '0.960'}\n",
            "F1-score 0.511 params {'max_depth': 7, 'num_leaves': 80, 'min_child_samples': 60, 'colsample_bytree': '0.633', 'subsample': '0.669', 'min_split_gain': '0.087', 'scale_pos_weight': '2.026', 'reg_alpha': '1.874', 'reg_lambda': '0.850'}\n",
            "F1-score 0.493 params {'max_depth': 5, 'num_leaves': 40, 'min_child_samples': 140, 'colsample_bytree': '0.747', 'subsample': '0.746', 'min_split_gain': '0.049', 'scale_pos_weight': '3.842', 'reg_alpha': '2.465', 'reg_lambda': '0.238'}\n",
            "F1-score 0.516 params {'max_depth': 3, 'num_leaves': 20, 'min_child_samples': 80, 'colsample_bytree': '0.594', 'subsample': '0.708', 'min_split_gain': '0.002', 'scale_pos_weight': '3.280', 'reg_alpha': '3.672', 'reg_lambda': '0.369'}\n",
            "F1-score 0.521 params {'max_depth': 5, 'num_leaves': 30, 'min_child_samples': 80, 'colsample_bytree': '0.697', 'subsample': '0.661', 'min_split_gain': '0.278', 'scale_pos_weight': '2.249', 'reg_alpha': '4.505', 'reg_lambda': '0.291'}\n",
            "F1-score 0.512 params {'max_depth': 3, 'num_leaves': 80, 'min_child_samples': 120, 'colsample_bytree': '0.526', 'subsample': '0.784', 'min_split_gain': '0.471', 'scale_pos_weight': '3.362', 'reg_alpha': '4.102', 'reg_lambda': '0.495'}\n",
            "F1-score 0.510 params {'max_depth': 6, 'num_leaves': 100, 'min_child_samples': 120, 'colsample_bytree': '0.744', 'subsample': '0.502', 'min_split_gain': '0.335', 'scale_pos_weight': '3.389', 'reg_alpha': '3.521', 'reg_lambda': '0.811'}\n",
            "F1-score 0.500 params {'max_depth': 6, 'num_leaves': 100, 'min_child_samples': 100, 'colsample_bytree': '0.445', 'subsample': '0.578', 'min_split_gain': '0.353', 'scale_pos_weight': '3.750', 'reg_alpha': '0.107', 'reg_lambda': '0.840'}\n",
            "F1-score 0.521 params {'max_depth': 5, 'num_leaves': 20, 'min_child_samples': 90, 'colsample_bytree': '0.350', 'subsample': '0.416', 'min_split_gain': '0.279', 'scale_pos_weight': '2.436', 'reg_alpha': '0.492', 'reg_lambda': '0.667'}\n",
            "F1-score 0.518 params {'max_depth': 5, 'num_leaves': 20, 'min_child_samples': 80, 'colsample_bytree': '0.381', 'subsample': '0.396', 'min_split_gain': '0.427', 'scale_pos_weight': '2.017', 'reg_alpha': '0.190', 'reg_lambda': '0.643'}\n",
            "F1-score 0.522 params {'max_depth': 4, 'num_leaves': 30, 'min_child_samples': 70, 'colsample_bytree': '0.354', 'subsample': '0.485', 'min_split_gain': '0.273', 'scale_pos_weight': '2.273', 'reg_alpha': '2.972', 'reg_lambda': '0.679'}\n",
            "F1-score 0.519 params {'max_depth': 4, 'num_leaves': 30, 'min_child_samples': 60, 'colsample_bytree': '0.304', 'subsample': '0.428', 'min_split_gain': '0.416', 'scale_pos_weight': '2.384', 'reg_alpha': '3.007', 'reg_lambda': '0.702'}\n",
            "F1-score 0.513 params {'max_depth': 4, 'num_leaves': 30, 'min_child_samples': 70, 'colsample_bytree': '0.331', 'subsample': '0.325', 'min_split_gain': '0.263', 'scale_pos_weight': '3.116', 'reg_alpha': '0.634', 'reg_lambda': '0.614'}\n",
            "F1-score 0.520 params {'max_depth': 3, 'num_leaves': 20, 'min_child_samples': 150, 'colsample_bytree': '0.369', 'subsample': '0.502', 'min_split_gain': '0.303', 'scale_pos_weight': '2.540', 'reg_alpha': '2.959', 'reg_lambda': '0.756'}\n",
            "F1-score 0.516 params {'max_depth': 4, 'num_leaves': 40, 'min_child_samples': 50, 'colsample_bytree': '0.322', 'subsample': '0.376', 'min_split_gain': '0.239', 'scale_pos_weight': '2.098', 'reg_alpha': '2.999', 'reg_lambda': '0.991'}\n",
            "F1-score 0.520 params {'max_depth': 7, 'num_leaves': 30, 'min_child_samples': 90, 'colsample_bytree': '0.467', 'subsample': '0.482', 'min_split_gain': '0.397', 'scale_pos_weight': '2.191', 'reg_alpha': '2.689', 'reg_lambda': '0.684'}\n",
            "F1-score 0.515 params {'max_depth': 10, 'num_leaves': 20, 'min_child_samples': 70, 'colsample_bytree': '0.392', 'subsample': '0.544', 'min_split_gain': '0.482', 'scale_pos_weight': '2.856', 'reg_alpha': '0.638', 'reg_lambda': '0.565'}\n",
            "F1-score 0.518 params {'max_depth': 5, 'num_leaves': 40, 'min_child_samples': 70, 'colsample_bytree': '0.485', 'subsample': '0.445', 'min_split_gain': '0.163', 'scale_pos_weight': '2.470', 'reg_alpha': '3.293', 'reg_lambda': '0.414'}\n",
            "F1-score 0.521 params {'max_depth': 3, 'num_leaves': 30, 'min_child_samples': 100, 'colsample_bytree': '0.406', 'subsample': '0.350', 'min_split_gain': '0.321', 'scale_pos_weight': '2.698', 'reg_alpha': '1.289', 'reg_lambda': '0.790'}\n",
            "F1-score 0.520 params {'max_depth': 3, 'num_leaves': 50, 'min_child_samples': 120, 'colsample_bytree': '0.416', 'subsample': '0.346', 'min_split_gain': '0.318', 'scale_pos_weight': '3.076', 'reg_alpha': '1.123', 'reg_lambda': '0.905'}\n",
            "F1-score 0.521 params {'max_depth': 3, 'num_leaves': 30, 'min_child_samples': 100, 'colsample_bytree': '0.631', 'subsample': '0.355', 'min_split_gain': '0.383', 'scale_pos_weight': '2.729', 'reg_alpha': '4.962', 'reg_lambda': '0.782'}\n",
            "F1-score 0.520 params {'max_depth': 4, 'num_leaves': 40, 'min_child_samples': 140, 'colsample_bytree': '0.619', 'subsample': '0.540', 'min_split_gain': '0.442', 'scale_pos_weight': '2.895', 'reg_alpha': '4.854', 'reg_lambda': '0.727'}\n",
            "F1-score 0.516 params {'max_depth': 9, 'num_leaves': 30, 'min_child_samples': 60, 'colsample_bytree': '0.993', 'subsample': '0.612', 'min_split_gain': '0.388', 'scale_pos_weight': '2.277', 'reg_alpha': '4.978', 'reg_lambda': '0.931'}\n",
            "F1-score 0.519 params {'max_depth': 3, 'num_leaves': 60, 'min_child_samples': 130, 'colsample_bytree': '0.813', 'subsample': '0.469', 'min_split_gain': '0.457', 'scale_pos_weight': '2.744', 'reg_alpha': '4.544', 'reg_lambda': '0.567'}\n",
            "F1-score 0.515 params {'max_depth': 4, 'num_leaves': 40, 'min_child_samples': 110, 'colsample_bytree': '0.666', 'subsample': '0.302', 'min_split_gain': '0.220', 'scale_pos_weight': '3.171', 'reg_alpha': '3.797', 'reg_lambda': '0.425'}\n",
            "F1-score 0.516 params {'max_depth': 9, 'num_leaves': 50, 'min_child_samples': 100, 'colsample_bytree': '0.499', 'subsample': '0.541', 'min_split_gain': '0.499', 'scale_pos_weight': '2.976', 'reg_alpha': '3.392', 'reg_lambda': '0.021'}\n",
            "F1-score 0.514 params {'max_depth': 8, 'num_leaves': 20, 'min_child_samples': 90, 'colsample_bytree': '0.857', 'subsample': '0.375', 'min_split_gain': '0.382', 'scale_pos_weight': '2.167', 'reg_alpha': '3.907', 'reg_lambda': '0.992'}\n",
            "F1-score 0.520 params {'max_depth': 3, 'num_leaves': 70, 'min_child_samples': 50, 'colsample_bytree': '0.546', 'subsample': '0.633', 'min_split_gain': '0.240', 'scale_pos_weight': '2.560', 'reg_alpha': '2.110', 'reg_lambda': '0.790'}\n",
            "F1-score 0.512 params {'max_depth': 10, 'num_leaves': 50, 'min_child_samples': 110, 'colsample_bytree': '0.581', 'subsample': '0.584', 'min_split_gain': '0.209', 'scale_pos_weight': '2.809', 'reg_alpha': '4.724', 'reg_lambda': '0.899'}\n",
            "F1-score 0.518 params {'max_depth': 6, 'num_leaves': 30, 'min_child_samples': 130, 'colsample_bytree': '0.995', 'subsample': '0.461', 'min_split_gain': '0.160', 'scale_pos_weight': '2.317', 'reg_alpha': '2.321', 'reg_lambda': '0.610'}\n",
            "F1-score 0.514 params {'max_depth': 4, 'num_leaves': 90, 'min_child_samples': 80, 'colsample_bytree': '0.780', 'subsample': '0.392', 'min_split_gain': '0.134', 'scale_pos_weight': '2.627', 'reg_alpha': '1.713', 'reg_lambda': '0.161'}\n",
            "F1-score 0.514 params {'max_depth': 7, 'num_leaves': 40, 'min_child_samples': 90, 'colsample_bytree': '0.896', 'subsample': '0.517', 'min_split_gain': '0.345', 'scale_pos_weight': '3.031', 'reg_alpha': '4.241', 'reg_lambda': '0.541'}\n",
            "F1-score 0.514 params {'max_depth': 3, 'num_leaves': 60, 'min_child_samples': 70, 'colsample_bytree': '0.677', 'subsample': '0.328', 'min_split_gain': '0.260', 'scale_pos_weight': '3.239', 'reg_alpha': '2.725', 'reg_lambda': '0.454'}\n",
            "F1-score 0.495 params {'max_depth': 5, 'num_leaves': 50, 'min_child_samples': 60, 'colsample_bytree': '0.640', 'subsample': '0.420', 'min_split_gain': '0.369', 'scale_pos_weight': '3.955', 'reg_alpha': '1.934', 'reg_lambda': '0.641'}\n",
            "F1-score 0.511 params {'max_depth': 6, 'num_leaves': 70, 'min_child_samples': 100, 'colsample_bytree': '0.968', 'subsample': '0.820', 'min_split_gain': '0.185', 'scale_pos_weight': '2.943', 'reg_alpha': '3.260', 'reg_lambda': '0.335'}\n",
            "F1-score 0.519 params {'max_depth': 5, 'num_leaves': 40, 'min_child_samples': 120, 'colsample_bytree': '0.530', 'subsample': '0.703', 'min_split_gain': '0.290', 'scale_pos_weight': '2.464', 'reg_alpha': '1.511', 'reg_lambda': '0.764'}\n",
            "F1-score 0.518 params {'max_depth': 4, 'num_leaves': 60, 'min_child_samples': 80, 'colsample_bytree': '0.729', 'subsample': '0.571', 'min_split_gain': '0.106', 'scale_pos_weight': '2.113', 'reg_alpha': '4.585', 'reg_lambda': '0.842'}\n",
            "F1-score 0.506 params {'max_depth': 8, 'num_leaves': 30, 'min_child_samples': 110, 'colsample_bytree': '0.603', 'subsample': '0.439', 'min_split_gain': '0.407', 'scale_pos_weight': '3.518', 'reg_alpha': '4.300', 'reg_lambda': '0.718'}\n",
            "F1-score 0.520 params {'max_depth': 7, 'num_leaves': 80, 'min_child_samples': 90, 'colsample_bytree': '0.438', 'subsample': '0.647', 'min_split_gain': '0.332', 'scale_pos_weight': '2.782', 'reg_alpha': '2.404', 'reg_lambda': '0.937'}\n",
            "F1-score 0.520 params {'max_depth': 3, 'num_leaves': 20, 'min_child_samples': 60, 'colsample_bytree': '0.563', 'subsample': '0.966', 'min_split_gain': '0.070', 'scale_pos_weight': '2.656', 'reg_alpha': '4.977', 'reg_lambda': '0.874'}\n",
            "F1-score 0.515 params {'max_depth': 6, 'num_leaves': 50, 'min_child_samples': 140, 'colsample_bytree': '0.770', 'subsample': '0.355', 'min_split_gain': '0.497', 'scale_pos_weight': '2.377', 'reg_alpha': '3.768', 'reg_lambda': '0.520'}\n",
            "F1-score 0.516 params {'max_depth': 4, 'num_leaves': 20, 'min_child_samples': 100, 'colsample_bytree': '0.886', 'subsample': '0.304', 'min_split_gain': '0.374', 'scale_pos_weight': '2.538', 'reg_alpha': '0.945', 'reg_lambda': '0.653'}\n",
            "F1-score 0.517 params {'max_depth': 3, 'num_leaves': 30, 'min_child_samples': 80, 'colsample_bytree': '0.705', 'subsample': '0.765', 'min_split_gain': '0.443', 'scale_pos_weight': '2.080', 'reg_alpha': '4.092', 'reg_lambda': '0.246'}\n",
            "F1-score 0.504 params {'max_depth': 5, 'num_leaves': 40, 'min_child_samples': 130, 'colsample_bytree': '0.471', 'subsample': '0.489', 'min_split_gain': '0.311', 'scale_pos_weight': '3.647', 'reg_alpha': '2.891', 'reg_lambda': '0.572'}\n",
            "F1-score 0.517 params {'max_depth': 4, 'num_leaves': 90, 'min_child_samples': 120, 'colsample_bytree': '0.348', 'subsample': '0.399', 'min_split_gain': '0.276', 'scale_pos_weight': '2.231', 'reg_alpha': '2.236', 'reg_lambda': '0.472'}\n",
            "F1-score 0.512 params {'max_depth': 5, 'num_leaves': 20, 'min_child_samples': 50, 'colsample_bytree': '0.788', 'subsample': '0.605', 'min_split_gain': '0.419', 'scale_pos_weight': '2.006', 'reg_alpha': '3.512', 'reg_lambda': '0.813'}\n",
            "F1-score 0.498 params {'max_depth': 7, 'num_leaves': 70, 'min_child_samples': 150, 'colsample_bytree': '0.833', 'subsample': '0.688', 'min_split_gain': '0.188', 'scale_pos_weight': '3.306', 'reg_alpha': '0.250', 'reg_lambda': '0.372'}\n",
            "F1-score 0.518 params {'max_depth': 3, 'num_leaves': 50, 'min_child_samples': 110, 'colsample_bytree': '0.513', 'subsample': '0.519', 'min_split_gain': '0.226', 'scale_pos_weight': '3.150', 'reg_alpha': '3.993', 'reg_lambda': '0.977'}\n",
            "F1-score 0.516 params {'max_depth': 6, 'num_leaves': 60, 'min_child_samples': 80, 'colsample_bytree': '0.605', 'subsample': '0.559', 'min_split_gain': '0.355', 'scale_pos_weight': '2.314', 'reg_alpha': '3.125', 'reg_lambda': '0.756'}\n",
            "F1-score 0.508 params {'max_depth': 4, 'num_leaves': 30, 'min_child_samples': 70, 'colsample_bytree': '0.656', 'subsample': '0.725', 'min_split_gain': '0.293', 'scale_pos_weight': '3.474', 'reg_alpha': '2.642', 'reg_lambda': '0.696'}\n",
            "F1-score 0.507 params {'max_depth': 8, 'num_leaves': 20, 'min_child_samples': 50, 'colsample_bytree': '0.959', 'subsample': '0.452', 'min_split_gain': '0.007', 'scale_pos_weight': '2.580', 'reg_alpha': '4.423', 'reg_lambda': '0.268'}\n",
            "F1-score 0.519 params {'max_depth': 5, 'num_leaves': 30, 'min_child_samples': 90, 'colsample_bytree': '0.366', 'subsample': '0.994', 'min_split_gain': '0.256', 'scale_pos_weight': '2.846', 'reg_alpha': '1.889', 'reg_lambda': '0.169'}\n",
            "F1-score 0.516 params {'max_depth': 9, 'num_leaves': 40, 'min_child_samples': 100, 'colsample_bytree': '0.453', 'subsample': '0.323', 'min_split_gain': '0.469', 'scale_pos_weight': '2.429', 'reg_alpha': '4.795', 'reg_lambda': '0.623'}\n",
            "F1-score 0.519 params {'max_depth': 3, 'num_leaves': 30, 'min_child_samples': 110, 'colsample_bytree': '0.390', 'subsample': '0.373', 'min_split_gain': '0.326', 'scale_pos_weight': '2.909', 'reg_alpha': '1.386', 'reg_lambda': '0.795'}\n",
            "F1-score 0.519 params {'max_depth': 3, 'num_leaves': 20, 'min_child_samples': 100, 'colsample_bytree': '0.418', 'subsample': '0.353', 'min_split_gain': '0.339', 'scale_pos_weight': '2.695', 'reg_alpha': '1.105', 'reg_lambda': '0.876'}\n",
            "F1-score 0.524 params {'max_depth': 3, 'num_leaves': 40, 'min_child_samples': 110, 'colsample_bytree': '0.311', 'subsample': '0.335', 'min_split_gain': '0.397', 'scale_pos_weight': '2.719', 'reg_alpha': '0.519', 'reg_lambda': '0.683'}\n",
            "F1-score 0.516 params {'max_depth': 4, 'num_leaves': 40, 'min_child_samples': 120, 'colsample_bytree': '0.315', 'subsample': '0.403', 'min_split_gain': '0.435', 'scale_pos_weight': '2.508', 'reg_alpha': '0.414', 'reg_lambda': '0.670'}\n",
            "F1-score 0.516 params {'max_depth': 3, 'num_leaves': 40, 'min_child_samples': 110, 'colsample_bytree': '0.341', 'subsample': '0.424', 'min_split_gain': '0.396', 'scale_pos_weight': '2.779', 'reg_alpha': '1.025', 'reg_lambda': '0.598'}\n",
            "F1-score 0.520 params {'max_depth': 4, 'num_leaves': 50, 'min_child_samples': 130, 'colsample_bytree': '0.488', 'subsample': '0.473', 'min_split_gain': '0.406', 'scale_pos_weight': '2.673', 'reg_alpha': '0.785', 'reg_lambda': '0.729'}\n",
            "F1-score 0.518 params {'max_depth': 3, 'num_leaves': 30, 'min_child_samples': 90, 'colsample_bytree': '0.311', 'subsample': '0.308', 'min_split_gain': '0.466', 'scale_pos_weight': '3.042', 'reg_alpha': '1.712', 'reg_lambda': '0.518'}\n",
            "F1-score 0.519 params {'max_depth': 4, 'num_leaves': 20, 'min_child_samples': 120, 'colsample_bytree': '0.375', 'subsample': '0.332', 'min_split_gain': '0.364', 'scale_pos_weight': '2.608', 'reg_alpha': '2.847', 'reg_lambda': '0.834'}\n",
            "F1-score 0.515 params {'max_depth': 3, 'num_leaves': 40, 'min_child_samples': 110, 'colsample_bytree': '0.431', 'subsample': '0.382', 'min_split_gain': '0.270', 'scale_pos_weight': '2.166', 'reg_alpha': '0.715', 'reg_lambda': '0.955'}\n",
            "F1-score 0.519 params {'max_depth': 4, 'num_leaves': 30, 'min_child_samples': 100, 'colsample_bytree': '0.302', 'subsample': '0.520', 'min_split_gain': '0.306', 'scale_pos_weight': '2.370', 'reg_alpha': '3.168', 'reg_lambda': '0.404'}\n",
            "F1-score 0.511 params {'max_depth': 5, 'num_leaves': 40, 'min_child_samples': 90, 'colsample_bytree': '0.405', 'subsample': '0.500', 'min_split_gain': '0.449', 'scale_pos_weight': '3.228', 'reg_alpha': '1.976', 'reg_lambda': '0.543'}\n",
            "F1-score 0.515 params {'max_depth': 3, 'num_leaves': 50, 'min_child_samples': 140, 'colsample_bytree': '0.546', 'subsample': '0.440', 'min_split_gain': '0.382', 'scale_pos_weight': '2.419', 'reg_alpha': '3.464', 'reg_lambda': '0.579'}\n",
            "F1-score 0.518 params {'max_depth': 3, 'num_leaves': 20, 'min_child_samples': 100, 'colsample_bytree': '0.464', 'subsample': '0.361', 'min_split_gain': '0.481', 'scale_pos_weight': '2.968', 'reg_alpha': '3.632', 'reg_lambda': '0.772'}\n",
            "F1-score 0.495 params {'max_depth': 4, 'num_leaves': 30, 'min_child_samples': 120, 'colsample_bytree': '0.625', 'subsample': '0.409', 'min_split_gain': '0.238', 'scale_pos_weight': '3.714', 'reg_alpha': '2.518', 'reg_lambda': '0.689'}\n",
            "F1-score 0.518 params {'max_depth': 10, 'num_leaves': 40, 'min_child_samples': 70, 'colsample_bytree': '0.329', 'subsample': '0.319', 'min_split_gain': '0.423', 'scale_pos_weight': '2.270', 'reg_alpha': '1.667', 'reg_lambda': '0.903'}\n",
            "F1-score 0.520 params {'max_depth': 6, 'num_leaves': 50, 'min_child_samples': 80, 'colsample_bytree': '0.684', 'subsample': '0.602', 'min_split_gain': '0.344', 'scale_pos_weight': '2.747', 'reg_alpha': '4.634', 'reg_lambda': '0.629'}\n",
            "F1-score 0.516 params {'max_depth': 3, 'num_leaves': 60, 'min_child_samples': 60, 'colsample_bytree': '0.526', 'subsample': '0.835', 'min_split_gain': '0.216', 'scale_pos_weight': '3.108', 'reg_alpha': '0.323', 'reg_lambda': '0.712'}\n",
            "F1-score 0.511 params {'max_depth': 5, 'num_leaves': 20, 'min_child_samples': 130, 'colsample_bytree': '0.507', 'subsample': '0.899', 'min_split_gain': '0.127', 'scale_pos_weight': '2.844', 'reg_alpha': '1.467', 'reg_lambda': '0.473'}\n",
            "F1-score 0.498 params {'max_depth': 4, 'num_leaves': 30, 'min_child_samples': 110, 'colsample_bytree': '0.358', 'subsample': '0.340', 'min_split_gain': '0.200', 'scale_pos_weight': '3.594', 'reg_alpha': '1.186', 'reg_lambda': '0.820'}\n",
            "F1-score 0.517 params {'max_depth': 3, 'num_leaves': 30, 'min_child_samples': 90, 'colsample_bytree': '0.574', 'subsample': '0.366', 'min_split_gain': '0.286', 'scale_pos_weight': '2.918', 'reg_alpha': '0.048', 'reg_lambda': '0.441'}\n",
            "F1-score 0.518 params {'max_depth': 4, 'num_leaves': 40, 'min_child_samples': 80, 'colsample_bytree': '0.724', 'subsample': '0.635', 'min_split_gain': '0.172', 'scale_pos_weight': '2.067', 'reg_alpha': '0.531', 'reg_lambda': '0.743'}\n",
            "F1-score 0.517 params {'max_depth': 5, 'num_leaves': 20, 'min_child_samples': 100, 'colsample_bytree': '0.866', 'subsample': '0.481', 'min_split_gain': '0.490', 'scale_pos_weight': '2.518', 'reg_alpha': '3.774', 'reg_lambda': '0.929'}\n",
            "F1-score 0.517 params {'max_depth': 8, 'num_leaves': 50, 'min_child_samples': 120, 'colsample_bytree': '0.803', 'subsample': '0.556', 'min_split_gain': '0.243', 'scale_pos_weight': '2.214', 'reg_alpha': '2.169', 'reg_lambda': '0.660'}\n",
            "F1-score 0.514 params {'max_depth': 3, 'num_leaves': 60, 'min_child_samples': 130, 'colsample_bytree': '0.385', 'subsample': '0.456', 'min_split_gain': '0.402', 'scale_pos_weight': '2.151', 'reg_alpha': '0.880', 'reg_lambda': '0.539'}\n",
            "F1-score 0.518 params {'max_depth': 6, 'num_leaves': 40, 'min_child_samples': 60, 'colsample_bytree': '0.920', 'subsample': '0.434', 'min_split_gain': '0.457', 'scale_pos_weight': '2.483', 'reg_alpha': '4.376', 'reg_lambda': '0.854'}\n",
            "F1-score 0.513 params {'max_depth': 4, 'num_leaves': 30, 'min_child_samples': 140, 'colsample_bytree': '0.402', 'subsample': '0.531', 'min_split_gain': '0.314', 'scale_pos_weight': '2.318', 'reg_alpha': '2.364', 'reg_lambda': '0.784'}\n",
            "F1-score 0.508 params {'max_depth': 5, 'num_leaves': 20, 'min_child_samples': 110, 'colsample_bytree': '0.339', 'subsample': '0.499', 'min_split_gain': '0.430', 'scale_pos_weight': '3.351', 'reg_alpha': '1.802', 'reg_lambda': '0.596'}\n",
            "F1-score 0.524 params {'max_depth': 4, 'num_leaves': 70, 'min_child_samples': 70, 'colsample_bytree': '0.760', 'subsample': '0.301', 'min_split_gain': '0.376', 'scale_pos_weight': '2.638', 'reg_alpha': '4.899', 'reg_lambda': '0.500'}\n",
            "F1-score 0.517 params {'max_depth': 6, 'num_leaves': 70, 'min_child_samples': 70, 'colsample_bytree': '0.764', 'subsample': '0.391', 'min_split_gain': '0.350', 'scale_pos_weight': '3.008', 'reg_alpha': '3.307', 'reg_lambda': '0.322'}\n",
            "F1-score 0.511 params {'max_depth': 7, 'num_leaves': 80, 'min_child_samples': 50, 'colsample_bytree': '0.831', 'subsample': '0.662', 'min_split_gain': '0.297', 'scale_pos_weight': '2.580', 'reg_alpha': '2.048', 'reg_lambda': '0.507'}\n",
            "F1-score 0.517 params {'max_depth': 5, 'num_leaves': 90, 'min_child_samples': 60, 'colsample_bytree': '0.756', 'subsample': '0.302', 'min_split_gain': '0.359', 'scale_pos_weight': '2.642', 'reg_alpha': '2.833', 'reg_lambda': '0.370'}\n",
            "F1-score 0.520 params {'max_depth': 4, 'num_leaves': 70, 'min_child_samples': 70, 'colsample_bytree': '0.706', 'subsample': '0.413', 'min_split_gain': '0.372', 'scale_pos_weight': '2.797', 'reg_alpha': '2.637', 'reg_lambda': '0.202'}\n",
            "F1-score 0.515 params {'max_depth': 5, 'num_leaves': 80, 'min_child_samples': 80, 'colsample_bytree': '0.652', 'subsample': '0.758', 'min_split_gain': '0.391', 'scale_pos_weight': '2.044', 'reg_alpha': '3.910', 'reg_lambda': '0.027'}\n",
            "F1-score 0.517 params {'max_depth': 5, 'num_leaves': 80, 'min_child_samples': 50, 'colsample_bytree': '0.744', 'subsample': '0.573', 'min_split_gain': '0.329', 'scale_pos_weight': '2.119', 'reg_alpha': '1.310', 'reg_lambda': '0.384'}\n",
            "F1-score 0.518 params {'max_depth': 4, 'num_leaves': 70, 'min_child_samples': 70, 'colsample_bytree': '0.896', 'subsample': '0.315', 'min_split_gain': '0.412', 'scale_pos_weight': '2.353', 'reg_alpha': '4.183', 'reg_lambda': '0.310'}\n",
            "F1-score 0.517 params {'max_depth': 3, 'num_leaves': 100, 'min_child_samples': 60, 'colsample_bytree': '0.795', 'subsample': '0.593', 'min_split_gain': '0.148', 'scale_pos_weight': '2.434', 'reg_alpha': '3.040', 'reg_lambda': '0.092'}\n",
            "F1-score 0.508 params {'max_depth': 9, 'num_leaves': 60, 'min_child_samples': 50, 'colsample_bytree': '0.587', 'subsample': '0.624', 'min_split_gain': '0.266', 'scale_pos_weight': '2.870', 'reg_alpha': '1.581', 'reg_lambda': '0.286'}\n",
            "F1-score 0.520 params {'max_depth': 4, 'num_leaves': 100, 'min_child_samples': 80, 'colsample_bytree': '0.823', 'subsample': '0.463', 'min_split_gain': '0.321', 'scale_pos_weight': '2.729', 'reg_alpha': '4.453', 'reg_lambda': '0.346'}\n",
            "F1-score 0.501 params {'max_depth': 7, 'num_leaves': 90, 'min_child_samples': 70, 'colsample_bytree': '0.848', 'subsample': '0.340', 'min_split_gain': '0.059', 'scale_pos_weight': '3.184', 'reg_alpha': '2.251', 'reg_lambda': '0.450'}\n",
            "F1-score 0.525 params {'max_depth': 5, 'num_leaves': 70, 'min_child_samples': 150, 'colsample_bytree': '0.674', 'subsample': '0.379', 'min_split_gain': '0.282', 'scale_pos_weight': '2.478', 'reg_alpha': '4.036', 'reg_lambda': '0.679'}\n",
            "F1-score 0.518 params {'max_depth': 6, 'num_leaves': 80, 'min_child_samples': 150, 'colsample_bytree': '0.610', 'subsample': '0.379', 'min_split_gain': '0.254', 'scale_pos_weight': '2.597', 'reg_alpha': '4.893', 'reg_lambda': '0.417'}\n",
            "F1-score 0.522 params {'max_depth': 5, 'num_leaves': 70, 'min_child_samples': 140, 'colsample_bytree': '0.698', 'subsample': '0.427', 'min_split_gain': '0.336', 'scale_pos_weight': '2.486', 'reg_alpha': '4.755', 'reg_lambda': '0.645'}\n",
            "F1-score 0.516 params {'max_depth': 6, 'num_leaves': 70, 'min_child_samples': 140, 'colsample_bytree': '0.666', 'subsample': '0.874', 'min_split_gain': '0.284', 'scale_pos_weight': '3.064', 'reg_alpha': '4.681', 'reg_lambda': '0.494'}\n",
            "F1-score 0.524 params {'max_depth': 5, 'num_leaves': 90, 'min_child_samples': 150, 'colsample_bytree': '0.639', 'subsample': '0.792', 'min_split_gain': '0.176', 'scale_pos_weight': '2.549', 'reg_alpha': '4.309', 'reg_lambda': '0.553'}\n",
            "F1-score 0.512 params {'max_depth': 7, 'num_leaves': 90, 'min_child_samples': 150, 'colsample_bytree': '0.638', 'subsample': '0.800', 'min_split_gain': '0.109', 'scale_pos_weight': '2.825', 'reg_alpha': '4.295', 'reg_lambda': '0.554'}\n",
            "F1-score 0.519 params {'max_depth': 6, 'num_leaves': 100, 'min_child_samples': 150, 'colsample_bytree': '0.717', 'subsample': '0.964', 'min_split_gain': '0.117', 'scale_pos_weight': '2.300', 'reg_alpha': '4.022', 'reg_lambda': '0.579'}\n",
            "F1-score 0.517 params {'max_depth': 7, 'num_leaves': 90, 'min_child_samples': 150, 'colsample_bytree': '0.563', 'subsample': '0.727', 'min_split_gain': '0.088', 'scale_pos_weight': '2.403', 'reg_alpha': '3.640', 'reg_lambda': '0.745'}\n",
            "F1-score 0.516 params {'max_depth': 8, 'num_leaves': 90, 'min_child_samples': 140, 'colsample_bytree': '0.738', 'subsample': '0.916', 'min_split_gain': '0.229', 'scale_pos_weight': '2.684', 'reg_alpha': '3.412', 'reg_lambda': '0.677'}\n",
            "F1-score 0.514 params {'max_depth': 6, 'num_leaves': 80, 'min_child_samples': 130, 'colsample_bytree': '0.781', 'subsample': '0.826', 'min_split_gain': '0.173', 'scale_pos_weight': '2.957', 'reg_alpha': '4.495', 'reg_lambda': '0.590'}\n",
            "F1-score 0.513 params {'max_depth': 5, 'num_leaves': 100, 'min_child_samples': 150, 'colsample_bytree': '0.526', 'subsample': '0.939', 'min_split_gain': '0.014', 'scale_pos_weight': '2.554', 'reg_alpha': '4.068', 'reg_lambda': '0.395'}\n",
            "F1-score 0.516 params {'max_depth': 7, 'num_leaves': 80, 'min_child_samples': 150, 'colsample_bytree': '0.677', 'subsample': '0.848', 'min_split_gain': '0.092', 'scale_pos_weight': '2.454', 'reg_alpha': '4.188', 'reg_lambda': '0.709'}\n",
            "F1-score 0.514 params {'max_depth': 6, 'num_leaves': 100, 'min_child_samples': 140, 'colsample_bytree': '0.981', 'subsample': '0.785', 'min_split_gain': '0.146', 'scale_pos_weight': '2.750', 'reg_alpha': '3.936', 'reg_lambda': '0.619'}\n",
            "F1-score 0.504 params {'max_depth': 5, 'num_leaves': 60, 'min_child_samples': 130, 'colsample_bytree': '0.616', 'subsample': '0.803', 'min_split_gain': '0.205', 'scale_pos_weight': '3.424', 'reg_alpha': '3.171', 'reg_lambda': '0.429'}\n",
            "F1-score 0.520 params {'max_depth': 6, 'num_leaves': 80, 'min_child_samples': 150, 'colsample_bytree': '0.485', 'subsample': '0.713', 'min_split_gain': '0.040', 'scale_pos_weight': '2.202', 'reg_alpha': '3.788', 'reg_lambda': '0.860'}\n",
            "F1-score 0.508 params {'max_depth': 8, 'num_leaves': 90, 'min_child_samples': 140, 'colsample_bytree': '0.593', 'subsample': '0.694', 'min_split_gain': '0.073', 'scale_pos_weight': '3.093', 'reg_alpha': '3.523', 'reg_lambda': '0.828'}\n",
            "F1-score 0.514 params {'max_depth': 5, 'num_leaves': 60, 'min_child_samples': 120, 'colsample_bytree': '0.561', 'subsample': '0.898', 'min_split_gain': '0.177', 'scale_pos_weight': '2.241', 'reg_alpha': '2.746', 'reg_lambda': '0.469'}\n",
            "F1-score 0.507 params {'max_depth': 6, 'num_leaves': 50, 'min_child_samples': 140, 'colsample_bytree': '0.872', 'subsample': '0.941', 'min_split_gain': '0.215', 'scale_pos_weight': '2.887', 'reg_alpha': '0.183', 'reg_lambda': '0.885'}\n",
            "F1-score 0.516 params {'max_depth': 5, 'num_leaves': 70, 'min_child_samples': 130, 'colsample_bytree': '0.944', 'subsample': '0.750', 'min_split_gain': '0.196', 'scale_pos_weight': '2.356', 'reg_alpha': '3.704', 'reg_lambda': '0.732'}\n",
            "F1-score 0.505 params {'max_depth': 7, 'num_leaves': 100, 'min_child_samples': 150, 'colsample_bytree': '0.497', 'subsample': '0.852', 'min_split_gain': '0.157', 'scale_pos_weight': '3.277', 'reg_alpha': '3.277', 'reg_lambda': '0.525'}\n",
            "F1-score 0.500 params {'max_depth': 6, 'num_leaves': 80, 'min_child_samples': 130, 'colsample_bytree': '0.456', 'subsample': '0.739', 'min_split_gain': '0.249', 'scale_pos_weight': '3.903', 'reg_alpha': '4.123', 'reg_lambda': '0.795'}\n",
            "F1-score 0.520 params {'max_depth': 5, 'num_leaves': 90, 'min_child_samples': 150, 'colsample_bytree': '0.543', 'subsample': '0.783', 'min_split_gain': '0.131', 'scale_pos_weight': '2.518', 'reg_alpha': '4.332', 'reg_lambda': '0.644'}\n",
            "F1-score 0.506 params {'max_depth': 9, 'num_leaves': 60, 'min_child_samples': 120, 'colsample_bytree': '0.910', 'subsample': '0.769', 'min_split_gain': '0.229', 'scale_pos_weight': '3.136', 'reg_alpha': '3.852', 'reg_lambda': '0.605'}\n",
            "F1-score 0.518 params {'max_depth': 4, 'num_leaves': 70, 'min_child_samples': 130, 'colsample_bytree': '0.811', 'subsample': '0.890', 'min_split_gain': '0.161', 'scale_pos_weight': '2.941', 'reg_alpha': '4.992', 'reg_lambda': '0.688'}\n",
            "F1-score 0.519 params {'max_depth': 3, 'num_leaves': 50, 'min_child_samples': 140, 'colsample_bytree': '0.633', 'subsample': '0.673', 'min_split_gain': '0.304', 'scale_pos_weight': '2.998', 'reg_alpha': '4.523', 'reg_lambda': '0.758'}\n",
            "F1-score 0.516 params {'max_depth': 4, 'num_leaves': 80, 'min_child_samples': 120, 'colsample_bytree': '0.669', 'subsample': '0.656', 'min_split_gain': '0.184', 'scale_pos_weight': '2.655', 'reg_alpha': '2.562', 'reg_lambda': '0.355'}\n",
            "F1-score 0.522 params {'max_depth': 5, 'num_leaves': 90, 'min_child_samples': 140, 'colsample_bytree': '0.440', 'subsample': '0.997', 'min_split_gain': '0.139', 'scale_pos_weight': '2.710', 'reg_alpha': '4.610', 'reg_lambda': '0.558'}\n",
            "F1-score 0.517 params {'max_depth': 7, 'num_leaves': 50, 'min_child_samples': 150, 'colsample_bytree': '0.848', 'subsample': '0.641', 'min_split_gain': '0.279', 'scale_pos_weight': '2.766', 'reg_alpha': '2.457', 'reg_lambda': '0.218'}\n",
            "F1-score 0.520 params {'max_depth': 4, 'num_leaves': 60, 'min_child_samples': 130, 'colsample_bytree': '0.656', 'subsample': '0.682', 'min_split_gain': '0.263', 'scale_pos_weight': '2.139', 'reg_alpha': '3.042', 'reg_lambda': '0.808'}\n",
            "F1-score 0.518 params {'max_depth': 5, 'num_leaves': 100, 'min_child_samples': 110, 'colsample_bytree': '0.708', 'subsample': '0.868', 'min_split_gain': '0.241', 'scale_pos_weight': '2.005', 'reg_alpha': '3.576', 'reg_lambda': '0.670'}\n",
            "F1-score 0.519 params {'max_depth': 8, 'num_leaves': 80, 'min_child_samples': 140, 'colsample_bytree': '0.694', 'subsample': '0.980', 'min_split_gain': '0.478', 'scale_pos_weight': '2.406', 'reg_alpha': '4.827', 'reg_lambda': '0.977'}\n",
            "F1-score 0.516 params {'max_depth': 6, 'num_leaves': 70, 'min_child_samples': 120, 'colsample_bytree': '0.938', 'subsample': '0.716', 'min_split_gain': '0.121', 'scale_pos_weight': '2.541', 'reg_alpha': '3.327', 'reg_lambda': '0.626'}\n",
            "F1-score 0.502 params {'max_depth': 7, 'num_leaves': 60, 'min_child_samples': 150, 'colsample_bytree': '0.599', 'subsample': '0.552', 'min_split_gain': '0.208', 'scale_pos_weight': '3.201', 'reg_alpha': '0.520', 'reg_lambda': '0.916'}\n",
            "F1-score 0.508 params {'max_depth': 10, 'num_leaves': 90, 'min_child_samples': 90, 'colsample_bytree': '0.735', 'subsample': '0.939', 'min_split_gain': '0.095', 'scale_pos_weight': '2.610', 'reg_alpha': '4.226', 'reg_lambda': '0.476'}\n",
            "F1-score 0.521 params {'max_depth': 3, 'num_leaves': 70, 'min_child_samples': 130, 'colsample_bytree': '0.751', 'subsample': '0.618', 'min_split_gain': '0.053', 'scale_pos_weight': '2.318', 'reg_alpha': '2.789', 'reg_lambda': '0.530'}\n",
            "F1-score 0.518 params {'max_depth': 4, 'num_leaves': 80, 'min_child_samples': 110, 'colsample_bytree': '0.575', 'subsample': '0.802', 'min_split_gain': '0.073', 'scale_pos_weight': '2.183', 'reg_alpha': '1.787', 'reg_lambda': '0.128'}\n",
            "F1-score 0.521 params {'max_depth': 3, 'num_leaves': 70, 'min_child_samples': 140, 'colsample_bytree': '0.477', 'subsample': '0.842', 'min_split_gain': '0.032', 'scale_pos_weight': '2.812', 'reg_alpha': '2.913', 'reg_lambda': '0.713'}\n",
            "F1-score 0.515 params {'max_depth': 6, 'num_leaves': 100, 'min_child_samples': 120, 'colsample_bytree': '0.300', 'subsample': '0.530', 'min_split_gain': '0.293', 'scale_pos_weight': '2.269', 'reg_alpha': '0.007', 'reg_lambda': '0.575'}\n",
            "F1-score 0.517 params {'max_depth': 5, 'num_leaves': 50, 'min_child_samples': 150, 'colsample_bytree': '0.776', 'subsample': '0.395', 'min_split_gain': '0.437', 'scale_pos_weight': '3.034', 'reg_alpha': '0.862', 'reg_lambda': '0.772'}\n",
            "F1-score 0.516 params {'max_depth': 5, 'num_leaves': 60, 'min_child_samples': 100, 'colsample_bytree': '0.419', 'subsample': '0.774', 'min_split_gain': '0.315', 'scale_pos_weight': '2.061', 'reg_alpha': '1.412', 'reg_lambda': '0.253'}\n",
            "F1-score 0.518 params {'max_depth': 4, 'num_leaves': 40, 'min_child_samples': 130, 'colsample_bytree': '0.646', 'subsample': '0.875', 'min_split_gain': '0.221', 'scale_pos_weight': '2.489', 'reg_alpha': '1.034', 'reg_lambda': '1.000'}\n",
            "F1-score 0.520 params {'max_depth': 4, 'num_leaves': 70, 'min_child_samples': 90, 'colsample_bytree': '0.721', 'subsample': '0.337', 'min_split_gain': '0.381', 'scale_pos_weight': '2.666', 'reg_alpha': '4.936', 'reg_lambda': '0.457'}\n",
            "F1-score 0.519 params {'max_depth': 3, 'num_leaves': 70, 'min_child_samples': 60, 'colsample_bytree': '0.686', 'subsample': '0.301', 'min_split_gain': '0.450', 'scale_pos_weight': '2.449', 'reg_alpha': '4.827', 'reg_lambda': '0.513'}\n",
            "F1-score 0.521 params {'max_depth': 3, 'num_leaves': 80, 'min_child_samples': 80, 'colsample_bytree': '0.765', 'subsample': '0.351', 'min_split_gain': '0.363', 'scale_pos_weight': '2.574', 'reg_alpha': '4.414', 'reg_lambda': '0.490'}\n",
            "F1-score 0.519 params {'max_depth': 4, 'num_leaves': 70, 'min_child_samples': 60, 'colsample_bytree': '0.837', 'subsample': '0.328', 'min_split_gain': '0.350', 'scale_pos_weight': '2.859', 'reg_alpha': '4.013', 'reg_lambda': '0.654'}\n",
            "F1-score 0.522 params {'max_depth': 3, 'num_leaves': 60, 'min_child_samples': 70, 'colsample_bytree': '0.786', 'subsample': '0.362', 'min_split_gain': '0.424', 'scale_pos_weight': '2.785', 'reg_alpha': '4.618', 'reg_lambda': '0.554'}\n",
            "100%|██████████| 150/150 [57:39<00:00, 23.06s/it, best loss: -0.5252287802883477]\n"
          ]
        }
      ]
    },
    {
      "cell_type": "code",
      "source": [
        "# best"
      ],
      "metadata": {
        "colab": {
          "base_uri": "https://localhost:8080/"
        },
        "id": "xGJMi9oII5Vp",
        "outputId": "464fd779-49d9-44f0-ce2f-bd26ac2564e1"
      },
      "id": "xGJMi9oII5Vp",
      "execution_count": 144,
      "outputs": [
        {
          "output_type": "execute_result",
          "data": {
            "text/plain": [
              "{'colsample_bytree': 0.6737171291603058,\n",
              " 'max_depth': 5.0,\n",
              " 'min_child_samples': 150.0,\n",
              " 'min_split_gain': 0.28239372805140245,\n",
              " 'num_leaves': 70.0,\n",
              " 'reg_alpha': 4.036072453453611,\n",
              " 'reg_lambda': 0.6791763158662502,\n",
              " 'scale_pos_weight': 2.478283752108534,\n",
              " 'subsample': 0.37937752231315897}"
            ]
          },
          "metadata": {},
          "execution_count": 144
        }
      ]
    },
    {
      "cell_type": "code",
      "source": [
        "{'colsample_bytree': 0.6737171291603058,\n",
        " 'max_depth': 5.0,\n",
        " 'min_child_samples': 150.0,\n",
        " 'min_split_gain': 0.28239372805140245,\n",
        " 'num_leaves': 70.0,\n",
        " 'reg_alpha': 4.036072453453611,\n",
        " 'reg_lambda': 0.6791763158662502,\n",
        " 'scale_pos_weight': 2.478283752108534,\n",
        " 'subsample': 0.37937752231315897}"
      ],
      "metadata": {
        "id": "09PWgUn4I5aU"
      },
      "id": "09PWgUn4I5aU",
      "execution_count": 143,
      "outputs": []
    },
    {
      "cell_type": "code",
      "source": [
        "def lgb_f1_score(y_true, y_pred):\n",
        "    y_pred = np.round(y_pred)\n",
        "    return ('F1', f1_score(y_true, y_pred), True)"
      ],
      "metadata": {
        "id": "YqN0B-6KI5e7"
      },
      "id": "YqN0B-6KI5e7",
      "execution_count": 145,
      "outputs": []
    },
    {
      "cell_type": "code",
      "source": [
        "clf = lgb.LGBMClassifier(n_estimators = 500, learning_rate = 0.1, n_jobs = -1,random_state = 42, \n",
        "                         colsample_bytree = 0.6737171291603058, max_depth = 5, min_child_samples = 150,\n",
        "                         num_leaves = 70, scale_pos_weight = 2.478283752108534, \n",
        "                         subsample = 0.37937752231315897, min_split_gain = 0.07133977130970143, \n",
        "                         reg_alpha = 4.036072453453611, reg_lambda = 0.6791763158662502,boosting_type='dart')"
      ],
      "metadata": {
        "id": "PlNDQZy9I5jY"
      },
      "id": "PlNDQZy9I5jY",
      "execution_count": 151,
      "outputs": []
    },
    {
      "cell_type": "code",
      "source": [
        "clf.fit(train[predictors], train[target],\n",
        "        eval_set = [(train[predictors], train[target])], \n",
        "        eval_metric = lgb_f1_score, \n",
        "        \n",
        "        verbose=500)"
      ],
      "metadata": {
        "colab": {
          "base_uri": "https://localhost:8080/"
        },
        "id": "37ovWUXdJJGF",
        "outputId": "760f31a2-9814-4f3b-d9ba-513ed7e1571b"
      },
      "id": "37ovWUXdJJGF",
      "execution_count": 153,
      "outputs": [
        {
          "output_type": "stream",
          "name": "stdout",
          "text": [
            "[500]\tvalid_0's binary_logloss: 0.181407\tvalid_0's F1: 0.550247\n"
          ]
        },
        {
          "output_type": "execute_result",
          "data": {
            "text/plain": [
              "LGBMClassifier(boosting_type='dart', colsample_bytree=0.6737171291603058,\n",
              "               max_depth=5, min_child_samples=150,\n",
              "               min_split_gain=0.07133977130970143, n_estimators=500,\n",
              "               num_leaves=70, random_state=42, reg_alpha=4.036072453453611,\n",
              "               reg_lambda=0.6791763158662502,\n",
              "               scale_pos_weight=2.478283752108534,\n",
              "               subsample=0.37937752231315897)"
            ]
          },
          "metadata": {},
          "execution_count": 153
        }
      ]
    },
    {
      "cell_type": "markdown",
      "source": [
        "<h1>Prediction</h1>"
      ],
      "metadata": {
        "id": "1t74OgEw-tR2"
      },
      "id": "1t74OgEw-tR2"
    },
    {
      "cell_type": "code",
      "source": [
        "y_pred = clf.predict(test[predictors])\n",
        "preds = [int(round(x)) for x in y_pred]"
      ],
      "metadata": {
        "id": "AtafkdHjJJVy"
      },
      "id": "AtafkdHjJJVy",
      "execution_count": 154,
      "outputs": []
    },
    {
      "cell_type": "markdown",
      "source": [
        "# Saving the Submission file"
      ],
      "metadata": {
        "id": "KTXMr2NsIUIl"
      },
      "id": "KTXMr2NsIUIl"
    },
    {
      "cell_type": "code",
      "source": [
        "sub=pd.DataFrame({\"employee_id\": test_id, \"is_promoted\": preds})\n",
        "\n",
        "sub.to_csv(\"final_sub1.csv\", index=False)"
      ],
      "metadata": {
        "id": "qINGsqc14Wdw"
      },
      "id": "qINGsqc14Wdw",
      "execution_count": 155,
      "outputs": []
    },
    {
      "cell_type": "code",
      "source": [],
      "metadata": {
        "id": "r3_WI6OY5SCa"
      },
      "id": "r3_WI6OY5SCa",
      "execution_count": null,
      "outputs": []
    }
  ],
  "metadata": {
    "colab": {
      "provenance": []
    },
    "kernelspec": {
      "display_name": "Python 3 (ipykernel)",
      "language": "python",
      "name": "python3"
    },
    "language_info": {
      "codemirror_mode": {
        "name": "ipython",
        "version": 3
      },
      "file_extension": ".py",
      "mimetype": "text/x-python",
      "name": "python",
      "nbconvert_exporter": "python",
      "pygments_lexer": "ipython3",
      "version": "3.9.6"
    }
  },
  "nbformat": 4,
  "nbformat_minor": 5
}